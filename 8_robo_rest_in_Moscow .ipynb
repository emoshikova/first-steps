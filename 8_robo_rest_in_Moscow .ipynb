{
 "cells": [
  {
   "cell_type": "markdown",
   "metadata": {},
   "source": [
    "**Рынок заведений общественного питания Москвы**\n",
    "\n",
    "Вы решили открыть небольшое кафе в Москве. Оно оригинальное — гостей должны обслуживать роботы. Проект многообещающий, но дорогой. Вместе с партнёрами вы решились обратиться к инвесторам. Их интересует текущее положение дел на рынке — сможете ли вы снискать популярность на долгое время, когда все зеваки насмотрятся на роботов-официантов?\n",
    "Необходимо подготовить исследование рынка на основе открытых данных о заведениях общественного питания в Москве."
   ]
  },
  {
   "cell_type": "markdown",
   "metadata": {},
   "source": [
    "## Открытие файла с данными и изучение общей информации\n",
    "\n",
    "Для того, чтобы начать исследование, необходимо обновить и установить используемые в работе библиотеки:"
   ]
  },
  {
   "cell_type": "code",
   "execution_count": 1,
   "metadata": {},
   "outputs": [],
   "source": [
    "#обновим библиотеку, чтобы избежать \"поломок\" визуальзации"
   ]
  },
  {
   "cell_type": "code",
   "execution_count": 2,
   "metadata": {},
   "outputs": [
    {
     "name": "stdout",
     "output_type": "stream",
     "text": [
      "\u001b[33mWARNING: You are using pip version 20.2.2; however, version 21.0.1 is available.\n",
      "You should consider upgrading via the '/Users/esyutkina/opt/anaconda3/bin/python -m pip install --upgrade pip' command.\u001b[0m\n",
      "Note: you may need to restart the kernel to use updated packages.\n"
     ]
    }
   ],
   "source": [
    "pip install -U seaborn --quiet "
   ]
  },
  {
   "cell_type": "code",
   "execution_count": 3,
   "metadata": {},
   "outputs": [],
   "source": [
    "# данная библиотеку была необходима для получения данных из открытых источников (так как данные получены, я ее \"затушила\")\n",
    "# pip install -U geocoder --quiet "
   ]
  },
  {
   "cell_type": "code",
   "execution_count": 4,
   "metadata": {},
   "outputs": [],
   "source": [
    "# аналогично предыдущей\n",
    "# pip install -U yandex-geocoder --quiet "
   ]
  },
  {
   "cell_type": "code",
   "execution_count": 5,
   "metadata": {},
   "outputs": [],
   "source": [
    "# данная библиотеку необходима для визуализации карт с помощью kepler"
   ]
  },
  {
   "cell_type": "code",
   "execution_count": 6,
   "metadata": {},
   "outputs": [
    {
     "name": "stdout",
     "output_type": "stream",
     "text": [
      "\u001b[33mWARNING: You are using pip version 20.2.2; however, version 21.0.1 is available.\n",
      "You should consider upgrading via the '/Users/esyutkina/opt/anaconda3/bin/python -m pip install --upgrade pip' command.\u001b[0m\n",
      "Note: you may need to restart the kernel to use updated packages.\n"
     ]
    }
   ],
   "source": [
    "pip install -U ipywidgets --quiet "
   ]
  },
  {
   "cell_type": "code",
   "execution_count": 7,
   "metadata": {},
   "outputs": [],
   "source": [
    "# собственно сам kepler"
   ]
  },
  {
   "cell_type": "code",
   "execution_count": 8,
   "metadata": {},
   "outputs": [
    {
     "name": "stdout",
     "output_type": "stream",
     "text": [
      "\u001b[33mWARNING: You are using pip version 20.2.2; however, version 21.0.1 is available.\n",
      "You should consider upgrading via the '/Users/esyutkina/opt/anaconda3/bin/python -m pip install --upgrade pip' command.\u001b[0m\n",
      "Note: you may need to restart the kernel to use updated packages.\n"
     ]
    }
   ],
   "source": [
    "pip install -U keplergl --quiet "
   ]
  },
  {
   "cell_type": "code",
   "execution_count": 9,
   "metadata": {},
   "outputs": [],
   "source": [
    "#установим библиотеки, необходимые для исследования\n",
    "import pandas as pd\n",
    "import matplotlib.pyplot as plt\n",
    "import numpy as np\n",
    "import datetime as dt\n",
    "from scipy import stats as st\n",
    "import math as mth\n",
    "import seaborn as sns\n",
    "from io import BytesIO\n",
    "import requests\n",
    "# import geocoder\n",
    "import warnings\n",
    "import keplergl\n",
    "\n",
    "#устраним появляющиеся системные соообщения\n",
    "warnings.filterwarnings('ignore')\n",
    "\n",
    "#визуально выведем все колонки в таблице\n",
    "pd.set_option('max_columns', None)\n",
    "pd.set_option('max_colwidth', 120)\n",
    "pd.set_option('display.width', 500)"
   ]
  },
  {
   "cell_type": "code",
   "execution_count": 10,
   "metadata": {},
   "outputs": [
    {
     "data": {
      "text/html": [
       "<div>\n",
       "<style scoped>\n",
       "    .dataframe tbody tr th:only-of-type {\n",
       "        vertical-align: middle;\n",
       "    }\n",
       "\n",
       "    .dataframe tbody tr th {\n",
       "        vertical-align: top;\n",
       "    }\n",
       "\n",
       "    .dataframe thead th {\n",
       "        text-align: right;\n",
       "    }\n",
       "</style>\n",
       "<table border=\"1\" class=\"dataframe\">\n",
       "  <thead>\n",
       "    <tr style=\"text-align: right;\">\n",
       "      <th></th>\n",
       "      <th>id</th>\n",
       "      <th>object_name</th>\n",
       "      <th>chain</th>\n",
       "      <th>object_type</th>\n",
       "      <th>address</th>\n",
       "      <th>number</th>\n",
       "    </tr>\n",
       "  </thead>\n",
       "  <tbody>\n",
       "    <tr>\n",
       "      <td>0</td>\n",
       "      <td>151635</td>\n",
       "      <td>СМЕТАНА</td>\n",
       "      <td>нет</td>\n",
       "      <td>кафе</td>\n",
       "      <td>город Москва, улица Егора Абакумова, дом 9</td>\n",
       "      <td>48</td>\n",
       "    </tr>\n",
       "    <tr>\n",
       "      <td>1</td>\n",
       "      <td>77874</td>\n",
       "      <td>Родник</td>\n",
       "      <td>нет</td>\n",
       "      <td>кафе</td>\n",
       "      <td>город Москва, улица Талалихина, дом 2/1, корпус 1</td>\n",
       "      <td>35</td>\n",
       "    </tr>\n",
       "    <tr>\n",
       "      <td>2</td>\n",
       "      <td>24309</td>\n",
       "      <td>Кафе «Академия»</td>\n",
       "      <td>нет</td>\n",
       "      <td>кафе</td>\n",
       "      <td>город Москва, Абельмановская улица, дом 6</td>\n",
       "      <td>95</td>\n",
       "    </tr>\n",
       "    <tr>\n",
       "      <td>3</td>\n",
       "      <td>21894</td>\n",
       "      <td>ПИЦЦЕТОРИЯ</td>\n",
       "      <td>да</td>\n",
       "      <td>кафе</td>\n",
       "      <td>город Москва, Абрамцевская улица, дом 1</td>\n",
       "      <td>40</td>\n",
       "    </tr>\n",
       "    <tr>\n",
       "      <td>4</td>\n",
       "      <td>119365</td>\n",
       "      <td>Кафе «Вишневая метель»</td>\n",
       "      <td>нет</td>\n",
       "      <td>кафе</td>\n",
       "      <td>город Москва, Абрамцевская улица, дом 9, корпус 1</td>\n",
       "      <td>50</td>\n",
       "    </tr>\n",
       "  </tbody>\n",
       "</table>\n",
       "</div>"
      ],
      "text/plain": [
       "       id             object_name chain object_type                                            address  number\n",
       "0  151635                 СМЕТАНА   нет        кафе         город Москва, улица Егора Абакумова, дом 9      48\n",
       "1   77874                  Родник   нет        кафе  город Москва, улица Талалихина, дом 2/1, корпус 1      35\n",
       "2   24309         Кафе «Академия»   нет        кафе          город Москва, Абельмановская улица, дом 6      95\n",
       "3   21894              ПИЦЦЕТОРИЯ    да        кафе            город Москва, Абрамцевская улица, дом 1      40\n",
       "4  119365  Кафе «Вишневая метель»   нет        кафе  город Москва, Абрамцевская улица, дом 9, корпус 1      50"
      ]
     },
     "metadata": {},
     "output_type": "display_data"
    },
    {
     "name": "stdout",
     "output_type": "stream",
     "text": [
      "<class 'pandas.core.frame.DataFrame'>\n",
      "RangeIndex: 15366 entries, 0 to 15365\n",
      "Data columns (total 6 columns):\n",
      "id             15366 non-null int64\n",
      "object_name    15366 non-null object\n",
      "chain          15366 non-null object\n",
      "object_type    15366 non-null object\n",
      "address        15366 non-null object\n",
      "number         15366 non-null int64\n",
      "dtypes: int64(2), object(4)\n",
      "memory usage: 720.4+ KB\n",
      "None\n",
      "                  id        number\n",
      "count   15366.000000  15366.000000\n",
      "mean   119720.066901     59.547182\n",
      "std     73036.130732     74.736833\n",
      "min       838.000000      0.000000\n",
      "25%     28524.000000     12.000000\n",
      "50%    144974.500000     40.000000\n",
      "75%    184262.250000     80.000000\n",
      "max    223439.000000   1700.000000\n"
     ]
    }
   ],
   "source": [
    "#прочтем файлы с исходным данными и запишем их в датафрейм\n",
    "df = pd.read_csv('/Users/esyutkina/Desktop/Практикум/ 8 Исследование ресторанов Москвы/мой проект/rest_data (1).csv')\n",
    "#посмотрим на исходные данные\n",
    "display(df.head())\n",
    "print(df.info())\n",
    "print(df.describe())"
   ]
  },
  {
   "cell_type": "markdown",
   "metadata": {},
   "source": [
    "Обнаружены нулевые значения в количестве посадочных мест. Посмотрим каким видам объектов характерно отсутствие мест."
   ]
  },
  {
   "cell_type": "code",
   "execution_count": 11,
   "metadata": {},
   "outputs": [
    {
     "name": "stdout",
     "output_type": "stream",
     "text": [
      "['закусочная' 'предприятие быстрого обслуживания' 'столовая' 'кафетерий'\n",
      " 'кафе' 'магазин (отдел кулинарии)' 'буфет' 'бар' 'ресторан']\n"
     ]
    },
    {
     "data": {
      "text/html": [
       "<div>\n",
       "<style scoped>\n",
       "    .dataframe tbody tr th:only-of-type {\n",
       "        vertical-align: middle;\n",
       "    }\n",
       "\n",
       "    .dataframe tbody tr th {\n",
       "        vertical-align: top;\n",
       "    }\n",
       "\n",
       "    .dataframe thead th {\n",
       "        text-align: right;\n",
       "    }\n",
       "</style>\n",
       "<table border=\"1\" class=\"dataframe\">\n",
       "  <thead>\n",
       "    <tr style=\"text-align: right;\">\n",
       "      <th></th>\n",
       "      <th>object_type</th>\n",
       "      <th>number</th>\n",
       "    </tr>\n",
       "  </thead>\n",
       "  <tbody>\n",
       "    <tr>\n",
       "      <td>0</td>\n",
       "      <td>бар</td>\n",
       "      <td>35</td>\n",
       "    </tr>\n",
       "    <tr>\n",
       "      <td>1</td>\n",
       "      <td>буфет</td>\n",
       "      <td>32</td>\n",
       "    </tr>\n",
       "    <tr>\n",
       "      <td>2</td>\n",
       "      <td>закусочная</td>\n",
       "      <td>0</td>\n",
       "    </tr>\n",
       "    <tr>\n",
       "      <td>3</td>\n",
       "      <td>кафе</td>\n",
       "      <td>30</td>\n",
       "    </tr>\n",
       "    <tr>\n",
       "      <td>4</td>\n",
       "      <td>кафетерий</td>\n",
       "      <td>6</td>\n",
       "    </tr>\n",
       "    <tr>\n",
       "      <td>5</td>\n",
       "      <td>магазин (отдел кулинарии)</td>\n",
       "      <td>0</td>\n",
       "    </tr>\n",
       "    <tr>\n",
       "      <td>6</td>\n",
       "      <td>предприятие быстрого обслуживания</td>\n",
       "      <td>5</td>\n",
       "    </tr>\n",
       "    <tr>\n",
       "      <td>7</td>\n",
       "      <td>ресторан</td>\n",
       "      <td>80</td>\n",
       "    </tr>\n",
       "    <tr>\n",
       "      <td>8</td>\n",
       "      <td>столовая</td>\n",
       "      <td>103</td>\n",
       "    </tr>\n",
       "  </tbody>\n",
       "</table>\n",
       "</div>"
      ],
      "text/plain": [
       "                         object_type  number\n",
       "0                                бар      35\n",
       "1                              буфет      32\n",
       "2                         закусочная       0\n",
       "3                               кафе      30\n",
       "4                          кафетерий       6\n",
       "5          магазин (отдел кулинарии)       0\n",
       "6  предприятие быстрого обслуживания       5\n",
       "7                           ресторан      80\n",
       "8                           столовая     103"
      ]
     },
     "metadata": {},
     "output_type": "display_data"
    }
   ],
   "source": [
    "# выберем строки с нулевым количеством посадочных мест\n",
    "df_0 = df.loc[df['number'] == 0]\n",
    "# выведем виды объектов\n",
    "print(df_0['object_type'].unique())\n",
    "#создадим переменную для выбора медианы в зависимости от жилой площади\n",
    "number_median = df.groupby(['object_type']).agg({'number': 'median'}).reset_index()\n",
    "display(number_median)"
   ]
  },
  {
   "cell_type": "markdown",
   "metadata": {},
   "source": [
    "Видно, что нулевое количество мест характерно только закусочным и магазина (отделас кулинарии), что вполне логично. Остальные нули являются ошибками при выгрузке данных из открытых источников, поэтому заменим их на медианные значения относительно вида объекта."
   ]
  },
  {
   "cell_type": "code",
   "execution_count": 12,
   "metadata": {},
   "outputs": [],
   "source": [
    "#заменим нули в количестве посадочных мест на медианы в зависимости от вида объекта\n",
    "df.loc[(df['number'] == 0) & (df['object_type'] != 'закусочная') & (df['object_type'] != 'магазин (отдел кулинарии)'), 'number'] = number_median"
   ]
  },
  {
   "cell_type": "markdown",
   "metadata": {},
   "source": [
    "По исходным данным можно сказать, что визуально пропусков в данных не наблюдается (на основании метода info()). Типы данных логически соответствуют представленным данным. Изучим количество и качество уникальных значений в данных."
   ]
  },
  {
   "cell_type": "code",
   "execution_count": 13,
   "metadata": {},
   "outputs": [
    {
     "name": "stdout",
     "output_type": "stream",
     "text": [
      "\n",
      "количество уникальных типов заведений: 9\n",
      "\n",
      "ТИПЫ ОБЪЕКТОВ\n",
      "кафе\n",
      "столовая\n",
      "закусочная\n",
      "предприятие быстрого обслуживания\n",
      "ресторан\n",
      "кафетерий\n",
      "буфет\n",
      "бар\n",
      "магазин (отдел кулинарии)\n",
      "\n",
      "количество уникальных объктов: 15366\n"
     ]
    }
   ],
   "source": [
    "# исследуем уникальные значения в названиях типов заведени\n",
    "print('\\nколичество уникальных типов заведений:', df['object_type'].nunique())\n",
    "print('\\nТИПЫ ОБЪЕКТОВ')\n",
    "for object in df['object_type'].unique():\n",
    "    print(object)   \n",
    "print('\\nколичество уникальных объктов:', df['id'].nunique())"
   ]
  },
  {
   "cell_type": "markdown",
   "metadata": {},
   "source": [
    "Все объекты в данных имеют уникальный идентификатор, что значит, что полных дубликатов не имеется. Типы объектов без аномалий."
   ]
  },
  {
   "cell_type": "code",
   "execution_count": 14,
   "metadata": {},
   "outputs": [
    {
     "name": "stdout",
     "output_type": "stream",
     "text": [
      "\n",
      "количество уникальных названий заведений: 10393\n",
      "\n",
      "уникальные названия заведений: ['СМЕТАНА' 'Родник' 'Кафе «Академия»' ... 'Бар Мята Lounge'\n",
      " 'Мята Lounge Октябрьская' 'Кальянная «Мята Lounge»']\n"
     ]
    }
   ],
   "source": [
    "# исследуем уникальные значения в названиях заведений\n",
    "print('\\nколичество уникальных названий заведений:', df['object_name'].nunique())\n",
    "print('\\nуникальные названия заведений:', df['object_name'].unique())"
   ]
  },
  {
   "cell_type": "markdown",
   "metadata": {},
   "source": [
    "Уникальных названий заведений 10393 - не исключено, что часть из них уникальны из-за разного написания названий одних и тех же объектов. На постановку вопросов исследования названия объектов не осказывают влияния, поэтому спишем эту ошибку на методологию составления открытых данных."
   ]
  },
  {
   "cell_type": "code",
   "execution_count": 15,
   "metadata": {},
   "outputs": [
    {
     "name": "stdout",
     "output_type": "stream",
     "text": [
      "\n",
      "ПРИЗНАК СЕТИ\n",
      "нет\n",
      "да\n"
     ]
    }
   ],
   "source": [
    "# исследуем уникальные значения в названиях признака сети\n",
    "print('\\nПРИЗНАК СЕТИ')\n",
    "for chain in df['chain'].unique():\n",
    "    print(chain)   "
   ]
  },
  {
   "cell_type": "markdown",
   "metadata": {},
   "source": [
    "Для дальнейшей визуализации переименуем признак сети."
   ]
  },
  {
   "cell_type": "code",
   "execution_count": 16,
   "metadata": {},
   "outputs": [],
   "source": [
    "# создадим функцию для переименования признака сети\n",
    "def rename_chain(chain):\n",
    "        if chain == 'да':\n",
    "            return 'сетевой'   \n",
    "        else:\n",
    "            return 'не сетевой'\n",
    "# применим фунцию       \n",
    "df['chain'] = df['chain'].apply(rename_chain)"
   ]
  },
  {
   "cell_type": "markdown",
   "metadata": {},
   "source": [
    "Для дальнейшего исследования нам необходимы дополнительные данные из открытых источников - названия округов, а также координаты. Для того, чтобы получить координаты нам необходимо выбрать все уникальные адреса, создать запрос к внешнему источнику и сохранить полученные данные для дальнейшего использования. Было предпринято несколько попыток получения данных, опишу два более менее успешных из них. Код закомментирован ввиду того, что данные были уже получены. "
   ]
  },
  {
   "cell_type": "code",
   "execution_count": 17,
   "metadata": {},
   "outputs": [],
   "source": [
    "## формируем список уникальных адресов\n",
    "# streets = df['address'].unique()\n",
    "# streets_un = df.drop_duplicates('address').reset_index()\n",
    "# un = streets_un['address'].unique()\n",
    "# un"
   ]
  },
  {
   "cell_type": "markdown",
   "metadata": {},
   "source": [
    "- первым способом получения данных я выбрала обращение к библиотеке **yandex_geocoder** (https://github.com/sivakov512/yandex-geocoder). Для работы с ней мне необходимо было получить API ключ в кабинете разработчика Яндекс и на бесплатном тарифе создать запросы. Бесплатный тариф включал в себя ограничения (с которыми я познакомилась уже когда мой аккаунт заблокировали) в 1000 запросов. Превысив лимит в 4 раза, мой аккаунт заблокировали. (-_-)"
   ]
  },
  {
   "cell_type": "code",
   "execution_count": 18,
   "metadata": {},
   "outputs": [],
   "source": [
    "## способ 1 \n",
    "## устанавливаем необходимые библиотеки \n",
    "# from decimal import Decimal\n",
    "# from yandex_geocoder import Client\n",
    "## прописываем API\n",
    "# client = Client('f3263d64-cc49-41d9-b1bb-1f9d90c77443')\n",
    "## создаем пустой датафрем для дальнейшей записи данных\n",
    "# df_address = pd.DataFrame(columns=['address','lat','lot'])\n",
    "## прописываем цикл запроса данных и их записи\n",
    "# for i in un:\n",
    "#     coordinates = client.coordinates(i)\n",
    "#     df_address.loc[i] = [i, coordinates[0], coordinates[1]]\n",
    "## записываем полученные данные в csv файл\n",
    "# df_address.to_csv('adress-reserve.csv', index=False) "
   ]
  },
  {
   "cell_type": "markdown",
   "metadata": {},
   "source": [
    " - после проваленной попытки работы с **yandex_geocoder**, я перешла к тестированию библиотеки **geocoder**, а именно начала создавать запрос к **arcgis** (https://geocoder.readthedocs.io/providers/ArcGIS.html). Методика запроса аналогична предыдущему способу, только исключает использование ключа - все те же уникальные адреса я отправляла в запросе и полученные данные писала в файл. Часть нераспознаных адресов была не записана, но 8 тыс. адресов из 9 тыс. были распознаны и получили свои координаты. "
   ]
  },
  {
   "cell_type": "code",
   "execution_count": 19,
   "metadata": {},
   "outputs": [],
   "source": [
    "## способ 2 (успешный)\n",
    "## создаем пустой датафрем для дальнейшей записи данных\n",
    "# df_address = pd.DataFrame(columns=['address','lat','lot'])\n",
    "## прописываем цикл запроса данных и их записи\n",
    "# for i in un:\n",
    "#     g = geocoder.arcgis(i)\n",
    "#     df_address.loc[i] = [i, g.latlng[0], g.latlng[1]]\n",
    "## записываем полученные данные в csv файл\n",
    "# df_address.to_csv('adress-arcgis.csv', index=False) "
   ]
  },
  {
   "cell_type": "markdown",
   "metadata": {},
   "source": [
    "Далее файл с полученными данными я импортировала в Google Sheets и создала соединение в Notebook."
   ]
  },
  {
   "cell_type": "code",
   "execution_count": 20,
   "metadata": {},
   "outputs": [
    {
     "data": {
      "text/html": [
       "<div>\n",
       "<style scoped>\n",
       "    .dataframe tbody tr th:only-of-type {\n",
       "        vertical-align: middle;\n",
       "    }\n",
       "\n",
       "    .dataframe tbody tr th {\n",
       "        vertical-align: top;\n",
       "    }\n",
       "\n",
       "    .dataframe thead th {\n",
       "        text-align: right;\n",
       "    }\n",
       "</style>\n",
       "<table border=\"1\" class=\"dataframe\">\n",
       "  <thead>\n",
       "    <tr style=\"text-align: right;\">\n",
       "      <th></th>\n",
       "      <th>address</th>\n",
       "      <th>lat</th>\n",
       "      <th>lon</th>\n",
       "    </tr>\n",
       "  </thead>\n",
       "  <tbody>\n",
       "    <tr>\n",
       "      <td>0</td>\n",
       "      <td>город Москва, улица Егора Абакумова, дом 9</td>\n",
       "      <td>55.879030</td>\n",
       "      <td>37.714530</td>\n",
       "    </tr>\n",
       "    <tr>\n",
       "      <td>1</td>\n",
       "      <td>город Москва, улица Талалихина, дом 2/1, корпус 1</td>\n",
       "      <td>55.507320</td>\n",
       "      <td>37.579440</td>\n",
       "    </tr>\n",
       "    <tr>\n",
       "      <td>2</td>\n",
       "      <td>город Москва, Абельмановская улица, дом 6</td>\n",
       "      <td>55.735580</td>\n",
       "      <td>37.669590</td>\n",
       "    </tr>\n",
       "    <tr>\n",
       "      <td>3</td>\n",
       "      <td>город Москва, Абрамцевская улица, дом 1</td>\n",
       "      <td>55.892780</td>\n",
       "      <td>37.573040</td>\n",
       "    </tr>\n",
       "    <tr>\n",
       "      <td>4</td>\n",
       "      <td>город Москва, Абрамцевская улица, дом 9, корпус 1</td>\n",
       "      <td>55.904488</td>\n",
       "      <td>37.574018</td>\n",
       "    </tr>\n",
       "    <tr>\n",
       "      <td>...</td>\n",
       "      <td>...</td>\n",
       "      <td>...</td>\n",
       "      <td>...</td>\n",
       "    </tr>\n",
       "    <tr>\n",
       "      <td>8028</td>\n",
       "      <td>Алтуфьевское шоссе, дом 52А</td>\n",
       "      <td>55.878030</td>\n",
       "      <td>37.588560</td>\n",
       "    </tr>\n",
       "    <tr>\n",
       "      <td>8029</td>\n",
       "      <td>город Москва, Хорошёвское шоссе, дом 1</td>\n",
       "      <td>55.773350</td>\n",
       "      <td>37.543950</td>\n",
       "    </tr>\n",
       "    <tr>\n",
       "      <td>8030</td>\n",
       "      <td>город Москва, улица Менжинского, дом 38, корпус 2, строение 2</td>\n",
       "      <td>55.870468</td>\n",
       "      <td>37.660066</td>\n",
       "    </tr>\n",
       "    <tr>\n",
       "      <td>8031</td>\n",
       "      <td>город Москва, Верхняя Красносельская улица, дом 38/19, строение 1</td>\n",
       "      <td>55.779666</td>\n",
       "      <td>37.665406</td>\n",
       "    </tr>\n",
       "    <tr>\n",
       "      <td>8032</td>\n",
       "      <td>город Москва, Ленинский проспект, дом 101</td>\n",
       "      <td>55.666640</td>\n",
       "      <td>37.515520</td>\n",
       "    </tr>\n",
       "  </tbody>\n",
       "</table>\n",
       "<p>8033 rows × 3 columns</p>\n",
       "</div>"
      ],
      "text/plain": [
       "                                                                address        lat        lon\n",
       "0                            город Москва, улица Егора Абакумова, дом 9  55.879030  37.714530\n",
       "1                     город Москва, улица Талалихина, дом 2/1, корпус 1  55.507320  37.579440\n",
       "2                             город Москва, Абельмановская улица, дом 6  55.735580  37.669590\n",
       "3                               город Москва, Абрамцевская улица, дом 1  55.892780  37.573040\n",
       "4                     город Москва, Абрамцевская улица, дом 9, корпус 1  55.904488  37.574018\n",
       "...                                                                 ...        ...        ...\n",
       "8028                                        Алтуфьевское шоссе, дом 52А  55.878030  37.588560\n",
       "8029                             город Москва, Хорошёвское шоссе, дом 1  55.773350  37.543950\n",
       "8030      город Москва, улица Менжинского, дом 38, корпус 2, строение 2  55.870468  37.660066\n",
       "8031  город Москва, Верхняя Красносельская улица, дом 38/19, строение 1  55.779666  37.665406\n",
       "8032                          город Москва, Ленинский проспект, дом 101  55.666640  37.515520\n",
       "\n",
       "[8033 rows x 3 columns]"
      ]
     },
     "execution_count": 20,
     "metadata": {},
     "output_type": "execute_result"
    }
   ],
   "source": [
    "# создаем соединение с Google Sheets\n",
    "spreadsheet_id = '1i3zM2GUueD7-cvFTWqgmdWhSLaTQiWgpxZLMbYoKTS0'\n",
    "file_name = 'https://docs.google.com/spreadsheets/d/{}/export?format=csv'.format(spreadsheet_id)\n",
    "r = requests.get(file_name)\n",
    "# записываем данные в датафрейм\n",
    "df_geo = pd.read_csv(BytesIO(r.content))\n",
    "# выводим датафрейм\n",
    "df_geo"
   ]
  },
  {
   "cell_type": "markdown",
   "metadata": {},
   "source": [
    "Данные с координатами были получены. Данные с округами (https://github.com/Distans/temp/blob/main/mosgaz-streets.csv) во избежание удаления файла (в дальнейшем он и правда был удален) были перенесены в Google Sheets. Аналогично предыдущему создано соединение с таблицей."
   ]
  },
  {
   "cell_type": "code",
   "execution_count": 21,
   "metadata": {},
   "outputs": [
    {
     "data": {
      "text/html": [
       "<div>\n",
       "<style scoped>\n",
       "    .dataframe tbody tr th:only-of-type {\n",
       "        vertical-align: middle;\n",
       "    }\n",
       "\n",
       "    .dataframe tbody tr th {\n",
       "        vertical-align: top;\n",
       "    }\n",
       "\n",
       "    .dataframe thead th {\n",
       "        text-align: right;\n",
       "    }\n",
       "</style>\n",
       "<table border=\"1\" class=\"dataframe\">\n",
       "  <thead>\n",
       "    <tr style=\"text-align: right;\">\n",
       "      <th></th>\n",
       "      <th>street</th>\n",
       "      <th>area</th>\n",
       "    </tr>\n",
       "  </thead>\n",
       "  <tbody>\n",
       "    <tr>\n",
       "      <td>0</td>\n",
       "      <td>Выставочный переулок</td>\n",
       "      <td>Пресненский район</td>\n",
       "    </tr>\n",
       "    <tr>\n",
       "      <td>1</td>\n",
       "      <td>улица Гашека</td>\n",
       "      <td>Пресненский район</td>\n",
       "    </tr>\n",
       "    <tr>\n",
       "      <td>2</td>\n",
       "      <td>Большая Никитская улица</td>\n",
       "      <td>Пресненский район</td>\n",
       "    </tr>\n",
       "    <tr>\n",
       "      <td>3</td>\n",
       "      <td>Глубокий переулок</td>\n",
       "      <td>Пресненский район</td>\n",
       "    </tr>\n",
       "    <tr>\n",
       "      <td>4</td>\n",
       "      <td>Большой Гнездниковский переулок</td>\n",
       "      <td>Пресненский район</td>\n",
       "    </tr>\n",
       "    <tr>\n",
       "      <td>...</td>\n",
       "      <td>...</td>\n",
       "      <td>...</td>\n",
       "    </tr>\n",
       "    <tr>\n",
       "      <td>4393</td>\n",
       "      <td>Вознесенский проезд</td>\n",
       "      <td>Пресненский район</td>\n",
       "    </tr>\n",
       "    <tr>\n",
       "      <td>4394</td>\n",
       "      <td>Волков переулок</td>\n",
       "      <td>Пресненский район</td>\n",
       "    </tr>\n",
       "    <tr>\n",
       "      <td>4395</td>\n",
       "      <td>Поварская улица</td>\n",
       "      <td>Пресненский район</td>\n",
       "    </tr>\n",
       "    <tr>\n",
       "      <td>4396</td>\n",
       "      <td>Кудринская площадь</td>\n",
       "      <td>Пресненский район</td>\n",
       "    </tr>\n",
       "    <tr>\n",
       "      <td>4397</td>\n",
       "      <td>Вспольный переулок</td>\n",
       "      <td>Пресненский район</td>\n",
       "    </tr>\n",
       "  </tbody>\n",
       "</table>\n",
       "<p>4398 rows × 2 columns</p>\n",
       "</div>"
      ],
      "text/plain": [
       "                               street               area\n",
       "0                Выставочный переулок  Пресненский район\n",
       "1                        улица Гашека  Пресненский район\n",
       "2             Большая Никитская улица  Пресненский район\n",
       "3                   Глубокий переулок  Пресненский район\n",
       "4     Большой Гнездниковский переулок  Пресненский район\n",
       "...                               ...                ...\n",
       "4393              Вознесенский проезд  Пресненский район\n",
       "4394                  Волков переулок  Пресненский район\n",
       "4395                  Поварская улица  Пресненский район\n",
       "4396               Кудринская площадь  Пресненский район\n",
       "4397               Вспольный переулок  Пресненский район\n",
       "\n",
       "[4398 rows x 2 columns]"
      ]
     },
     "execution_count": 21,
     "metadata": {},
     "output_type": "execute_result"
    }
   ],
   "source": [
    "# создаем соединение с Google Sheets\n",
    "spreadsheet_id = '1_NLl3XvfhnrSgRN9JUiASkzvhezvHSrmPSkc70gXDWI'\n",
    "file_name = 'https://docs.google.com/spreadsheets/d/{}/export?format=csv'.format(spreadsheet_id)\n",
    "r = requests.get(file_name)\n",
    "# записываем данные в датафрейм\n",
    "df_outer = pd.read_csv(BytesIO(r.content))\n",
    "# переименуем столбец streetname\n",
    "df_outer = df_outer.rename(columns={'streetname':'street'}) \n",
    "# отберем необходимые стобцы\n",
    "df_outer = df_outer[['street', 'area']]\n",
    "# выводим датафрейм\n",
    "df_outer"
   ]
  },
  {
   "cell_type": "markdown",
   "metadata": {},
   "source": [
    "### Вывод"
   ]
  },
  {
   "cell_type": "markdown",
   "metadata": {},
   "source": [
    "Описание данных:\n",
    "\n",
    "**1. Датафрейм df (/datasets//rest_data.csv)**\n",
    "\n",
    "- id — идентификатор объекта;\n",
    "\n",
    "- object_name — название объекта общественного питания;\n",
    "\n",
    "- chain — признак сети;\n",
    "\n",
    "- object_type — тип объекта общественного питания;\n",
    "\n",
    "- address — адрес;\n",
    "\n",
    "- number — количество посадочных мест.\n",
    "\n",
    "**2. Датафрейм df_geo (Google Sheets)**\n",
    "\n",
    "- address — уникальный адресс;\n",
    "\n",
    "- lat — широта;\n",
    "\n",
    "- lon — долгота.\n",
    "\n",
    "**3. Датафрейм df_outer (Google Sheets)**\n",
    "\n",
    "- street — улица;\n",
    "\n",
    "- area — округ, соответсвующий улице.\n",
    "\n",
    "На данном этапе был проведено исследование количественных и качественных показателей данных - дубликатов и пропусков не обнаружено. Найдены различия в написании названия объектов, но влияния на дальнейший анализ они не имеют. Также произведена замена наименований признака сети для дальнейшей визуализации. Найдены и заменены нулевые значения в количестве посадочных мест. Созданы запросы и подключения к внешним источникам данных."
   ]
  },
  {
   "cell_type": "markdown",
   "metadata": {},
   "source": [
    "## Анализ данных"
   ]
  },
  {
   "cell_type": "markdown",
   "metadata": {},
   "source": [
    "### Исследование соотношения видов объектов общественного питания по количеству объектов.\n",
    "\n",
    "Необходимо исследовать распределение видов объектов общественного питания и построить график."
   ]
  },
  {
   "cell_type": "code",
   "execution_count": 22,
   "metadata": {},
   "outputs": [
    {
     "data": {
      "image/png": "[encoded data removed]",
      "text/plain": [
       "<Figure size 1152x504 with 1 Axes>"
      ]
     },
     "metadata": {
      "needs_background": "light"
     },
     "output_type": "display_data"
    }
   ],
   "source": [
    "# сгруппируем данные для визуализации по виду объекта \n",
    "df_types = df.groupby(['object_type']).agg({'id': 'count'}).sort_values(by = 'id').reset_index()\n",
    "\n",
    "# построим график\n",
    "fig = plt.figure(figsize=(16, 7))\n",
    "fig = sns.barplot(x='object_type', y='id',data = df_types,  palette='Spectral')\n",
    "# создадим подписи\n",
    "for i, val in enumerate(df_types['id'].values):\n",
    "        plt.text(i, val, int(val), horizontalalignment='center', \n",
    "                 verticalalignment='bottom', fontdict={'fontweight':500, 'size':10})\n",
    "plt.xticks(np.arange(9),\n",
    "    ('Столовая','Буфет','Бар','Кафетерий','Закусочная','Магазин \\n (отдел кулинарии)','Ресторан',\n",
    "                  'Предприятие \\n быстрого \\n обслуживания','Кафе'))\n",
    "plt.xlabel('вид объекта общественного питания')\n",
    "plt.ylabel('количество объектов')\n",
    "plt.title('Распределение видов объектов общественного питания', size = 'xx-large')\n",
    "sns.despine() \n",
    "# plt.savefig('1.png')\n",
    "# plt.close()"
   ]
  },
  {
   "cell_type": "markdown",
   "metadata": {},
   "source": [
    "Кафе более чем в два раза популярнее ресторанов и предприятий быстрого обслуживания. Количество баров в Москве не превышает 3% от всего количества заведений. Столовые имеют самое маленькое количество заведений. "
   ]
  },
  {
   "cell_type": "markdown",
   "metadata": {},
   "source": [
    "### Исследование соотношения сетевых и несетевых заведений по количеству.\n",
    "\n",
    "Необходимо исследовать соотношение сетевых и несетевых заведений и построить график."
   ]
  },
  {
   "cell_type": "code",
   "execution_count": 23,
   "metadata": {},
   "outputs": [
    {
     "data": {
      "text/plain": [
       "Text(0.5, 1.0, 'График соотношения сетевых и не сетевых объектов общественного питания')"
      ]
     },
     "execution_count": 23,
     "metadata": {},
     "output_type": "execute_result"
    },
    {
     "data": {
      "image/png": "[encoded data removed]",
      "text/plain": [
       "<Figure size 1152x504 with 1 Axes>"
      ]
     },
     "metadata": {},
     "output_type": "display_data"
    }
   ],
   "source": [
    "# сгруппируем данные для визуализации по признаку сети\n",
    "df_chain = df.groupby(['chain']).agg({'id': 'count'}).sort_values(by = 'id').reset_index()\n",
    "\n",
    "# назначим цвета для сетевого и несетевого вида объектов\n",
    "colors = ['#e5ae6b', '#b5d597']\n",
    "# построим график\n",
    "plt.figure(figsize=(16, 7))\n",
    "plt.pie(df_chain ['id'],labels=df_chain ['chain'],autopct='%1.1f%%', colors=colors)\n",
    "plt.title('График соотношения сетевых и не сетевых объектов общественного питания', size = 'xx-large')\n",
    "# plt.savefig('2.png')\n",
    "# plt.close()"
   ]
  },
  {
   "cell_type": "markdown",
   "metadata": {},
   "source": [
    "По соотношению видно, что 80,7% от всех заведений занимают не сетевые заведения."
   ]
  },
  {
   "cell_type": "markdown",
   "metadata": {},
   "source": [
    "### Исследование соотношения сетевых и несетевых заведений в разрезе видов объектов.\n",
    "\n",
    "Исследуем для какого вида объекта общественного питания характерно сетевое распространение."
   ]
  },
  {
   "cell_type": "code",
   "execution_count": 24,
   "metadata": {},
   "outputs": [
    {
     "data": {
      "image/png": "[encoded data removed]",
      "text/plain": [
       "<Figure size 1152x504 with 1 Axes>"
      ]
     },
     "metadata": {
      "needs_background": "light"
     },
     "output_type": "display_data"
    }
   ],
   "source": [
    "# сгруппируем данные для визуализации по виду объекта и признаку сети\n",
    "df_types_chain = df.groupby(['object_type', 'chain']).agg({'id': 'count'}).sort_values(by = 'id').reset_index()\n",
    "\n",
    "# построим график\n",
    "fig = plt.figure(figsize=(16, 7))\n",
    "fig = sns.barplot(x='object_type', y='id', hue='chain',data = df_types_chain, palette='Spectral')\n",
    "plt.xticks(np.arange(9),\n",
    "    ('Столовая','Буфет','Бар','Кафетерий','Закусочная','Магазин \\n (отдел кулинарии)','Ресторан',\n",
    "                  'Предприятие \\n быстрого \\n обслуживания','Кафе'))\n",
    "plt.xlabel('вид объекта общественного питания')\n",
    "plt.ylabel('количество объектов')\n",
    "plt.title('График соотношения сетевых и не сетевых видов объектов общественного питания', size = 'xx-large')\n",
    "h, l = fig.get_legend_handles_labels()\n",
    "fig.legend(h,['Сетевые', 'Не сетевые'],title='Признак сети')\n",
    "sns.despine() \n",
    "# plt.savefig('3.png')\n",
    "# plt.close()"
   ]
  },
  {
   "cell_type": "markdown",
   "metadata": {},
   "source": [
    "Сетевыми как правило бывают кафе, предприятия быстрого обслуживания и рестораны. Небольшая доля кулинарий, закусочных и кафетериев относятся к сетевым. Реже можно встретить сетевой бар или столовую."
   ]
  },
  {
   "cell_type": "markdown",
   "metadata": {},
   "source": [
    "### Исследование характеристики сетевых заведений.\n",
    "\n",
    "Исследуем что характерно для сетевых заведений: много заведений с небольшим числом посадочных мест в каждом или мало заведений с большим количеством посадочных мест?"
   ]
  },
  {
   "cell_type": "code",
   "execution_count": 25,
   "metadata": {
    "scrolled": false
   },
   "outputs": [
    {
     "name": "stdout",
     "output_type": "stream",
     "text": [
      "count    2751.000000\n",
      "mean       57.094148\n",
      "std        57.308627\n",
      "min         0.000000\n",
      "25%        20.000000\n",
      "50%        41.000000\n",
      "75%        80.000000\n",
      "max       580.000000\n",
      "Name: number, dtype: float64\n"
     ]
    },
    {
     "data": {
      "image/png": "[encoded data removed]",
      "text/plain": [
       "<Figure size 1152x504 with 1 Axes>"
      ]
     },
     "metadata": {
      "needs_background": "light"
     },
     "output_type": "display_data"
    },
    {
     "data": {
      "image/png": "[encoded data removed]",
      "text/plain": [
       "<Figure size 1152x504 with 1 Axes>"
      ]
     },
     "metadata": {
      "needs_background": "light"
     },
     "output_type": "display_data"
    }
   ],
   "source": [
    "# создадим выборку сетевых объектов\n",
    "df_chain = df.loc[(df['chain'] == 'сетевой')]\n",
    "# посмотрим на качественные показатели \n",
    "print(df_chain['number'].describe())\n",
    "# построим диаграмму размаха\n",
    "plt.figure(figsize=(16, 7))\n",
    "sns.violinplot(data=df_chain, x='chain', y='number', split=True, inner='quart', linewidth=1, color='#e5ae6b')\n",
    "plt.title('Диаграмма размаха количества посадочных мест в сетевых заведениях', size = 'xx-large')\n",
    "plt.xlabel('признак сети')\n",
    "plt.ylabel('количество посадочных мест')\n",
    "sns.despine()\n",
    "# plt.savefig('4.png')\n",
    "# plt.close()\n",
    "# построим график распределения\n",
    "plt.figure(figsize=(16, 7))\n",
    "sns.histplot(data=df_chain, x='number', bins=100, color='#e5ae6b')\n",
    "plt.title('График распределения количества посадочных мест в сетевых заведениях', size = 'xx-large')\n",
    "plt.xlabel('количество посадочных мест')\n",
    "plt.ylabel('количество заведений')\n",
    "sns.despine()\n",
    "# plt.savefig('5.png')\n",
    "# plt.close()"
   ]
  },
  {
   "cell_type": "code",
   "execution_count": 26,
   "metadata": {},
   "outputs": [
    {
     "name": "stdout",
     "output_type": "stream",
     "text": [
      "count    11328.000000\n",
      "mean        66.908192\n",
      "std         79.504181\n",
      "min          0.000000\n",
      "25%         20.000000\n",
      "50%         40.000000\n",
      "75%         86.000000\n",
      "max       1700.000000\n",
      "Name: number, dtype: float64\n"
     ]
    },
    {
     "data": {
      "image/png": "[encoded data removed]",
      "text/plain": [
       "<Figure size 1152x504 with 1 Axes>"
      ]
     },
     "metadata": {
      "needs_background": "light"
     },
     "output_type": "display_data"
    },
    {
     "data": {
      "image/png": "[encoded data removed]",
      "text/plain": [
       "<Figure size 1152x504 with 1 Axes>"
      ]
     },
     "metadata": {
      "needs_background": "light"
     },
     "output_type": "display_data"
    }
   ],
   "source": [
    "# создадим выборку не сетевых объектов\n",
    "df_not_chain = df.loc[(df['chain'] != 'сетевой')]\n",
    "# посмотрим на качественные показатели \n",
    "print(df_not_chain['number'].describe())\n",
    "# построим диаграмму размаха\n",
    "plt.figure(figsize=(16, 7))\n",
    "sns.violinplot(data=df_not_chain, x='chain', y='number', split=True, inner='quart', linewidth=1, color='#b5d597')\n",
    "plt.title('Диаграмма размаха количества посадочных мест в не сетевых заведениях', size = 'xx-large')\n",
    "plt.xlabel('признак сети')\n",
    "plt.ylabel('количество посадочных мест')\n",
    "sns.despine()\n",
    "# plt.savefig('6.png')\n",
    "# plt.close()\n",
    "# построим график распределения\n",
    "plt.figure(figsize=(16, 7))\n",
    "sns.histplot(data=df_not_chain, x='number', bins=100, color='#b5d597')\n",
    "plt.title('График распределения количества посадочных мест в не сетевых заведениях', size = 'xx-large')\n",
    "plt.xlabel('количество посадочных мест')\n",
    "plt.ylabel('количество заведений')\n",
    "sns.despine()\n",
    "# plt.savefig('7.png')\n",
    "# plt.close()"
   ]
  },
  {
   "cell_type": "markdown",
   "metadata": {},
   "source": [
    "Три четверти сетевых объектов общественного питания имеет до 80 посадочных мест, что говорит о том, что сетевые объекты как правило не имеют гигантских размеров и вместимости. Максимальный размер вместимости сетевого объекта равен 580 посадочных мест. В сравнении с распределением количества посадочных мест с не сетевыми объектами в сетевых меньше объектов с нулевыми посадочными местами - закусочных и магазинов (отдел кулинарии)."
   ]
  },
  {
   "cell_type": "markdown",
   "metadata": {},
   "source": [
    "### Исследование видов объектов общественного питания.\n",
    "\n",
    "Изучим среднее количество посадочных мест для каждого вида объекта общественного питания. Посмотрим какой вид предоставляет в среднем самое большое количество посадочных мест."
   ]
  },
  {
   "cell_type": "code",
   "execution_count": 27,
   "metadata": {},
   "outputs": [
    {
     "data": {
      "image/png": "[encoded data removed]",
      "text/plain": [
       "<Figure size 1152x504 with 1 Axes>"
      ]
     },
     "metadata": {
      "needs_background": "light"
     },
     "output_type": "display_data"
    }
   ],
   "source": [
    "# сгруппируем среднее количество посадочных мест относительно вида объекта\n",
    "df_types_mean = df.groupby(['object_type']).agg({'number': 'mean'}).sort_values(by = 'number').reset_index()\n",
    "# построим график\n",
    "fig = plt.figure(figsize=(16, 7))\n",
    "fig = sns.barplot(x='object_type', y='number',data = df_types_mean,  palette='Spectral')\n",
    "for i, val in enumerate(df_types_mean['number'].values):\n",
    "        plt.text(i, val, int(val), horizontalalignment='center', \n",
    "                 verticalalignment='bottom', fontdict={'fontweight':500, 'size':10})\n",
    "plt.xticks(np.arange(9),\n",
    "    ('Магазин \\n (отдел кулинарии)', 'Закусочная', 'Кафетерий', 'Предприятие \\n быстрого \\n обслуживания',\n",
    "       'Буфет','Кафе', 'Бар','Ресторан','Столовая'))\n",
    "plt.xlabel('вид объекта общественного питания')\n",
    "plt.ylabel('среднее количество посадочных мест')\n",
    "plt.title('Среднее количество посадочных мест по видам объектов общественного питания', size = 'xx-large')\n",
    "sns.despine()\n",
    "# plt.savefig('8.png')\n",
    "# plt.close()"
   ]
  },
  {
   "cell_type": "markdown",
   "metadata": {},
   "source": [
    "Столовые как правило располагают наибольшим количеством посадочных мест - в среднем 131 место. Самым маленьким количеством мест располагают закусочные и магазины(отделы кулинарии) - как мы выяснили большинство из них вообще не имеют посадочных мест. В баре в среднем могут поместиться 57 человек."
   ]
  },
  {
   "cell_type": "code",
   "execution_count": 28,
   "metadata": {},
   "outputs": [
    {
     "data": {
      "image/png": "[encoded data removed]",
      "text/plain": [
       "<Figure size 1152x504 with 1 Axes>"
      ]
     },
     "metadata": {
      "needs_background": "light"
     },
     "output_type": "display_data"
    }
   ],
   "source": [
    "# сгруппируем среднее количество посадочных мест относительно вида объекта и принадлежности к сети\n",
    "df_types_mean = df.groupby(['object_type', 'chain']).agg({'number': 'mean'}).sort_values(by = 'number').reset_index()\n",
    "# построим график\n",
    "fig = plt.figure(figsize=(16, 7))\n",
    "fig = sns.barplot(x='object_type', y='number', hue='chain',data = df_types_mean, palette='Spectral')\n",
    "plt.xticks(np.arange(9),\n",
    "    ('Магазин \\n (отдел кулинарии)', 'Закусочная', 'Предприятие \\n быстрого \\n обслуживания', 'Кафетерий',\n",
    "       'Буфет','Кафе', 'Бар','Ресторан','Столовая'))\n",
    "plt.xlabel('вид объекта общественного питания')\n",
    "plt.ylabel('среднее количество посадочных мест')\n",
    "plt.title('График среднего количества посадочных мест по сетевым и не сетевым видам объектов общественного питания', size = 'xx-large')\n",
    "\n",
    "h, l = fig.get_legend_handles_labels()\n",
    "fig.legend(h,['Сетевые', 'Не сетевые'],title='Признак сети')\n",
    "sns.despine()\n",
    "# plt.savefig('9.png')\n",
    "# plt.close()"
   ]
  },
  {
   "cell_type": "markdown",
   "metadata": {},
   "source": [
    "Как правило сетевые столовые имеют немного большее количество мест относительно не сетевых, также как и бары. Однако остальные виды объектов располагают большим количетсвом посадочных мест, если они не относятся к сети. Так что если большая компания хочет идти в кафе или ресторан, то лучше предпочесть не сетевой ресторан."
   ]
  },
  {
   "cell_type": "markdown",
   "metadata": {},
   "source": [
    "### Выделение в отдельный столбец информации об улице из столбца address .\n",
    "\n",
    "Для этого нам необходимо написать фукцию, которая по условиям будет выделять и записывать название улиц/проспектов/бульваров и тд."
   ]
  },
  {
   "cell_type": "code",
   "execution_count": 29,
   "metadata": {},
   "outputs": [
    {
     "data": {
      "text/html": [
       "<div>\n",
       "<style scoped>\n",
       "    .dataframe tbody tr th:only-of-type {\n",
       "        vertical-align: middle;\n",
       "    }\n",
       "\n",
       "    .dataframe tbody tr th {\n",
       "        vertical-align: top;\n",
       "    }\n",
       "\n",
       "    .dataframe thead th {\n",
       "        text-align: right;\n",
       "    }\n",
       "</style>\n",
       "<table border=\"1\" class=\"dataframe\">\n",
       "  <thead>\n",
       "    <tr style=\"text-align: right;\">\n",
       "      <th></th>\n",
       "      <th>id</th>\n",
       "      <th>object_name</th>\n",
       "      <th>chain</th>\n",
       "      <th>object_type</th>\n",
       "      <th>address</th>\n",
       "      <th>number</th>\n",
       "      <th>street</th>\n",
       "    </tr>\n",
       "  </thead>\n",
       "  <tbody>\n",
       "    <tr>\n",
       "      <td>0</td>\n",
       "      <td>151635</td>\n",
       "      <td>СМЕТАНА</td>\n",
       "      <td>не сетевой</td>\n",
       "      <td>кафе</td>\n",
       "      <td>город Москва, улица Егора Абакумова, дом 9</td>\n",
       "      <td>48.0</td>\n",
       "      <td>улица Егора Абакумова</td>\n",
       "    </tr>\n",
       "    <tr>\n",
       "      <td>1</td>\n",
       "      <td>77874</td>\n",
       "      <td>Родник</td>\n",
       "      <td>не сетевой</td>\n",
       "      <td>кафе</td>\n",
       "      <td>город Москва, улица Талалихина, дом 2/1, корпус 1</td>\n",
       "      <td>35.0</td>\n",
       "      <td>улица Талалихина</td>\n",
       "    </tr>\n",
       "    <tr>\n",
       "      <td>2</td>\n",
       "      <td>24309</td>\n",
       "      <td>Кафе «Академия»</td>\n",
       "      <td>не сетевой</td>\n",
       "      <td>кафе</td>\n",
       "      <td>город Москва, Абельмановская улица, дом 6</td>\n",
       "      <td>95.0</td>\n",
       "      <td>Абельмановская улица</td>\n",
       "    </tr>\n",
       "    <tr>\n",
       "      <td>3</td>\n",
       "      <td>21894</td>\n",
       "      <td>ПИЦЦЕТОРИЯ</td>\n",
       "      <td>сетевой</td>\n",
       "      <td>кафе</td>\n",
       "      <td>город Москва, Абрамцевская улица, дом 1</td>\n",
       "      <td>40.0</td>\n",
       "      <td>Абрамцевская улица</td>\n",
       "    </tr>\n",
       "    <tr>\n",
       "      <td>4</td>\n",
       "      <td>119365</td>\n",
       "      <td>Кафе «Вишневая метель»</td>\n",
       "      <td>не сетевой</td>\n",
       "      <td>кафе</td>\n",
       "      <td>город Москва, Абрамцевская улица, дом 9, корпус 1</td>\n",
       "      <td>50.0</td>\n",
       "      <td>Абрамцевская улица</td>\n",
       "    </tr>\n",
       "    <tr>\n",
       "      <td>...</td>\n",
       "      <td>...</td>\n",
       "      <td>...</td>\n",
       "      <td>...</td>\n",
       "      <td>...</td>\n",
       "      <td>...</td>\n",
       "      <td>...</td>\n",
       "      <td>...</td>\n",
       "    </tr>\n",
       "    <tr>\n",
       "      <td>15361</td>\n",
       "      <td>208537</td>\n",
       "      <td>Шоколадница</td>\n",
       "      <td>сетевой</td>\n",
       "      <td>кафе</td>\n",
       "      <td>город Москва, 3-й Крутицкий переулок, дом 18</td>\n",
       "      <td>50.0</td>\n",
       "      <td>3-й Крутицкий переулок</td>\n",
       "    </tr>\n",
       "    <tr>\n",
       "      <td>15362</td>\n",
       "      <td>209264</td>\n",
       "      <td>Шоколадница</td>\n",
       "      <td>сетевой</td>\n",
       "      <td>кафе</td>\n",
       "      <td>город Москва, улица Земляной Вал, дом 33</td>\n",
       "      <td>10.0</td>\n",
       "      <td>улица Земляной Вал</td>\n",
       "    </tr>\n",
       "    <tr>\n",
       "      <td>15363</td>\n",
       "      <td>209186</td>\n",
       "      <td>Шоколадница</td>\n",
       "      <td>сетевой</td>\n",
       "      <td>кафе</td>\n",
       "      <td>город Москва, улица Земляной Вал, дом 33</td>\n",
       "      <td>20.0</td>\n",
       "      <td>улица Земляной Вал</td>\n",
       "    </tr>\n",
       "    <tr>\n",
       "      <td>15364</td>\n",
       "      <td>221900</td>\n",
       "      <td>Шоколадница</td>\n",
       "      <td>сетевой</td>\n",
       "      <td>кафе</td>\n",
       "      <td>город Москва, поселение Московский, Киевское шоссе, 22-й километр, домовладение 4, строение 1</td>\n",
       "      <td>36.0</td>\n",
       "      <td>Киевское шоссе</td>\n",
       "    </tr>\n",
       "    <tr>\n",
       "      <td>15365</td>\n",
       "      <td>222535</td>\n",
       "      <td>Шоколадница</td>\n",
       "      <td>сетевой</td>\n",
       "      <td>кафе</td>\n",
       "      <td>город Москва, Ходынский бульвар, дом 4</td>\n",
       "      <td>10.0</td>\n",
       "      <td>Ходынский бульвар</td>\n",
       "    </tr>\n",
       "  </tbody>\n",
       "</table>\n",
       "<p>15366 rows × 7 columns</p>\n",
       "</div>"
      ],
      "text/plain": [
       "           id             object_name       chain object_type                                                                                        address  number                  street\n",
       "0      151635                 СМЕТАНА  не сетевой        кафе                                                     город Москва, улица Егора Абакумова, дом 9    48.0   улица Егора Абакумова\n",
       "1       77874                  Родник  не сетевой        кафе                                              город Москва, улица Талалихина, дом 2/1, корпус 1    35.0        улица Талалихина\n",
       "2       24309         Кафе «Академия»  не сетевой        кафе                                                      город Москва, Абельмановская улица, дом 6    95.0    Абельмановская улица\n",
       "3       21894              ПИЦЦЕТОРИЯ     сетевой        кафе                                                        город Москва, Абрамцевская улица, дом 1    40.0      Абрамцевская улица\n",
       "4      119365  Кафе «Вишневая метель»  не сетевой        кафе                                              город Москва, Абрамцевская улица, дом 9, корпус 1    50.0      Абрамцевская улица\n",
       "...       ...                     ...         ...         ...                                                                                            ...     ...                     ...\n",
       "15361  208537             Шоколадница     сетевой        кафе                                                   город Москва, 3-й Крутицкий переулок, дом 18    50.0  3-й Крутицкий переулок\n",
       "15362  209264             Шоколадница     сетевой        кафе                                                       город Москва, улица Земляной Вал, дом 33    10.0      улица Земляной Вал\n",
       "15363  209186             Шоколадница     сетевой        кафе                                                       город Москва, улица Земляной Вал, дом 33    20.0      улица Земляной Вал\n",
       "15364  221900             Шоколадница     сетевой        кафе  город Москва, поселение Московский, Киевское шоссе, 22-й километр, домовладение 4, строение 1    36.0          Киевское шоссе\n",
       "15365  222535             Шоколадница     сетевой        кафе                                                         город Москва, Ходынский бульвар, дом 4    10.0       Ходынский бульвар\n",
       "\n",
       "[15366 rows x 7 columns]"
      ]
     },
     "metadata": {},
     "output_type": "display_data"
    }
   ],
   "source": [
    "# создадим функцию для выделения улиц\n",
    "def get_street (df):\n",
    "    full_address = df['address']\n",
    "    i = full_address.count(',')\n",
    "    for j in range(i):\n",
    "        if \"улица\" in full_address.split(', ')[j]:\n",
    "            return (full_address.split(', ')[j])\n",
    "        if \"проспект\" in full_address.split(', ')[j]:\n",
    "            return (full_address.split(', ')[j])\n",
    "        if \"переулок\" in full_address.split(', ')[j]:\n",
    "            return (full_address.split(', ')[j])\n",
    "        if \"шоссе\" in full_address.split(', ')[j]:\n",
    "            return (full_address.split(', ')[j])\n",
    "        if \"бульвар\" in full_address.split(', ')[j]:\n",
    "            return (full_address.split(', ')[j])\n",
    "# применим функцию       \n",
    "df['street'] =df.apply(get_street, axis=1)\n",
    "# отобразим полученные данные\n",
    "display(df)"
   ]
  },
  {
   "cell_type": "markdown",
   "metadata": {},
   "source": [
    "Для каждого адреса мы выделили улицу. Также на этом этапе мы обогатим основной датафрейм данными из внешних источников - координаты и районы. Для этого смерджим таблицы."
   ]
  },
  {
   "cell_type": "code",
   "execution_count": 30,
   "metadata": {},
   "outputs": [
    {
     "data": {
      "text/html": [
       "<div>\n",
       "<style scoped>\n",
       "    .dataframe tbody tr th:only-of-type {\n",
       "        vertical-align: middle;\n",
       "    }\n",
       "\n",
       "    .dataframe tbody tr th {\n",
       "        vertical-align: top;\n",
       "    }\n",
       "\n",
       "    .dataframe thead th {\n",
       "        text-align: right;\n",
       "    }\n",
       "</style>\n",
       "<table border=\"1\" class=\"dataframe\">\n",
       "  <thead>\n",
       "    <tr style=\"text-align: right;\">\n",
       "      <th></th>\n",
       "      <th>id</th>\n",
       "      <th>object_name</th>\n",
       "      <th>chain</th>\n",
       "      <th>object_type</th>\n",
       "      <th>address</th>\n",
       "      <th>number</th>\n",
       "      <th>street</th>\n",
       "      <th>lat</th>\n",
       "      <th>lon</th>\n",
       "      <th>area</th>\n",
       "    </tr>\n",
       "  </thead>\n",
       "  <tbody>\n",
       "    <tr>\n",
       "      <td>0</td>\n",
       "      <td>151635</td>\n",
       "      <td>СМЕТАНА</td>\n",
       "      <td>не сетевой</td>\n",
       "      <td>кафе</td>\n",
       "      <td>город Москва, улица Егора Абакумова, дом 9</td>\n",
       "      <td>48.0</td>\n",
       "      <td>улица Егора Абакумова</td>\n",
       "      <td>55.87903</td>\n",
       "      <td>37.71453</td>\n",
       "      <td>Ярославский Район</td>\n",
       "    </tr>\n",
       "    <tr>\n",
       "      <td>1</td>\n",
       "      <td>77874</td>\n",
       "      <td>Родник</td>\n",
       "      <td>не сетевой</td>\n",
       "      <td>кафе</td>\n",
       "      <td>город Москва, улица Талалихина, дом 2/1, корпус 1</td>\n",
       "      <td>35.0</td>\n",
       "      <td>улица Талалихина</td>\n",
       "      <td>55.50732</td>\n",
       "      <td>37.57944</td>\n",
       "      <td>Таганский район</td>\n",
       "    </tr>\n",
       "    <tr>\n",
       "      <td>2</td>\n",
       "      <td>77874</td>\n",
       "      <td>Родник</td>\n",
       "      <td>не сетевой</td>\n",
       "      <td>кафе</td>\n",
       "      <td>город Москва, улица Талалихина, дом 2/1, корпус 1</td>\n",
       "      <td>35.0</td>\n",
       "      <td>улица Талалихина</td>\n",
       "      <td>55.50732</td>\n",
       "      <td>37.57944</td>\n",
       "      <td>Нижегородский район</td>\n",
       "    </tr>\n",
       "    <tr>\n",
       "      <td>3</td>\n",
       "      <td>77874</td>\n",
       "      <td>Родник</td>\n",
       "      <td>не сетевой</td>\n",
       "      <td>кафе</td>\n",
       "      <td>город Москва, улица Талалихина, дом 2/1, корпус 1</td>\n",
       "      <td>35.0</td>\n",
       "      <td>улица Талалихина</td>\n",
       "      <td>55.50732</td>\n",
       "      <td>37.57944</td>\n",
       "      <td>Район Южное Бутово</td>\n",
       "    </tr>\n",
       "    <tr>\n",
       "      <td>4</td>\n",
       "      <td>24309</td>\n",
       "      <td>Кафе «Академия»</td>\n",
       "      <td>не сетевой</td>\n",
       "      <td>кафе</td>\n",
       "      <td>город Москва, Абельмановская улица, дом 6</td>\n",
       "      <td>95.0</td>\n",
       "      <td>Абельмановская улица</td>\n",
       "      <td>55.73558</td>\n",
       "      <td>37.66959</td>\n",
       "      <td>Таганский район</td>\n",
       "    </tr>\n",
       "    <tr>\n",
       "      <td>...</td>\n",
       "      <td>...</td>\n",
       "      <td>...</td>\n",
       "      <td>...</td>\n",
       "      <td>...</td>\n",
       "      <td>...</td>\n",
       "      <td>...</td>\n",
       "      <td>...</td>\n",
       "      <td>...</td>\n",
       "      <td>...</td>\n",
       "      <td>...</td>\n",
       "    </tr>\n",
       "    <tr>\n",
       "      <td>29911</td>\n",
       "      <td>209264</td>\n",
       "      <td>Шоколадница</td>\n",
       "      <td>сетевой</td>\n",
       "      <td>кафе</td>\n",
       "      <td>город Москва, улица Земляной Вал, дом 33</td>\n",
       "      <td>10.0</td>\n",
       "      <td>улица Земляной Вал</td>\n",
       "      <td>55.75721</td>\n",
       "      <td>37.65909</td>\n",
       "      <td>Басманный район</td>\n",
       "    </tr>\n",
       "    <tr>\n",
       "      <td>29912</td>\n",
       "      <td>209186</td>\n",
       "      <td>Шоколадница</td>\n",
       "      <td>сетевой</td>\n",
       "      <td>кафе</td>\n",
       "      <td>город Москва, улица Земляной Вал, дом 33</td>\n",
       "      <td>20.0</td>\n",
       "      <td>улица Земляной Вал</td>\n",
       "      <td>55.75721</td>\n",
       "      <td>37.65909</td>\n",
       "      <td>Таганский район</td>\n",
       "    </tr>\n",
       "    <tr>\n",
       "      <td>29913</td>\n",
       "      <td>209186</td>\n",
       "      <td>Шоколадница</td>\n",
       "      <td>сетевой</td>\n",
       "      <td>кафе</td>\n",
       "      <td>город Москва, улица Земляной Вал, дом 33</td>\n",
       "      <td>20.0</td>\n",
       "      <td>улица Земляной Вал</td>\n",
       "      <td>55.75721</td>\n",
       "      <td>37.65909</td>\n",
       "      <td>Басманный район</td>\n",
       "    </tr>\n",
       "    <tr>\n",
       "      <td>29914</td>\n",
       "      <td>221900</td>\n",
       "      <td>Шоколадница</td>\n",
       "      <td>сетевой</td>\n",
       "      <td>кафе</td>\n",
       "      <td>город Москва, поселение Московский, Киевское шоссе, 22-й километр, домовладение 4, строение 1</td>\n",
       "      <td>36.0</td>\n",
       "      <td>Киевское шоссе</td>\n",
       "      <td>55.62311</td>\n",
       "      <td>37.40766</td>\n",
       "      <td>Район Внуково</td>\n",
       "    </tr>\n",
       "    <tr>\n",
       "      <td>29915</td>\n",
       "      <td>222535</td>\n",
       "      <td>Шоколадница</td>\n",
       "      <td>сетевой</td>\n",
       "      <td>кафе</td>\n",
       "      <td>город Москва, Ходынский бульвар, дом 4</td>\n",
       "      <td>10.0</td>\n",
       "      <td>Ходынский бульвар</td>\n",
       "      <td>55.79016</td>\n",
       "      <td>37.53130</td>\n",
       "      <td>Хорошевский район</td>\n",
       "    </tr>\n",
       "  </tbody>\n",
       "</table>\n",
       "<p>29916 rows × 10 columns</p>\n",
       "</div>"
      ],
      "text/plain": [
       "           id      object_name       chain object_type                                                                                        address  number                 street       lat       lon                 area\n",
       "0      151635          СМЕТАНА  не сетевой        кафе                                                     город Москва, улица Егора Абакумова, дом 9    48.0  улица Егора Абакумова  55.87903  37.71453    Ярославский Район\n",
       "1       77874           Родник  не сетевой        кафе                                              город Москва, улица Талалихина, дом 2/1, корпус 1    35.0       улица Талалихина  55.50732  37.57944      Таганский район\n",
       "2       77874           Родник  не сетевой        кафе                                              город Москва, улица Талалихина, дом 2/1, корпус 1    35.0       улица Талалихина  55.50732  37.57944  Нижегородский район\n",
       "3       77874           Родник  не сетевой        кафе                                              город Москва, улица Талалихина, дом 2/1, корпус 1    35.0       улица Талалихина  55.50732  37.57944   Район Южное Бутово\n",
       "4       24309  Кафе «Академия»  не сетевой        кафе                                                      город Москва, Абельмановская улица, дом 6    95.0   Абельмановская улица  55.73558  37.66959      Таганский район\n",
       "...       ...              ...         ...         ...                                                                                            ...     ...                    ...       ...       ...                  ...\n",
       "29911  209264      Шоколадница     сетевой        кафе                                                       город Москва, улица Земляной Вал, дом 33    10.0     улица Земляной Вал  55.75721  37.65909      Басманный район\n",
       "29912  209186      Шоколадница     сетевой        кафе                                                       город Москва, улица Земляной Вал, дом 33    20.0     улица Земляной Вал  55.75721  37.65909      Таганский район\n",
       "29913  209186      Шоколадница     сетевой        кафе                                                       город Москва, улица Земляной Вал, дом 33    20.0     улица Земляной Вал  55.75721  37.65909      Басманный район\n",
       "29914  221900      Шоколадница     сетевой        кафе  город Москва, поселение Московский, Киевское шоссе, 22-й километр, домовладение 4, строение 1    36.0         Киевское шоссе  55.62311  37.40766        Район Внуково\n",
       "29915  222535      Шоколадница     сетевой        кафе                                                         город Москва, Ходынский бульвар, дом 4    10.0      Ходынский бульвар  55.79016  37.53130    Хорошевский район\n",
       "\n",
       "[29916 rows x 10 columns]"
      ]
     },
     "execution_count": 30,
     "metadata": {},
     "output_type": "execute_result"
    }
   ],
   "source": [
    "# смерджим таблицы\n",
    "df_new = df.merge(df_geo, on='address', how='left')\n",
    "df_new = df_new.merge(df_outer, on='street', how='left')\n",
    "# отобразим полученные данные\n",
    "df_new"
   ]
  },
  {
   "cell_type": "markdown",
   "metadata": {},
   "source": [
    "Данные успешно соединились."
   ]
  },
  {
   "cell_type": "markdown",
   "metadata": {},
   "source": [
    "### Выделение топ-10 улиц по количеству объектов общественного питания.\n",
    "\n",
    "Найдем топ-10 улиц по количеству объектов общественного питания и отобразим на графике. Посмотрим в каких районах Москвы находятся эти улицы. Для начала отобразим на карте все объекты общественного питания относительно их сетевой принадлежности и посмотрим на скопление."
   ]
  },
  {
   "cell_type": "code",
   "execution_count": 31,
   "metadata": {},
   "outputs": [],
   "source": [
    "# отберем нужные данные для визуализации \n",
    "df_new_viz = df_new[['object_name','street','chain', 'area', 'lat', 'lon']]\n",
    "# df_new_viz.head()"
   ]
  },
  {
   "cell_type": "code",
   "execution_count": 32,
   "metadata": {},
   "outputs": [],
   "source": [
    "# сформируем конфигурацию для отображения\n",
    "config = {\n",
    "  \"version\": \"v1\",\n",
    "  \"config\": {\n",
    "    \"visState\": {\n",
    "      \"filters\": [],\n",
    "      \"layers\": [\n",
    "        {\n",
    "          \"id\": \"vmy03h8\",\n",
    "          \"type\": \"point\",\n",
    "          \"config\": {\n",
    "            \"dataId\": \"unnamed\",\n",
    "            \"label\": \"Признак сети\",\n",
    "            \"color\": [\n",
    "              18,\n",
    "              92,\n",
    "              119\n",
    "            ],\n",
    "            \"columns\": {\n",
    "              \"lat\": \"lat\",\n",
    "              \"lng\": \"lon\",\n",
    "              \"altitude\": None\n",
    "            },\n",
    "            \"isVisible\": True,\n",
    "            \"visConfig\": {\n",
    "              \"radius\": 10,\n",
    "              \"fixedRadius\": False,\n",
    "              \"opacity\": 0.6,\n",
    "              \"outline\": False,\n",
    "              \"thickness\": 2,\n",
    "              \"strokeColor\": None,\n",
    "              \"colorRange\": {\n",
    "                \"name\": \"ColorBrewer Set2-4\",\n",
    "                \"type\": \"qualitative\",\n",
    "                \"category\": \"ColorBrewer\",\n",
    "                \"colors\": [\n",
    "                  \"#66c2a5\",\n",
    "                  \"#fc8d62\",\n",
    "                  \"#8da0cb\",\n",
    "                  \"#e78ac3\"\n",
    "                ]\n",
    "              },\n",
    "              \"strokeColorRange\": {\n",
    "                \"name\": \"Global Warming\",\n",
    "                \"type\": \"sequential\",\n",
    "                \"category\": \"Uber\",\n",
    "                \"colors\": [\n",
    "                  \"#5A1846\",\n",
    "                  \"#900C3F\",\n",
    "                  \"#C70039\",\n",
    "                  \"#E3611C\",\n",
    "                  \"#F1920E\",\n",
    "                  \"#FFC300\"\n",
    "                ]\n",
    "              },\n",
    "              \"radiusRange\": [\n",
    "                0,\n",
    "                50\n",
    "              ],\n",
    "              \"filled\": True\n",
    "            },\n",
    "            \"hidden\": False,\n",
    "            \"textLabel\": [\n",
    "              {\n",
    "                \"field\": None,\n",
    "                \"color\": [\n",
    "                  255,\n",
    "                  255,\n",
    "                  255\n",
    "                ],\n",
    "                \"size\": 18,\n",
    "                \"offset\": [\n",
    "                  0,\n",
    "                  0\n",
    "                ],\n",
    "                \"anchor\": \"start\",\n",
    "                \"alignment\": \"center\"\n",
    "              }\n",
    "            ]\n",
    "          },\n",
    "          \"visualChannels\": {\n",
    "            \"colorField\": {\n",
    "              \"name\": \"chain\",\n",
    "              \"type\": \"string\"\n",
    "            },\n",
    "            \"colorScale\": \"ordinal\",\n",
    "            \"strokeColorField\": None,\n",
    "            \"strokeColorScale\": \"quantile\",\n",
    "            \"sizeField\": None,\n",
    "            \"sizeScale\": \"linear\"\n",
    "          }\n",
    "        }\n",
    "      ],\n",
    "      \"interactionConfig\": {\n",
    "        \"tooltip\": {\n",
    "          \"fieldsToShow\": {\n",
    "            \"unnamed\": [\n",
    "              {\n",
    "                \"name\": \"object_name\",\n",
    "                \"format\": None\n",
    "              },\n",
    "              {\n",
    "                \"name\": \"street\",\n",
    "                \"format\": None\n",
    "              },\n",
    "              {\n",
    "                \"name\": \"chain\",\n",
    "                \"format\": None\n",
    "              },\n",
    "              {\n",
    "                \"name\": \"area\",\n",
    "                \"format\": None\n",
    "              }\n",
    "            ]\n",
    "          },\n",
    "          \"compareMode\": False,\n",
    "          \"compareType\": \"absolute\",\n",
    "          \"enabled\": True\n",
    "        },\n",
    "        \"brush\": {\n",
    "          \"size\": 0.5,\n",
    "          \"enabled\": False\n",
    "        },\n",
    "        \"geocoder\": {\n",
    "          \"enabled\": False\n",
    "        },\n",
    "        \"coordinate\": {\n",
    "          \"enabled\": False\n",
    "        }\n",
    "      },\n",
    "      \"layerBlending\": \"normal\",\n",
    "      \"splitMaps\": [],\n",
    "      \"animationConfig\": {\n",
    "        \"currentTime\": None,\n",
    "        \"speed\": 1\n",
    "      }\n",
    "    },\n",
    "    \"mapState\": {\n",
    "      \"bearing\": 0,\n",
    "      \"dragRotate\": False,\n",
    "      \"latitude\": 55.71932152085772,\n",
    "      \"longitude\": 37.62615254390752,\n",
    "      \"pitch\": 0,\n",
    "      \"zoom\": 9.46946800571445,\n",
    "      \"isSplit\": False\n",
    "    },\n",
    "    \"mapStyle\": {\n",
    "      \"styleType\": \"light\",\n",
    "      \"topLayerGroups\": {},\n",
    "      \"visibleLayerGroups\": {\n",
    "        \"label\": True,\n",
    "        \"road\": True,\n",
    "        \"border\": False,\n",
    "        \"building\": True,\n",
    "        \"water\": True,\n",
    "        \"land\": True,\n",
    "        \"3d building\": False\n",
    "      },\n",
    "      \"threeDBuildingColor\": [\n",
    "        218.82023004728686,\n",
    "        223.47597962276103,\n",
    "        223.47597962276103\n",
    "      ],\n",
    "      \"mapStyles\": {}\n",
    "    }\n",
    "  }\n",
    "}"
   ]
  },
  {
   "cell_type": "code",
   "execution_count": 33,
   "metadata": {
    "scrolled": false
   },
   "outputs": [
    {
     "name": "stdout",
     "output_type": "stream",
     "text": [
      "User Guide: https://docs.kepler.gl/docs/keplergl-jupyter\n"
     ]
    },
    {
     "data": {
      "application/vnd.jupyter.widget-view+json": {
       "model_id": "36c4c71ccddb428a8383e7979989d637",
       "version_major": 2,
       "version_minor": 0
      },
      "text/plain": [
       "KeplerGl(config={'version': 'v1', 'config': {'visState': {'filters': [], 'layers': [{'id': 'vmy03h8', 'type': …"
      ]
     },
     "metadata": {},
     "output_type": "display_data"
    }
   ],
   "source": [
    "# создадим пустую карту с нашей конфигурацией\n",
    "kepler_map = keplergl.KeplerGl(height=600, config = config)\n",
    "# присоединим данные на карту\n",
    "kepler_map.add_data(data=df_new_viz)\n",
    "# выведем карту (раскомментить для вывода)\n",
    "kepler_map"
   ]
  },
  {
   "cell_type": "markdown",
   "metadata": {},
   "source": [
    "Объекты общественного питания распределены достаточно равномерно, однако их наибольшая концентрация отмечена ближе к центру. Также можно наглядно увидеть, что не сетевых объектов намного больше, чем сетевых. Выясним на каких улицах находится большое количество объектов и визуально оценим районы их расположения."
   ]
  },
  {
   "cell_type": "code",
   "execution_count": 34,
   "metadata": {},
   "outputs": [
    {
     "name": "stdout",
     "output_type": "stream",
     "text": [
      "\n",
      "количество заведений на улицах 1443\n",
      "\n",
      "количество районов для топа 10 улиц 36 районов\n"
     ]
    }
   ],
   "source": [
    "# выберем пот-10 улиц с помощью сводной таблицы\n",
    "top_10_streets = df.pivot_table(index='street', aggfunc={'id' : 'count', 'number' : 'mean'}).sort_values(by=['id'], ascending=False).head(10)\n",
    "# добавим данные для визуализации\n",
    "top_10 = top_10_streets.merge(df_new, on='street', how='left')\n",
    "# отберем данные для визуализации\n",
    "top_10_streets = top_10[['street', 'id_x', 'area', 'lat', 'lon']]\n",
    "# соберем датафрейм из топ-10 улиц\n",
    "streets = top_10_streets['street'].unique()\n",
    "df_10 = df.query('street in @streets')    \n",
    "print('\\nколичество заведений на улицах', top_10_streets['id_x'].unique().sum())\n",
    "print('\\nколичество районов для топа 10 улиц', top_10_streets['area'].nunique(), 'районов')\n",
    "# print('\\nРАЙОНЫ ТОП 10 УЛИЦ')\n",
    "# areas = top_10_streets['area'].unique()\n",
    "# for area in areas:\n",
    "#     print(area)  "
   ]
  },
  {
   "cell_type": "code",
   "execution_count": 35,
   "metadata": {},
   "outputs": [
    {
     "data": {
      "image/png": "[encoded data removed]",
      "text/plain": [
       "<Figure size 1152x504 with 1 Axes>"
      ]
     },
     "metadata": {
      "needs_background": "light"
     },
     "output_type": "display_data"
    }
   ],
   "source": [
    "# сгруппируем количество объектов относительно топ-10 улиц\n",
    "df_10_viz = df_10.groupby(['street']).agg({'id': 'count'}).sort_values(by = 'id',ascending=False).reset_index()\n",
    "\n",
    "# построим график\n",
    "fig = plt.figure(figsize=(16, 7))\n",
    "fig = sns.barplot(x='street', y='id',data = df_10_viz,  palette='Spectral')\n",
    "for i, val in enumerate(df_10_viz['id'].values):\n",
    "        plt.text(i, val, int(val), horizontalalignment='center', \n",
    "                 verticalalignment='bottom', fontdict={'fontweight':500, 'size':10})\n",
    "plt.xlabel('улица')\n",
    "plt.ylabel('количество объектов')\n",
    "plt.title('Количество объектов общественного питания по самым топовым улицам', size = 'xx-large')\n",
    "plt.xticks(np.arange(10),\n",
    "    ('проспект \\n Мира', 'Профсоюзная \\n улица', 'Ленинградский \\n проспект', 'Варшавское \\n шоссе', 'Ленинский \\n проспект', \n",
    "       'проспект \\n Вернандского','Кутузовский \\n проспект', 'Каширское \\n шоссе','Кировоградская \\n улица','Ходынский \\n бульвар'))\n",
    "sns.despine() \n",
    "# plt.savefig('10.png')\n",
    "# plt.close()"
   ]
  },
  {
   "cell_type": "markdown",
   "metadata": {},
   "source": [
    "На проспекте Мира расположено в два раза больше объектов общественного питания, чем на Ходынском бульваре. "
   ]
  },
  {
   "cell_type": "code",
   "execution_count": 36,
   "metadata": {},
   "outputs": [],
   "source": [
    "# отберем нужные данные для визуализации \n",
    "df_viz = top_10_streets[['street', 'area', 'lat', 'lon']]\n",
    "# df_viz.head()"
   ]
  },
  {
   "cell_type": "code",
   "execution_count": 37,
   "metadata": {},
   "outputs": [],
   "source": [
    "# сформируем конфигурацию для отображения\n",
    "config = {\n",
    "  \"version\": \"v1\",\n",
    "  \"config\": {\n",
    "    \"visState\": {\n",
    "      \"filters\": [],\n",
    "      \"layers\": [\n",
    "        {\n",
    "          \"id\": \"6wir6r6\",\n",
    "          \"type\": \"hexagon\",\n",
    "          \"config\": {\n",
    "            \"dataId\": \"unnamed\",\n",
    "            \"label\": \"Район\",\n",
    "            \"color\": [\n",
    "              255,\n",
    "              153,\n",
    "              31\n",
    "            ],\n",
    "            \"columns\": {\n",
    "              \"lat\": \"lat\",\n",
    "              \"lng\": \"lon\"\n",
    "            },\n",
    "            \"isVisible\": True,\n",
    "            \"visConfig\": {\n",
    "              \"opacity\": 0.51,\n",
    "              \"worldUnitSize\": 1,\n",
    "              \"resolution\": 8,\n",
    "              \"colorRange\": {\n",
    "                \"name\": \"ColorBrewer RdYlGn-10\",\n",
    "                \"type\": \"diverging\",\n",
    "                \"category\": \"ColorBrewer\",\n",
    "                \"colors\": [\n",
    "                  \"#a50026\",\n",
    "                  \"#d73027\",\n",
    "                  \"#f46d43\",\n",
    "                  \"#fdae61\",\n",
    "                  \"#fee08b\",\n",
    "                  \"#d9ef8b\",\n",
    "                  \"#a6d96a\",\n",
    "                  \"#66bd63\",\n",
    "                  \"#1a9850\",\n",
    "                  \"#006837\"\n",
    "                ]\n",
    "              },\n",
    "              \"coverage\": 1,\n",
    "              \"sizeRange\": [\n",
    "                0,\n",
    "                500\n",
    "              ],\n",
    "              \"percentile\": [\n",
    "                0,\n",
    "                100\n",
    "              ],\n",
    "              \"elevationPercentile\": [\n",
    "                0,\n",
    "                100\n",
    "              ],\n",
    "              \"elevationScale\": 5,\n",
    "              \"colorAggregation\": \"mode\",\n",
    "              \"sizeAggregation\": \"count\",\n",
    "              \"enable3d\": False\n",
    "            },\n",
    "            \"hidden\": False,\n",
    "            \"textLabel\": [\n",
    "              {\n",
    "                \"field\": None,\n",
    "                \"color\": [\n",
    "                  255,\n",
    "                  255,\n",
    "                  255\n",
    "                ],\n",
    "                \"size\": 18,\n",
    "                \"offset\": [\n",
    "                  0,\n",
    "                  0\n",
    "                ],\n",
    "                \"anchor\": \"start\",\n",
    "                \"alignment\": \"center\"\n",
    "              }\n",
    "            ]\n",
    "          },\n",
    "          \"visualChannels\": {\n",
    "            \"colorField\": {\n",
    "              \"name\": \"area\",\n",
    "              \"type\": \"string\"\n",
    "            },\n",
    "            \"colorScale\": \"ordinal\",\n",
    "            \"sizeField\": None,\n",
    "            \"sizeScale\": \"linear\"\n",
    "          }\n",
    "        }\n",
    "      ],\n",
    "      \"interactionConfig\": {\n",
    "        \"tooltip\": {\n",
    "          \"fieldsToShow\": {\n",
    "            \"unnamed\": [\n",
    "              {\n",
    "                \"name\": \"street\",\n",
    "                \"format\": None\n",
    "              },\n",
    "              {\n",
    "                \"name\": \"area\",\n",
    "                \"format\": None\n",
    "              }\n",
    "            ]\n",
    "          },\n",
    "          \"compareMode\": False,\n",
    "          \"compareType\": \"absolute\",\n",
    "          \"enabled\": True\n",
    "        },\n",
    "        \"brush\": {\n",
    "          \"size\": 0.5,\n",
    "          \"enabled\": False\n",
    "        },\n",
    "        \"geocoder\": {\n",
    "          \"enabled\": False\n",
    "        },\n",
    "        \"coordinate\": {\n",
    "          \"enabled\": False\n",
    "        }\n",
    "      },\n",
    "      \"layerBlending\": \"normal\",\n",
    "      \"splitMaps\": [],\n",
    "      \"animationConfig\": {\n",
    "        \"currentTime\": None,\n",
    "        \"speed\": 1\n",
    "      }\n",
    "    },\n",
    "    \"mapState\": {\n",
    "      \"bearing\": 0,\n",
    "      \"dragRotate\": False,\n",
    "      \"latitude\": 55.6939675209769,\n",
    "      \"longitude\": 37.614262012380536,\n",
    "      \"pitch\": 0,\n",
    "      \"zoom\": 9.422888637718028,\n",
    "      \"isSplit\": False\n",
    "    },\n",
    "    \"mapStyle\": {\n",
    "      \"styleType\": \"light\",\n",
    "      \"topLayerGroups\": {},\n",
    "      \"visibleLayerGroups\": {\n",
    "        \"label\": True,\n",
    "        \"road\": True,\n",
    "        \"border\": False,\n",
    "        \"building\": True,\n",
    "        \"water\": True,\n",
    "        \"land\": True,\n",
    "        \"3d building\": False\n",
    "      },\n",
    "      \"threeDBuildingColor\": [\n",
    "        9.665468314072013,\n",
    "        17.18305478057247,\n",
    "        31.1442867897876\n",
    "      ],\n",
    "      \"mapStyles\": {}\n",
    "    }\n",
    "  }\n",
    "}"
   ]
  },
  {
   "cell_type": "code",
   "execution_count": 38,
   "metadata": {
    "scrolled": false
   },
   "outputs": [
    {
     "name": "stdout",
     "output_type": "stream",
     "text": [
      "User Guide: https://docs.kepler.gl/docs/keplergl-jupyter\n"
     ]
    },
    {
     "data": {
      "application/vnd.jupyter.widget-view+json": {
       "model_id": "d45cac2263ab4f32b40eb36fd8f55086",
       "version_major": 2,
       "version_minor": 0
      },
      "text/plain": [
       "KeplerGl(config={'version': 'v1', 'config': {'visState': {'filters': [], 'layers': [{'id': '6wir6r6', 'type': …"
      ]
     },
     "metadata": {},
     "output_type": "display_data"
    }
   ],
   "source": [
    "# создадим пустую карту с нашей конфигурацией\n",
    "kepler_map = keplergl.KeplerGl(height=600, config=config)\n",
    "# присоединим данные к карте\n",
    "kepler_map.add_data(data=df_viz)\n",
    "# выведем карту (раскомментить для вывода)\n",
    "kepler_map"
   ]
  },
  {
   "cell_type": "markdown",
   "metadata": {},
   "source": [
    "В Академическом и Алексеевском районах Москвы сосредоточено наибольшее количество улиц с нибольшим количеством объектов общественного питания. Гуляя по этим районам вы точно не останетесь без еды."
   ]
  },
  {
   "cell_type": "markdown",
   "metadata": {},
   "source": [
    "### Выделение улиц с одним объектом общественного питания. \n",
    "\n",
    "Найдем улицы по с одним объектом общественного питания и отобразим их на графике. Посмотрим в каких районах Москвы они находятся."
   ]
  },
  {
   "cell_type": "code",
   "execution_count": 39,
   "metadata": {},
   "outputs": [
    {
     "name": "stdout",
     "output_type": "stream",
     "text": [
      "\n",
      "количество улиц с одним объектом 400 улиц\n",
      "\n",
      "количество районов для улиц с одним объектом 95 районов\n"
     ]
    }
   ],
   "source": [
    "# сргуппируем количество объектов по улице и району \n",
    "last_10_streets = df_new.groupby(['street', 'area']).agg({'id': 'count'}).sort_values(by = 'id', ascending=False).reset_index()\n",
    "# отберем улицы с одним объектом \n",
    "last_10_streets = last_10_streets.loc[last_10_streets['id'] == 1]\n",
    "# добавим данные для визуализации\n",
    "last_10_streets = last_10_streets.merge(df_new, on='street', how='left')\n",
    "\n",
    "print('\\nколичество улиц с одним объектом', last_10_streets['street'].nunique(), 'улиц')\n",
    "print('\\nколичество районов для улиц с одним объектом', last_10_streets['area_x'].nunique(), 'районов')\n",
    "# подготовим данные для визуализации\n",
    "df_viz2 = last_10_streets[['street', 'id_x', 'area_y', 'lat', 'lon']]"
   ]
  },
  {
   "cell_type": "code",
   "execution_count": 40,
   "metadata": {},
   "outputs": [],
   "source": [
    "# сформируем конфигурацию для отображения\n",
    "config1 = {\n",
    "  \"version\": \"v1\",\n",
    "  \"config\": {\n",
    "    \"visState\": {\n",
    "      \"filters\": [],\n",
    "      \"layers\": [\n",
    "        {\n",
    "          \"id\": \"tku0yvi\",\n",
    "          \"type\": \"cluster\",\n",
    "          \"config\": {\n",
    "            \"dataId\": \"unnamed\",\n",
    "            \"label\": \"Районы\",\n",
    "            \"color\": [\n",
    "              255,\n",
    "              153,\n",
    "              31\n",
    "            ],\n",
    "            \"columns\": {\n",
    "              \"lat\": \"lat\",\n",
    "              \"lng\": \"lon\"\n",
    "            },\n",
    "            \"isVisible\": True,\n",
    "            \"visConfig\": {\n",
    "              \"opacity\": 0.38,\n",
    "              \"clusterRadius\": 40,\n",
    "              \"colorRange\": {\n",
    "                \"name\": \"ColorBrewer RdYlGn-11\",\n",
    "                \"type\": \"diverging\",\n",
    "                \"category\": \"ColorBrewer\",\n",
    "                \"colors\": [\n",
    "                  \"#a50026\",\n",
    "                  \"#d73027\",\n",
    "                  \"#f46d43\",\n",
    "                  \"#fdae61\",\n",
    "                  \"#fee08b\",\n",
    "                  \"#ffffbf\",\n",
    "                  \"#d9ef8b\",\n",
    "                  \"#a6d96a\",\n",
    "                  \"#66bd63\",\n",
    "                  \"#1a9850\",\n",
    "                  \"#006837\"\n",
    "                ]\n",
    "              },\n",
    "              \"radiusRange\": [\n",
    "                0,\n",
    "                50\n",
    "              ],\n",
    "              \"colorAggregation\": \"mode\"\n",
    "            },\n",
    "            \"hidden\": False,\n",
    "            \"textLabel\": [\n",
    "              {\n",
    "                \"field\": None,\n",
    "                \"color\": [\n",
    "                  255,\n",
    "                  255,\n",
    "                  255\n",
    "                ],\n",
    "                \"size\": 18,\n",
    "                \"offset\": [\n",
    "                  0,\n",
    "                  0\n",
    "                ],\n",
    "                \"anchor\": \"start\",\n",
    "                \"alignment\": \"center\"\n",
    "              }\n",
    "            ]\n",
    "          },\n",
    "          \"visualChannels\": {\n",
    "            \"colorField\": {\n",
    "              \"name\": \"area_y\",\n",
    "              \"type\": \"string\"\n",
    "            },\n",
    "            \"colorScale\": \"ordinal\"\n",
    "          }\n",
    "        }\n",
    "      ],\n",
    "      \"interactionConfig\": {\n",
    "        \"tooltip\": {\n",
    "          \"fieldsToShow\": {\n",
    "            \"unnamed\": [\n",
    "              {\n",
    "                \"name\": \"street\",\n",
    "                \"format\": None\n",
    "              }\n",
    "            ]\n",
    "          },\n",
    "          \"compareMode\": False,\n",
    "          \"compareType\": \"absolute\",\n",
    "          \"enabled\": True\n",
    "        },\n",
    "        \"brush\": {\n",
    "          \"size\": 0.5,\n",
    "          \"enabled\": False\n",
    "        },\n",
    "        \"geocoder\": {\n",
    "          \"enabled\": False\n",
    "        },\n",
    "        \"coordinate\": {\n",
    "          \"enabled\": False\n",
    "        }\n",
    "      },\n",
    "      \"layerBlending\": \"normal\",\n",
    "      \"splitMaps\": [],\n",
    "      \"animationConfig\": {\n",
    "        \"currentTime\": None,\n",
    "        \"speed\": 1\n",
    "      }\n",
    "    },\n",
    "    \"mapState\": {\n",
    "      \"bearing\": 0,\n",
    "      \"dragRotate\": False,\n",
    "      \"latitude\": 55.7413918471803,\n",
    "      \"longitude\": 37.571518454024286,\n",
    "      \"pitch\": 0,\n",
    "      \"zoom\": 10.106529301596298,\n",
    "      \"isSplit\": False\n",
    "    },\n",
    "    \"mapStyle\": {\n",
    "      \"styleType\": \"light\",\n",
    "      \"topLayerGroups\": {},\n",
    "      \"visibleLayerGroups\": {\n",
    "        \"label\": True,\n",
    "        \"road\": True,\n",
    "        \"border\": False,\n",
    "        \"building\": True,\n",
    "        \"water\": True,\n",
    "        \"land\": True,\n",
    "        \"3d building\": False\n",
    "      },\n",
    "      \"threeDBuildingColor\": [\n",
    "        9.665468314072013,\n",
    "        17.18305478057247,\n",
    "        31.1442867897876\n",
    "      ],\n",
    "      \"mapStyles\": {}\n",
    "    }\n",
    "  }\n",
    "}"
   ]
  },
  {
   "cell_type": "code",
   "execution_count": 41,
   "metadata": {
    "scrolled": false
   },
   "outputs": [
    {
     "name": "stdout",
     "output_type": "stream",
     "text": [
      "User Guide: https://docs.kepler.gl/docs/keplergl-jupyter\n"
     ]
    },
    {
     "data": {
      "application/vnd.jupyter.widget-view+json": {
       "model_id": "ede3305cfc6744e9a1f1d16449ff9e99",
       "version_major": 2,
       "version_minor": 0
      },
      "text/plain": [
       "KeplerGl(config={'version': 'v1', 'config': {'visState': {'filters': [], 'layers': [{'id': 'tku0yvi', 'type': …"
      ]
     },
     "metadata": {},
     "output_type": "display_data"
    }
   ],
   "source": [
    "# создадим пустую карту с нашей конфигурацией\n",
    "kepler_map = keplergl.KeplerGl(height=600,config = config1)\n",
    "# добавим данные к карте\n",
    "kepler_map.add_data(data=df_viz2)\n",
    "# выведем карту (раскомментить для вывода)\n",
    "kepler_map"
   ]
  },
  {
   "cell_type": "markdown",
   "metadata": {},
   "source": [
    "На 400 улицах Москвы находится только один объект общественного питания. В Басманном, Тверском и Хамовниках гуляя по улицам нужно будет долго идти в поисках разнообразных заведений общественного питания."
   ]
  },
  {
   "cell_type": "markdown",
   "metadata": {},
   "source": [
    "### Исследование распределения посадочных мест для улиц с большим количеством объектов общественного питания.\n",
    "\n",
    "Изучим распределение количества посадочных мест для улиц с большим количеством объектов общественного питания."
   ]
  },
  {
   "cell_type": "code",
   "execution_count": 42,
   "metadata": {},
   "outputs": [
    {
     "name": "stdout",
     "output_type": "stream",
     "text": [
      "count    1256.000000\n",
      "mean       65.039013\n",
      "std        93.725322\n",
      "min         0.000000\n",
      "25%        20.000000\n",
      "50%        40.000000\n",
      "75%        80.000000\n",
      "max      1700.000000\n",
      "Name: number, dtype: float64\n"
     ]
    },
    {
     "data": {
      "image/png": "[encoded data removed]",
      "text/plain": [
       "<Figure size 1152x504 with 1 Axes>"
      ]
     },
     "metadata": {
      "needs_background": "light"
     },
     "output_type": "display_data"
    },
    {
     "data": {
      "image/png": "[encoded data removed]",
      "text/plain": [
       "<Figure size 1152x504 with 1 Axes>"
      ]
     },
     "metadata": {
      "needs_background": "light"
     },
     "output_type": "display_data"
    }
   ],
   "source": [
    "# посмотрим количественные показатели количества посадочных мест на топ-10 улиц \n",
    "print(df_10['number'].describe())\n",
    "# построим диграмму размаха\n",
    "plt.figure(figsize=(16, 7))\n",
    "sns.violinplot(data=df_10, y=\"number\",\n",
    "               split=True, inner=\"quart\", linewidth=1)\n",
    "plt.title('Диаграмма размаха количества мест в заведениях на улицах топ-10', size = 'xx-large')\n",
    "plt.ylabel('количество посадочных мест')\n",
    "sns.despine()\n",
    "# plt.savefig('11.png')\n",
    "# plt.close()\n",
    "# построим график распределения\n",
    "plt.figure(figsize=(16, 7))\n",
    "sns.histplot(data=df_10, x='number', bins=100,  palette='Spectral')\n",
    "plt.title('График распределения количества мест в заведениях на улицах топ-10', size = 'xx-large')\n",
    "plt.xlabel('количество посадочных мест')\n",
    "plt.ylabel('количество заведений')\n",
    "sns.despine()\n",
    "# plt.savefig('12.png')\n",
    "# plt.close()"
   ]
  },
  {
   "cell_type": "markdown",
   "metadata": {},
   "source": [
    "Три четверти объектов, расположеных на улицах из топ-10 по количеству заведений, имеют до 80 посадочных мест. Также на этих улицах располагается самый крупный объект в городе - не сетевой бар \"Arena by Soho Family\" на Кутузовском проспекте на 1700 посадочных мест. Довольно много объектов с минимальным количеством посадочных мест - например закусочных и магазинов (отделов кулинарий)."
   ]
  },
  {
   "cell_type": "markdown",
   "metadata": {},
   "source": [
    "### Общий вывод и рекомендации о виде заведения, количестве посадочных мест, а также районе расположения и возможности развития сети."
   ]
  },
  {
   "cell_type": "markdown",
   "metadata": {},
   "source": [
    "На основании исследования рынка общественного питания в Москве можно сказать, что:\n",
    "\n",
    "- кафе более чем в два раза популярнее ресторанов и предприятий быстрого обслуживания;\n",
    "\n",
    "- столовые мало распространены, но при этом имеют самую большую среднюю вместимость;\n",
    "\n",
    "- только 19,3 % от всех заведений занимают сетевые и как правило это кафе, предприятия быстрого обслуживания или рестораны;\n",
    "\n",
    "- 3/4 сетевых объектов общественного питания имеет средний размер - до 80 посадочных мест;\n",
    "\n",
    "- объекты, не принадлежащие сети, располагают большим количеством посадочных мест. Так что если большая компания хочет идти в кафе или ресторан, то лучше предпочесть не сетевое заведение;\n",
    "\n",
    "- В Басманном, Тверском и Хамовниках гуляя по улицам нужно будет долго идти в поисках разнообразных заведений общественного питания. В то время как Академическом и Алексеевском районах Москвы сосредоточено наибольшее количество улиц с нибольшим количеством объектов общественного питания. Гуляя по этим районам вы точно не останетесь без еды.;\n",
    "\n",
    "**Для открытия новаторского объекта - такого как заведение с роботами необходимо:**\n",
    "\n",
    "- остановиться на выборе вида заведения \"**ресторан**\", так как он имеет наибольшую популярность после столовых (а мы ведь явно не столовая);\n",
    "\n",
    "- **со средним количеством посадочных мест - до 40**, так как новизна формата не позволяет делать слишком большие площади, но и минимальную вместимость тоже не целесообразно из-за ожидающегося потока посетителей;\n",
    "\n",
    "- **в районе с наибольшей доступностью**. Предположительно это центральные улицы, даже при условии наибольшего количества конкурирующих заведений уникальность формата дает возможность предствалять альтернативу существующим заведениям.\n",
    "- **с перспективой развития сети ресторанов.** Первый робо-ресторан станет местом опробации новых идей и решений, которые потом будут внедряться в остальные рестораны сети."
   ]
  },
  {
   "cell_type": "markdown",
   "metadata": {},
   "source": [
    "## Презентация исследования для инвесторов."
   ]
  },
  {
   "cell_type": "markdown",
   "metadata": {},
   "source": [
    "Презентация: https://disk.yandex.ru/i/ztQM4ZeIEJn0qw "
   ]
  }
 ],
 "metadata": {
  "kernelspec": {
   "display_name": "Python 3",
   "language": "python",
   "name": "python3"
  },
  "language_info": {
   "codemirror_mode": {
    "name": "ipython",
    "version": 3
   },
   "file_extension": ".py",
   "mimetype": "text/x-python",
   "name": "python",
   "nbconvert_exporter": "python",
   "pygments_lexer": "ipython3",
   "version": "3.7.4"
  },
  "toc": {
   "base_numbering": 1,
   "nav_menu": {},
   "number_sections": true,
   "sideBar": true,
   "skip_h1_title": true,
   "title_cell": "Table of Contents",
   "title_sidebar": "Contents",
   "toc_cell": false,
   "toc_position": {},
   "toc_section_display": true,
   "toc_window_display": true
  }
 },
 "nbformat": 4,
 "nbformat_minor": 2
}
