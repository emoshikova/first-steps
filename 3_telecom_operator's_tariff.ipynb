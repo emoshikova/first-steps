{
 "cells": [
  {
   "cell_type": "markdown",
   "metadata": {},
   "source": [
    "# Определение перспективного тарифа для телеком компании\n"
   ]
  },
  {
   "cell_type": "markdown",
   "metadata": {},
   "source": [
    "Компания «Мегалайн» — федеральный оператор сотовой связи. Клиентам предлагают два тарифных плана: «Смарт» и «Ультра». \n",
    "\n",
    "Дана небольшая выборка клиентов - данные 500 пользователей «Мегалайна»: кто они, откуда, каким тарифом пользуются, сколько звонков и сообщений каждый отправил за 2018 год. \n",
    "\n",
    "Задачи исследования - чтобы скорректировать рекламный бюджет, коммерческий департамент хочет понять, какой тариф приносит больше денег.\n",
    "Необходимо проанализировать поведение клиентов и сделать вывод — какой тариф лучше."
   ]
  },
  {
   "cell_type": "markdown",
   "metadata": {},
   "source": [
    "## Оглавление\n",
    "\n",
    "[Шаг 1. Открытие файла с данными и изучение общей информации](#step1)\n",
    "\n",
    "[Шаг 2. Подготовка данных](#step2)\n",
    "\n",
    "[Шаг 3. Анализ данных](#step3)\n",
    "\n",
    "[Шаг 4. Проверка гипотез](#step4)\n",
    "\n",
    "[Шаг 5. Общий вывод](#step5)"
   ]
  },
  {
   "cell_type": "markdown",
   "metadata": {},
   "source": [
    "### Шаг 1. Открытие файла с данными и изучение общей информации <a name=\"step1\"></a>"
   ]
  },
  {
   "cell_type": "markdown",
   "metadata": {},
   "source": [
    "Для того, чтобы начать исследование, необходимо установить используемые в работе библиотеки, а также при необходимости обновить их:"
   ]
  },
  {
   "cell_type": "code",
   "execution_count": 1,
   "metadata": {},
   "outputs": [
    {
     "name": "stdout",
     "output_type": "stream",
     "text": [
      "Defaulting to user installation because normal site-packages is not writeable\n",
      "Collecting matplotlib\n",
      "  Downloading matplotlib-3.3.3-cp37-cp37m-manylinux1_x86_64.whl (11.6 MB)\n",
      "\u001b[K     |████████████████████████████████| 11.6 MB 13.1 MB/s eta 0:00:01\n",
      "\u001b[?25hRequirement already satisfied, skipping upgrade: pyparsing!=2.0.4,!=2.1.2,!=2.1.6,>=2.0.3 in /opt/conda/lib/python3.7/site-packages (from matplotlib) (2.4.7)\n",
      "Requirement already satisfied, skipping upgrade: cycler>=0.10 in /opt/conda/lib/python3.7/site-packages (from matplotlib) (0.10.0)\n",
      "Requirement already satisfied, skipping upgrade: pillow>=6.2.0 in /opt/conda/lib/python3.7/site-packages (from matplotlib) (7.0.0)\n",
      "Requirement already satisfied, skipping upgrade: kiwisolver>=1.0.1 in /opt/conda/lib/python3.7/site-packages (from matplotlib) (1.2.0)\n",
      "Requirement already satisfied, skipping upgrade: python-dateutil>=2.1 in /opt/conda/lib/python3.7/site-packages (from matplotlib) (2.8.1)\n",
      "Requirement already satisfied, skipping upgrade: numpy>=1.15 in /opt/conda/lib/python3.7/site-packages (from matplotlib) (1.19.0)\n",
      "Requirement already satisfied, skipping upgrade: six in /opt/conda/lib/python3.7/site-packages (from cycler>=0.10->matplotlib) (1.15.0)\n",
      "Installing collected packages: matplotlib\n",
      "Successfully installed matplotlib-3.3.3\n"
     ]
    }
   ],
   "source": [
    "#в ходе исследования возникла проблема в работе с библиотекой matplotlib - обновим версию\n",
    "!pip install -U matplotlib --quiet "
   ]
  },
  {
   "cell_type": "code",
   "execution_count": 2,
   "metadata": {},
   "outputs": [],
   "source": [
    "#установим библиотеки, необходимые для исследования\n",
    "import pandas as pd\n",
    "import matplotlib.pyplot as plt\n",
    "import numpy as np\n",
    "import datetime\n",
    "from scipy import stats as st\n",
    "import math"
   ]
  },
  {
   "cell_type": "code",
   "execution_count": 3,
   "metadata": {},
   "outputs": [],
   "source": [
    "#прочтем файлы с исходным датасетами и запишем данные в датафреймы\n",
    "df_users = pd.read_csv('/datasets/users.csv')\n",
    "df_tariffs = pd.read_csv('/datasets/tariffs.csv')\n",
    "df_call = pd.read_csv('/datasets/calls.csv')\n",
    "df_messages = pd.read_csv('/datasets/messages.csv')\n",
    "df_internet = pd.read_csv('/datasets/internet.csv')"
   ]
  },
  {
   "cell_type": "markdown",
   "metadata": {},
   "source": [
    "Посмотрим на исходные данные. Оптимизируем просмотр с помощью создания цикла, который будет показывать первые строки датафрейма и выводить информацию о качественных показателях каждого."
   ]
  },
  {
   "cell_type": "code",
   "execution_count": 4,
   "metadata": {
    "scrolled": false
   },
   "outputs": [
    {
     "name": "stdout",
     "output_type": "stream",
     "text": [
      "\n",
      "**************Таблица: пользователи**************\n",
      "\n"
     ]
    },
    {
     "data": {
      "text/html": [
       "<div>\n",
       "<style scoped>\n",
       "    .dataframe tbody tr th:only-of-type {\n",
       "        vertical-align: middle;\n",
       "    }\n",
       "\n",
       "    .dataframe tbody tr th {\n",
       "        vertical-align: top;\n",
       "    }\n",
       "\n",
       "    .dataframe thead th {\n",
       "        text-align: right;\n",
       "    }\n",
       "</style>\n",
       "<table border=\"1\" class=\"dataframe\">\n",
       "  <thead>\n",
       "    <tr style=\"text-align: right;\">\n",
       "      <th></th>\n",
       "      <th>user_id</th>\n",
       "      <th>age</th>\n",
       "      <th>churn_date</th>\n",
       "      <th>city</th>\n",
       "      <th>first_name</th>\n",
       "      <th>last_name</th>\n",
       "      <th>reg_date</th>\n",
       "      <th>tariff</th>\n",
       "    </tr>\n",
       "  </thead>\n",
       "  <tbody>\n",
       "    <tr>\n",
       "      <td>0</td>\n",
       "      <td>1000</td>\n",
       "      <td>52</td>\n",
       "      <td>NaN</td>\n",
       "      <td>Краснодар</td>\n",
       "      <td>Рафаил</td>\n",
       "      <td>Верещагин</td>\n",
       "      <td>2018-05-25</td>\n",
       "      <td>ultra</td>\n",
       "    </tr>\n",
       "    <tr>\n",
       "      <td>1</td>\n",
       "      <td>1001</td>\n",
       "      <td>41</td>\n",
       "      <td>NaN</td>\n",
       "      <td>Москва</td>\n",
       "      <td>Иван</td>\n",
       "      <td>Ежов</td>\n",
       "      <td>2018-11-01</td>\n",
       "      <td>smart</td>\n",
       "    </tr>\n",
       "    <tr>\n",
       "      <td>2</td>\n",
       "      <td>1002</td>\n",
       "      <td>59</td>\n",
       "      <td>NaN</td>\n",
       "      <td>Стерлитамак</td>\n",
       "      <td>Евгений</td>\n",
       "      <td>Абрамович</td>\n",
       "      <td>2018-06-17</td>\n",
       "      <td>smart</td>\n",
       "    </tr>\n",
       "    <tr>\n",
       "      <td>3</td>\n",
       "      <td>1003</td>\n",
       "      <td>23</td>\n",
       "      <td>NaN</td>\n",
       "      <td>Москва</td>\n",
       "      <td>Белла</td>\n",
       "      <td>Белякова</td>\n",
       "      <td>2018-08-17</td>\n",
       "      <td>ultra</td>\n",
       "    </tr>\n",
       "    <tr>\n",
       "      <td>4</td>\n",
       "      <td>1004</td>\n",
       "      <td>68</td>\n",
       "      <td>NaN</td>\n",
       "      <td>Новокузнецк</td>\n",
       "      <td>Татьяна</td>\n",
       "      <td>Авдеенко</td>\n",
       "      <td>2018-05-14</td>\n",
       "      <td>ultra</td>\n",
       "    </tr>\n",
       "  </tbody>\n",
       "</table>\n",
       "</div>"
      ],
      "text/plain": [
       "   user_id  age churn_date         city first_name  last_name    reg_date  \\\n",
       "0     1000   52        NaN    Краснодар     Рафаил  Верещагин  2018-05-25   \n",
       "1     1001   41        NaN       Москва       Иван       Ежов  2018-11-01   \n",
       "2     1002   59        NaN  Стерлитамак    Евгений  Абрамович  2018-06-17   \n",
       "3     1003   23        NaN       Москва      Белла   Белякова  2018-08-17   \n",
       "4     1004   68        NaN  Новокузнецк    Татьяна   Авдеенко  2018-05-14   \n",
       "\n",
       "  tariff  \n",
       "0  ultra  \n",
       "1  smart  \n",
       "2  smart  \n",
       "3  ultra  \n",
       "4  ultra  "
      ]
     },
     "metadata": {},
     "output_type": "display_data"
    },
    {
     "name": "stdout",
     "output_type": "stream",
     "text": [
      "\n",
      "**************Информация**************\n",
      "\n",
      "<class 'pandas.core.frame.DataFrame'>\n",
      "RangeIndex: 500 entries, 0 to 499\n",
      "Data columns (total 8 columns):\n",
      "user_id       500 non-null int64\n",
      "age           500 non-null int64\n",
      "churn_date    38 non-null object\n",
      "city          500 non-null object\n",
      "first_name    500 non-null object\n",
      "last_name     500 non-null object\n",
      "reg_date      500 non-null object\n",
      "tariff        500 non-null object\n",
      "dtypes: int64(2), object(6)\n",
      "memory usage: 31.4+ KB\n",
      "None\n",
      "\n",
      "**************Таблица: тарифы**************\n",
      "\n"
     ]
    },
    {
     "data": {
      "text/html": [
       "<div>\n",
       "<style scoped>\n",
       "    .dataframe tbody tr th:only-of-type {\n",
       "        vertical-align: middle;\n",
       "    }\n",
       "\n",
       "    .dataframe tbody tr th {\n",
       "        vertical-align: top;\n",
       "    }\n",
       "\n",
       "    .dataframe thead th {\n",
       "        text-align: right;\n",
       "    }\n",
       "</style>\n",
       "<table border=\"1\" class=\"dataframe\">\n",
       "  <thead>\n",
       "    <tr style=\"text-align: right;\">\n",
       "      <th></th>\n",
       "      <th>messages_included</th>\n",
       "      <th>mb_per_month_included</th>\n",
       "      <th>minutes_included</th>\n",
       "      <th>rub_monthly_fee</th>\n",
       "      <th>rub_per_gb</th>\n",
       "      <th>rub_per_message</th>\n",
       "      <th>rub_per_minute</th>\n",
       "      <th>tariff_name</th>\n",
       "    </tr>\n",
       "  </thead>\n",
       "  <tbody>\n",
       "    <tr>\n",
       "      <td>0</td>\n",
       "      <td>50</td>\n",
       "      <td>15360</td>\n",
       "      <td>500</td>\n",
       "      <td>550</td>\n",
       "      <td>200</td>\n",
       "      <td>3</td>\n",
       "      <td>3</td>\n",
       "      <td>smart</td>\n",
       "    </tr>\n",
       "    <tr>\n",
       "      <td>1</td>\n",
       "      <td>1000</td>\n",
       "      <td>30720</td>\n",
       "      <td>3000</td>\n",
       "      <td>1950</td>\n",
       "      <td>150</td>\n",
       "      <td>1</td>\n",
       "      <td>1</td>\n",
       "      <td>ultra</td>\n",
       "    </tr>\n",
       "  </tbody>\n",
       "</table>\n",
       "</div>"
      ],
      "text/plain": [
       "   messages_included  mb_per_month_included  minutes_included  \\\n",
       "0                 50                  15360               500   \n",
       "1               1000                  30720              3000   \n",
       "\n",
       "   rub_monthly_fee  rub_per_gb  rub_per_message  rub_per_minute tariff_name  \n",
       "0              550         200                3               3       smart  \n",
       "1             1950         150                1               1       ultra  "
      ]
     },
     "metadata": {},
     "output_type": "display_data"
    },
    {
     "name": "stdout",
     "output_type": "stream",
     "text": [
      "\n",
      "**************Информация**************\n",
      "\n",
      "<class 'pandas.core.frame.DataFrame'>\n",
      "RangeIndex: 2 entries, 0 to 1\n",
      "Data columns (total 8 columns):\n",
      "messages_included        2 non-null int64\n",
      "mb_per_month_included    2 non-null int64\n",
      "minutes_included         2 non-null int64\n",
      "rub_monthly_fee          2 non-null int64\n",
      "rub_per_gb               2 non-null int64\n",
      "rub_per_message          2 non-null int64\n",
      "rub_per_minute           2 non-null int64\n",
      "tariff_name              2 non-null object\n",
      "dtypes: int64(7), object(1)\n",
      "memory usage: 256.0+ bytes\n",
      "None\n",
      "\n",
      "**************Таблица: звонки**************\n",
      "\n"
     ]
    },
    {
     "data": {
      "text/html": [
       "<div>\n",
       "<style scoped>\n",
       "    .dataframe tbody tr th:only-of-type {\n",
       "        vertical-align: middle;\n",
       "    }\n",
       "\n",
       "    .dataframe tbody tr th {\n",
       "        vertical-align: top;\n",
       "    }\n",
       "\n",
       "    .dataframe thead th {\n",
       "        text-align: right;\n",
       "    }\n",
       "</style>\n",
       "<table border=\"1\" class=\"dataframe\">\n",
       "  <thead>\n",
       "    <tr style=\"text-align: right;\">\n",
       "      <th></th>\n",
       "      <th>id</th>\n",
       "      <th>call_date</th>\n",
       "      <th>duration</th>\n",
       "      <th>user_id</th>\n",
       "    </tr>\n",
       "  </thead>\n",
       "  <tbody>\n",
       "    <tr>\n",
       "      <td>0</td>\n",
       "      <td>1000_0</td>\n",
       "      <td>2018-07-25</td>\n",
       "      <td>0.00</td>\n",
       "      <td>1000</td>\n",
       "    </tr>\n",
       "    <tr>\n",
       "      <td>1</td>\n",
       "      <td>1000_1</td>\n",
       "      <td>2018-08-17</td>\n",
       "      <td>0.00</td>\n",
       "      <td>1000</td>\n",
       "    </tr>\n",
       "    <tr>\n",
       "      <td>2</td>\n",
       "      <td>1000_2</td>\n",
       "      <td>2018-06-11</td>\n",
       "      <td>2.85</td>\n",
       "      <td>1000</td>\n",
       "    </tr>\n",
       "    <tr>\n",
       "      <td>3</td>\n",
       "      <td>1000_3</td>\n",
       "      <td>2018-09-21</td>\n",
       "      <td>13.80</td>\n",
       "      <td>1000</td>\n",
       "    </tr>\n",
       "    <tr>\n",
       "      <td>4</td>\n",
       "      <td>1000_4</td>\n",
       "      <td>2018-12-15</td>\n",
       "      <td>5.18</td>\n",
       "      <td>1000</td>\n",
       "    </tr>\n",
       "  </tbody>\n",
       "</table>\n",
       "</div>"
      ],
      "text/plain": [
       "       id   call_date  duration  user_id\n",
       "0  1000_0  2018-07-25      0.00     1000\n",
       "1  1000_1  2018-08-17      0.00     1000\n",
       "2  1000_2  2018-06-11      2.85     1000\n",
       "3  1000_3  2018-09-21     13.80     1000\n",
       "4  1000_4  2018-12-15      5.18     1000"
      ]
     },
     "metadata": {},
     "output_type": "display_data"
    },
    {
     "name": "stdout",
     "output_type": "stream",
     "text": [
      "\n",
      "**************Информация**************\n",
      "\n",
      "<class 'pandas.core.frame.DataFrame'>\n",
      "RangeIndex: 202607 entries, 0 to 202606\n",
      "Data columns (total 4 columns):\n",
      "id           202607 non-null object\n",
      "call_date    202607 non-null object\n",
      "duration     202607 non-null float64\n",
      "user_id      202607 non-null int64\n",
      "dtypes: float64(1), int64(1), object(2)\n",
      "memory usage: 6.2+ MB\n",
      "None\n",
      "\n",
      "**************Таблица: сообщения**************\n",
      "\n"
     ]
    },
    {
     "data": {
      "text/html": [
       "<div>\n",
       "<style scoped>\n",
       "    .dataframe tbody tr th:only-of-type {\n",
       "        vertical-align: middle;\n",
       "    }\n",
       "\n",
       "    .dataframe tbody tr th {\n",
       "        vertical-align: top;\n",
       "    }\n",
       "\n",
       "    .dataframe thead th {\n",
       "        text-align: right;\n",
       "    }\n",
       "</style>\n",
       "<table border=\"1\" class=\"dataframe\">\n",
       "  <thead>\n",
       "    <tr style=\"text-align: right;\">\n",
       "      <th></th>\n",
       "      <th>id</th>\n",
       "      <th>message_date</th>\n",
       "      <th>user_id</th>\n",
       "    </tr>\n",
       "  </thead>\n",
       "  <tbody>\n",
       "    <tr>\n",
       "      <td>0</td>\n",
       "      <td>1000_0</td>\n",
       "      <td>2018-06-27</td>\n",
       "      <td>1000</td>\n",
       "    </tr>\n",
       "    <tr>\n",
       "      <td>1</td>\n",
       "      <td>1000_1</td>\n",
       "      <td>2018-10-08</td>\n",
       "      <td>1000</td>\n",
       "    </tr>\n",
       "    <tr>\n",
       "      <td>2</td>\n",
       "      <td>1000_2</td>\n",
       "      <td>2018-08-04</td>\n",
       "      <td>1000</td>\n",
       "    </tr>\n",
       "    <tr>\n",
       "      <td>3</td>\n",
       "      <td>1000_3</td>\n",
       "      <td>2018-06-16</td>\n",
       "      <td>1000</td>\n",
       "    </tr>\n",
       "    <tr>\n",
       "      <td>4</td>\n",
       "      <td>1000_4</td>\n",
       "      <td>2018-12-05</td>\n",
       "      <td>1000</td>\n",
       "    </tr>\n",
       "  </tbody>\n",
       "</table>\n",
       "</div>"
      ],
      "text/plain": [
       "       id message_date  user_id\n",
       "0  1000_0   2018-06-27     1000\n",
       "1  1000_1   2018-10-08     1000\n",
       "2  1000_2   2018-08-04     1000\n",
       "3  1000_3   2018-06-16     1000\n",
       "4  1000_4   2018-12-05     1000"
      ]
     },
     "metadata": {},
     "output_type": "display_data"
    },
    {
     "name": "stdout",
     "output_type": "stream",
     "text": [
      "\n",
      "**************Информация**************\n",
      "\n",
      "<class 'pandas.core.frame.DataFrame'>\n",
      "RangeIndex: 123036 entries, 0 to 123035\n",
      "Data columns (total 3 columns):\n",
      "id              123036 non-null object\n",
      "message_date    123036 non-null object\n",
      "user_id         123036 non-null int64\n",
      "dtypes: int64(1), object(2)\n",
      "memory usage: 2.8+ MB\n",
      "None\n",
      "\n",
      "**************Таблица: трафик**************\n",
      "\n"
     ]
    },
    {
     "data": {
      "text/html": [
       "<div>\n",
       "<style scoped>\n",
       "    .dataframe tbody tr th:only-of-type {\n",
       "        vertical-align: middle;\n",
       "    }\n",
       "\n",
       "    .dataframe tbody tr th {\n",
       "        vertical-align: top;\n",
       "    }\n",
       "\n",
       "    .dataframe thead th {\n",
       "        text-align: right;\n",
       "    }\n",
       "</style>\n",
       "<table border=\"1\" class=\"dataframe\">\n",
       "  <thead>\n",
       "    <tr style=\"text-align: right;\">\n",
       "      <th></th>\n",
       "      <th>Unnamed: 0</th>\n",
       "      <th>id</th>\n",
       "      <th>mb_used</th>\n",
       "      <th>session_date</th>\n",
       "      <th>user_id</th>\n",
       "    </tr>\n",
       "  </thead>\n",
       "  <tbody>\n",
       "    <tr>\n",
       "      <td>0</td>\n",
       "      <td>0</td>\n",
       "      <td>1000_0</td>\n",
       "      <td>112.95</td>\n",
       "      <td>2018-11-25</td>\n",
       "      <td>1000</td>\n",
       "    </tr>\n",
       "    <tr>\n",
       "      <td>1</td>\n",
       "      <td>1</td>\n",
       "      <td>1000_1</td>\n",
       "      <td>1052.81</td>\n",
       "      <td>2018-09-07</td>\n",
       "      <td>1000</td>\n",
       "    </tr>\n",
       "    <tr>\n",
       "      <td>2</td>\n",
       "      <td>2</td>\n",
       "      <td>1000_2</td>\n",
       "      <td>1197.26</td>\n",
       "      <td>2018-06-25</td>\n",
       "      <td>1000</td>\n",
       "    </tr>\n",
       "    <tr>\n",
       "      <td>3</td>\n",
       "      <td>3</td>\n",
       "      <td>1000_3</td>\n",
       "      <td>550.27</td>\n",
       "      <td>2018-08-22</td>\n",
       "      <td>1000</td>\n",
       "    </tr>\n",
       "    <tr>\n",
       "      <td>4</td>\n",
       "      <td>4</td>\n",
       "      <td>1000_4</td>\n",
       "      <td>302.56</td>\n",
       "      <td>2018-09-24</td>\n",
       "      <td>1000</td>\n",
       "    </tr>\n",
       "  </tbody>\n",
       "</table>\n",
       "</div>"
      ],
      "text/plain": [
       "   Unnamed: 0      id  mb_used session_date  user_id\n",
       "0           0  1000_0   112.95   2018-11-25     1000\n",
       "1           1  1000_1  1052.81   2018-09-07     1000\n",
       "2           2  1000_2  1197.26   2018-06-25     1000\n",
       "3           3  1000_3   550.27   2018-08-22     1000\n",
       "4           4  1000_4   302.56   2018-09-24     1000"
      ]
     },
     "metadata": {},
     "output_type": "display_data"
    },
    {
     "name": "stdout",
     "output_type": "stream",
     "text": [
      "\n",
      "**************Информация**************\n",
      "\n",
      "<class 'pandas.core.frame.DataFrame'>\n",
      "RangeIndex: 149396 entries, 0 to 149395\n",
      "Data columns (total 5 columns):\n",
      "Unnamed: 0      149396 non-null int64\n",
      "id              149396 non-null object\n",
      "mb_used         149396 non-null float64\n",
      "session_date    149396 non-null object\n",
      "user_id         149396 non-null int64\n",
      "dtypes: float64(1), int64(2), object(2)\n",
      "memory usage: 5.7+ MB\n",
      "None\n"
     ]
    }
   ],
   "source": [
    "#создадим массив с названиями датасетов и их данными\n",
    "all_df = [['пользователи', df_users], ['тарифы', df_tariffs], ['звонки', df_call], ['сообщения', df_messages], ['трафик', df_internet]]\n",
    "#пропишем цикл, выводящий основную информацию о данных\n",
    "for df_arr in all_df:\n",
    "    print(f\"\\n**************Таблица: {df_arr[0]}**************\\n\")\n",
    "    display(df_arr[1].head())\n",
    "    print('\\n**************Информация**************\\n')\n",
    "    print(df_arr[1].info())\n"
   ]
  },
  {
   "cell_type": "markdown",
   "metadata": {},
   "source": [
    "### Вывод"
   ]
  },
  {
   "cell_type": "markdown",
   "metadata": {},
   "source": [
    "Оценив визуально качественные характеристики исходных датасетов можно с уверенностью сказать, что необходима предварительная очистка и предобработка данных для дальнейшего анализа. Также с учетом поставленной задачи, неоходимо провести группировку таблиц и сведение их в одну общую со всей необходимой для анализа информацией.\n",
    "\n",
    "Выявлены общие моменты, которые предстоит исправить для проведения дальнейшего анализа:\n",
    "\n",
    "- *call_date*,*churn_date*,*reg_date*,*message_date*,*session_date* - привести к типу datetime (дата и время);\n",
    "\n",
    "- столбцы *tariff* и tariff_name - привести к единому названию;\n",
    "\n",
    "- столбец *id* переименовать в *message* для удобства использования в общей таблице.\n",
    "\n",
    "Также проверить наличие и происходение пропусков, нулей и дубликатов в исходных данных."
   ]
  },
  {
   "cell_type": "markdown",
   "metadata": {},
   "source": [
    "### Шаг 2. Подготовка данных <a name=\"step2\"></a>"
   ]
  },
  {
   "cell_type": "markdown",
   "metadata": {},
   "source": [
    "Для эффективной подготовки данных к анализу первым шагом соберем таблицу, которую будем использовать в дальнейшем анализе и на ее основе уже будем производить очистку. Таблицу мы будем собирать по общим столбцам id пользователя (**'user_id'**) и месяца (**'month'**), проведя при этом группировку в исходных таблицах. Так мы сможем в одной таблице посчитать для каждого пользователя:\n",
    "\n",
    "- количество сделанных звонков и израсходованных минут разговора по месяцам;\n",
    "- количество отправленных сообщений по месяцам;\n",
    "- объем израсходованного интернет-трафика по месяцам;\n",
    "- помесячную выручку с каждого пользователя.\n",
    "\n",
    "Для дальнейшего упрощения группировки и выявления номера месяца нам необходимо привести все даты и время в верный тип данных."
   ]
  },
  {
   "cell_type": "code",
   "execution_count": 5,
   "metadata": {},
   "outputs": [],
   "source": [
    "#переведем данные дат и времени в тип datetime64\n",
    "df_call['call_date'] = pd.to_datetime(df_call['call_date'], format='%Y-%m-%d')\n",
    "df_users['churn_date'] = pd.to_datetime(df_users['churn_date'], format='%Y-%m-%d')\n",
    "df_users['reg_date'] = pd.to_datetime(df_users['reg_date'], format='%Y-%m-%d')\n",
    "df_messages['message_date'] = pd.to_datetime(df_messages['message_date'], format='%Y-%m-%d')\n",
    "df_internet['session_date'] = pd.to_datetime(df_internet['session_date'], format='%Y-%m-%d')"
   ]
  },
  {
   "cell_type": "markdown",
   "metadata": {},
   "source": [
    "Переименуем определенные колонки в таблце **df_users** и **df_users**."
   ]
  },
  {
   "cell_type": "code",
   "execution_count": 6,
   "metadata": {},
   "outputs": [],
   "source": [
    "#переименуем колонки с помощью метода rename\n",
    "df_users = df_users.rename(columns={\"tariff\": \"tariff_name\"})\n",
    "df_messages = df_messages.rename(columns={\"id\": \"message\"})"
   ]
  },
  {
   "cell_type": "markdown",
   "metadata": {},
   "source": [
    "Для группировки таблциц необходимо создать столбцы с номерами месяцев относительно совершенных пользователями действий."
   ]
  },
  {
   "cell_type": "code",
   "execution_count": 7,
   "metadata": {},
   "outputs": [],
   "source": [
    "#создадим столбцы месяца в исходных данных\n",
    "df_call['month'] = df_call['call_date'].dt.month\n",
    "df_messages['month'] = df_messages['message_date'].dt.month\n",
    "df_internet['month'] = df_internet['session_date'].dt.month"
   ]
  },
  {
   "cell_type": "markdown",
   "metadata": {},
   "source": [
    "Так как по условию телекомкомпания «Мегалайн» всегда округляет вверх значения минут и мегабайтов, нам необходимо предварительно произвести округление данных минут и мегабайтов до целых значений вверх."
   ]
  },
  {
   "cell_type": "code",
   "execution_count": 8,
   "metadata": {},
   "outputs": [],
   "source": [
    "#произведем округление данных звонков в трафика до целых чисел вверх\n",
    "df_call['duration'] = df_call['duration'].apply(lambda x: math.ceil(x))\n",
    "df_internet['mb_used'] = df_internet['mb_used'].apply(lambda x: math.ceil(x))"
   ]
  },
  {
   "cell_type": "markdown",
   "metadata": {},
   "source": [
    "Проведем группировку таблиц по пользователям и месяцам, чтобы в дальнейшем эффективно анализировать показатели."
   ]
  },
  {
   "cell_type": "code",
   "execution_count": 9,
   "metadata": {},
   "outputs": [],
   "source": [
    "#группируем таблицы по стобцам 'user_id' и 'month'\n",
    "df_call_users = df_call.groupby(['user_id', 'month'])['duration'].sum().reset_index()\n",
    "df_mesg_users = df_messages.groupby(['user_id', 'month'])['message'].count().reset_index()\n",
    "df_net_users = df_internet.groupby(['user_id', 'month'])['mb_used'].sum().reset_index()"
   ]
  },
  {
   "cell_type": "markdown",
   "metadata": {},
   "source": [
    "После группировки таблиц мы можем провести совмещение данных в одну общую таблицу со всеми показателями."
   ]
  },
  {
   "cell_type": "code",
   "execution_count": 10,
   "metadata": {},
   "outputs": [
    {
     "data": {
      "text/html": [
       "<div>\n",
       "<style scoped>\n",
       "    .dataframe tbody tr th:only-of-type {\n",
       "        vertical-align: middle;\n",
       "    }\n",
       "\n",
       "    .dataframe tbody tr th {\n",
       "        vertical-align: top;\n",
       "    }\n",
       "\n",
       "    .dataframe thead th {\n",
       "        text-align: right;\n",
       "    }\n",
       "</style>\n",
       "<table border=\"1\" class=\"dataframe\">\n",
       "  <thead>\n",
       "    <tr style=\"text-align: right;\">\n",
       "      <th></th>\n",
       "      <th>user_id</th>\n",
       "      <th>month</th>\n",
       "      <th>duration</th>\n",
       "      <th>message</th>\n",
       "      <th>mb_used</th>\n",
       "      <th>age</th>\n",
       "      <th>churn_date</th>\n",
       "      <th>city</th>\n",
       "      <th>first_name</th>\n",
       "      <th>last_name</th>\n",
       "      <th>reg_date</th>\n",
       "      <th>tariff_name</th>\n",
       "      <th>messages_included</th>\n",
       "      <th>mb_per_month_included</th>\n",
       "      <th>minutes_included</th>\n",
       "      <th>rub_monthly_fee</th>\n",
       "      <th>rub_per_gb</th>\n",
       "      <th>rub_per_message</th>\n",
       "      <th>rub_per_minute</th>\n",
       "    </tr>\n",
       "  </thead>\n",
       "  <tbody>\n",
       "    <tr>\n",
       "      <td>0</td>\n",
       "      <td>1000</td>\n",
       "      <td>5</td>\n",
       "      <td>159.0</td>\n",
       "      <td>22.0</td>\n",
       "      <td>2256.0</td>\n",
       "      <td>52</td>\n",
       "      <td>NaT</td>\n",
       "      <td>Краснодар</td>\n",
       "      <td>Рафаил</td>\n",
       "      <td>Верещагин</td>\n",
       "      <td>2018-05-25</td>\n",
       "      <td>ultra</td>\n",
       "      <td>1000</td>\n",
       "      <td>30720</td>\n",
       "      <td>3000</td>\n",
       "      <td>1950</td>\n",
       "      <td>150</td>\n",
       "      <td>1</td>\n",
       "      <td>1</td>\n",
       "    </tr>\n",
       "    <tr>\n",
       "      <td>1</td>\n",
       "      <td>1000</td>\n",
       "      <td>6</td>\n",
       "      <td>172.0</td>\n",
       "      <td>60.0</td>\n",
       "      <td>23257.0</td>\n",
       "      <td>52</td>\n",
       "      <td>NaT</td>\n",
       "      <td>Краснодар</td>\n",
       "      <td>Рафаил</td>\n",
       "      <td>Верещагин</td>\n",
       "      <td>2018-05-25</td>\n",
       "      <td>ultra</td>\n",
       "      <td>1000</td>\n",
       "      <td>30720</td>\n",
       "      <td>3000</td>\n",
       "      <td>1950</td>\n",
       "      <td>150</td>\n",
       "      <td>1</td>\n",
       "      <td>1</td>\n",
       "    </tr>\n",
       "    <tr>\n",
       "      <td>2</td>\n",
       "      <td>1000</td>\n",
       "      <td>7</td>\n",
       "      <td>340.0</td>\n",
       "      <td>75.0</td>\n",
       "      <td>14016.0</td>\n",
       "      <td>52</td>\n",
       "      <td>NaT</td>\n",
       "      <td>Краснодар</td>\n",
       "      <td>Рафаил</td>\n",
       "      <td>Верещагин</td>\n",
       "      <td>2018-05-25</td>\n",
       "      <td>ultra</td>\n",
       "      <td>1000</td>\n",
       "      <td>30720</td>\n",
       "      <td>3000</td>\n",
       "      <td>1950</td>\n",
       "      <td>150</td>\n",
       "      <td>1</td>\n",
       "      <td>1</td>\n",
       "    </tr>\n",
       "    <tr>\n",
       "      <td>3</td>\n",
       "      <td>1000</td>\n",
       "      <td>8</td>\n",
       "      <td>408.0</td>\n",
       "      <td>81.0</td>\n",
       "      <td>14070.0</td>\n",
       "      <td>52</td>\n",
       "      <td>NaT</td>\n",
       "      <td>Краснодар</td>\n",
       "      <td>Рафаил</td>\n",
       "      <td>Верещагин</td>\n",
       "      <td>2018-05-25</td>\n",
       "      <td>ultra</td>\n",
       "      <td>1000</td>\n",
       "      <td>30720</td>\n",
       "      <td>3000</td>\n",
       "      <td>1950</td>\n",
       "      <td>150</td>\n",
       "      <td>1</td>\n",
       "      <td>1</td>\n",
       "    </tr>\n",
       "    <tr>\n",
       "      <td>4</td>\n",
       "      <td>1000</td>\n",
       "      <td>9</td>\n",
       "      <td>466.0</td>\n",
       "      <td>57.0</td>\n",
       "      <td>14581.0</td>\n",
       "      <td>52</td>\n",
       "      <td>NaT</td>\n",
       "      <td>Краснодар</td>\n",
       "      <td>Рафаил</td>\n",
       "      <td>Верещагин</td>\n",
       "      <td>2018-05-25</td>\n",
       "      <td>ultra</td>\n",
       "      <td>1000</td>\n",
       "      <td>30720</td>\n",
       "      <td>3000</td>\n",
       "      <td>1950</td>\n",
       "      <td>150</td>\n",
       "      <td>1</td>\n",
       "      <td>1</td>\n",
       "    </tr>\n",
       "    <tr>\n",
       "      <td>...</td>\n",
       "      <td>...</td>\n",
       "      <td>...</td>\n",
       "      <td>...</td>\n",
       "      <td>...</td>\n",
       "      <td>...</td>\n",
       "      <td>...</td>\n",
       "      <td>...</td>\n",
       "      <td>...</td>\n",
       "      <td>...</td>\n",
       "      <td>...</td>\n",
       "      <td>...</td>\n",
       "      <td>...</td>\n",
       "      <td>...</td>\n",
       "      <td>...</td>\n",
       "      <td>...</td>\n",
       "      <td>...</td>\n",
       "      <td>...</td>\n",
       "      <td>...</td>\n",
       "      <td>...</td>\n",
       "    </tr>\n",
       "    <tr>\n",
       "      <td>3209</td>\n",
       "      <td>1489</td>\n",
       "      <td>9</td>\n",
       "      <td>NaN</td>\n",
       "      <td>32.0</td>\n",
       "      <td>17232.0</td>\n",
       "      <td>35</td>\n",
       "      <td>NaT</td>\n",
       "      <td>Санкт-Петербург</td>\n",
       "      <td>Павел</td>\n",
       "      <td>Гончаров</td>\n",
       "      <td>2018-08-15</td>\n",
       "      <td>smart</td>\n",
       "      <td>50</td>\n",
       "      <td>15360</td>\n",
       "      <td>500</td>\n",
       "      <td>550</td>\n",
       "      <td>200</td>\n",
       "      <td>3</td>\n",
       "      <td>3</td>\n",
       "    </tr>\n",
       "    <tr>\n",
       "      <td>3210</td>\n",
       "      <td>1489</td>\n",
       "      <td>10</td>\n",
       "      <td>NaN</td>\n",
       "      <td>21.0</td>\n",
       "      <td>19588.0</td>\n",
       "      <td>35</td>\n",
       "      <td>NaT</td>\n",
       "      <td>Санкт-Петербург</td>\n",
       "      <td>Павел</td>\n",
       "      <td>Гончаров</td>\n",
       "      <td>2018-08-15</td>\n",
       "      <td>smart</td>\n",
       "      <td>50</td>\n",
       "      <td>15360</td>\n",
       "      <td>500</td>\n",
       "      <td>550</td>\n",
       "      <td>200</td>\n",
       "      <td>3</td>\n",
       "      <td>3</td>\n",
       "    </tr>\n",
       "    <tr>\n",
       "      <td>3211</td>\n",
       "      <td>1489</td>\n",
       "      <td>11</td>\n",
       "      <td>NaN</td>\n",
       "      <td>20.0</td>\n",
       "      <td>17516.0</td>\n",
       "      <td>35</td>\n",
       "      <td>NaT</td>\n",
       "      <td>Санкт-Петербург</td>\n",
       "      <td>Павел</td>\n",
       "      <td>Гончаров</td>\n",
       "      <td>2018-08-15</td>\n",
       "      <td>smart</td>\n",
       "      <td>50</td>\n",
       "      <td>15360</td>\n",
       "      <td>500</td>\n",
       "      <td>550</td>\n",
       "      <td>200</td>\n",
       "      <td>3</td>\n",
       "      <td>3</td>\n",
       "    </tr>\n",
       "    <tr>\n",
       "      <td>3212</td>\n",
       "      <td>1489</td>\n",
       "      <td>12</td>\n",
       "      <td>NaN</td>\n",
       "      <td>35.0</td>\n",
       "      <td>17341.0</td>\n",
       "      <td>35</td>\n",
       "      <td>NaT</td>\n",
       "      <td>Санкт-Петербург</td>\n",
       "      <td>Павел</td>\n",
       "      <td>Гончаров</td>\n",
       "      <td>2018-08-15</td>\n",
       "      <td>smart</td>\n",
       "      <td>50</td>\n",
       "      <td>15360</td>\n",
       "      <td>500</td>\n",
       "      <td>550</td>\n",
       "      <td>200</td>\n",
       "      <td>3</td>\n",
       "      <td>3</td>\n",
       "    </tr>\n",
       "    <tr>\n",
       "      <td>3213</td>\n",
       "      <td>1476</td>\n",
       "      <td>4</td>\n",
       "      <td>NaN</td>\n",
       "      <td>NaN</td>\n",
       "      <td>531.0</td>\n",
       "      <td>50</td>\n",
       "      <td>NaT</td>\n",
       "      <td>Москва</td>\n",
       "      <td>Валентина</td>\n",
       "      <td>Семенова</td>\n",
       "      <td>2018-04-30</td>\n",
       "      <td>ultra</td>\n",
       "      <td>1000</td>\n",
       "      <td>30720</td>\n",
       "      <td>3000</td>\n",
       "      <td>1950</td>\n",
       "      <td>150</td>\n",
       "      <td>1</td>\n",
       "      <td>1</td>\n",
       "    </tr>\n",
       "  </tbody>\n",
       "</table>\n",
       "<p>3214 rows × 19 columns</p>\n",
       "</div>"
      ],
      "text/plain": [
       "      user_id  month  duration  message  mb_used  age churn_date  \\\n",
       "0        1000      5     159.0     22.0   2256.0   52        NaT   \n",
       "1        1000      6     172.0     60.0  23257.0   52        NaT   \n",
       "2        1000      7     340.0     75.0  14016.0   52        NaT   \n",
       "3        1000      8     408.0     81.0  14070.0   52        NaT   \n",
       "4        1000      9     466.0     57.0  14581.0   52        NaT   \n",
       "...       ...    ...       ...      ...      ...  ...        ...   \n",
       "3209     1489      9       NaN     32.0  17232.0   35        NaT   \n",
       "3210     1489     10       NaN     21.0  19588.0   35        NaT   \n",
       "3211     1489     11       NaN     20.0  17516.0   35        NaT   \n",
       "3212     1489     12       NaN     35.0  17341.0   35        NaT   \n",
       "3213     1476      4       NaN      NaN    531.0   50        NaT   \n",
       "\n",
       "                 city first_name  last_name   reg_date tariff_name  \\\n",
       "0           Краснодар     Рафаил  Верещагин 2018-05-25       ultra   \n",
       "1           Краснодар     Рафаил  Верещагин 2018-05-25       ultra   \n",
       "2           Краснодар     Рафаил  Верещагин 2018-05-25       ultra   \n",
       "3           Краснодар     Рафаил  Верещагин 2018-05-25       ultra   \n",
       "4           Краснодар     Рафаил  Верещагин 2018-05-25       ultra   \n",
       "...               ...        ...        ...        ...         ...   \n",
       "3209  Санкт-Петербург      Павел   Гончаров 2018-08-15       smart   \n",
       "3210  Санкт-Петербург      Павел   Гончаров 2018-08-15       smart   \n",
       "3211  Санкт-Петербург      Павел   Гончаров 2018-08-15       smart   \n",
       "3212  Санкт-Петербург      Павел   Гончаров 2018-08-15       smart   \n",
       "3213           Москва  Валентина   Семенова 2018-04-30       ultra   \n",
       "\n",
       "      messages_included  mb_per_month_included  minutes_included  \\\n",
       "0                  1000                  30720              3000   \n",
       "1                  1000                  30720              3000   \n",
       "2                  1000                  30720              3000   \n",
       "3                  1000                  30720              3000   \n",
       "4                  1000                  30720              3000   \n",
       "...                 ...                    ...               ...   \n",
       "3209                 50                  15360               500   \n",
       "3210                 50                  15360               500   \n",
       "3211                 50                  15360               500   \n",
       "3212                 50                  15360               500   \n",
       "3213               1000                  30720              3000   \n",
       "\n",
       "      rub_monthly_fee  rub_per_gb  rub_per_message  rub_per_minute  \n",
       "0                1950         150                1               1  \n",
       "1                1950         150                1               1  \n",
       "2                1950         150                1               1  \n",
       "3                1950         150                1               1  \n",
       "4                1950         150                1               1  \n",
       "...               ...         ...              ...             ...  \n",
       "3209              550         200                3               3  \n",
       "3210              550         200                3               3  \n",
       "3211              550         200                3               3  \n",
       "3212              550         200                3               3  \n",
       "3213             1950         150                1               1  \n",
       "\n",
       "[3214 rows x 19 columns]"
      ]
     },
     "execution_count": 10,
     "metadata": {},
     "output_type": "execute_result"
    }
   ],
   "source": [
    "#соединяем таблицы по значениям столбцов 'user_id' и 'month', а также 'tariff_name'\n",
    "df_merged = df_call_users.merge(df_mesg_users, on=['user_id', 'month'], how='outer')  \n",
    "df_merged = df_merged.merge(df_net_users, on=['user_id', 'month'], how='outer')  \n",
    "df_merged = df_merged.merge(df_users, on='user_id', how='left')  \n",
    "df_merged = df_merged.merge(df_tariffs, on='tariff_name', how='left')  \n",
    "#посмотрим на получившуюся таблицу\n",
    "df_merged.head()"
   ]
  },
  {
   "cell_type": "markdown",
   "metadata": {},
   "source": [
    "В итоге у нас получилась большая общая таблица, которая содержит информацию о количестве совершенных звонков, отправленных сообщений и использованнног трафика каждого пользователя по месяцам, а также информацию о тарифе этого пользователя и его основных показателях.\n",
    "\n",
    "Посмотрим на качественные показатели собранного датафрейма, а также проверим наличие пропусков и дубликатов."
   ]
  },
  {
   "cell_type": "code",
   "execution_count": 11,
   "metadata": {
    "scrolled": false
   },
   "outputs": [
    {
     "name": "stdout",
     "output_type": "stream",
     "text": [
      "<class 'pandas.core.frame.DataFrame'>\n",
      "Int64Index: 3214 entries, 0 to 3213\n",
      "Data columns (total 19 columns):\n",
      "user_id                  3214 non-null int64\n",
      "month                    3214 non-null int64\n",
      "duration                 3174 non-null float64\n",
      "message                  2717 non-null float64\n",
      "mb_used                  3203 non-null float64\n",
      "age                      3214 non-null int64\n",
      "churn_date               187 non-null datetime64[ns]\n",
      "city                     3214 non-null object\n",
      "first_name               3214 non-null object\n",
      "last_name                3214 non-null object\n",
      "reg_date                 3214 non-null datetime64[ns]\n",
      "tariff_name              3214 non-null object\n",
      "messages_included        3214 non-null int64\n",
      "mb_per_month_included    3214 non-null int64\n",
      "minutes_included         3214 non-null int64\n",
      "rub_monthly_fee          3214 non-null int64\n",
      "rub_per_gb               3214 non-null int64\n",
      "rub_per_message          3214 non-null int64\n",
      "rub_per_minute           3214 non-null int64\n",
      "dtypes: datetime64[ns](2), float64(3), int64(10), object(4)\n",
      "memory usage: 502.2+ KB\n"
     ]
    }
   ],
   "source": [
    "#посмотрим на основные качественные показатели\n",
    "df_merged.info()"
   ]
  },
  {
   "cell_type": "code",
   "execution_count": 12,
   "metadata": {},
   "outputs": [
    {
     "data": {
      "text/plain": [
       "user_id                     0\n",
       "month                       0\n",
       "duration                   40\n",
       "message                   497\n",
       "mb_used                    11\n",
       "age                         0\n",
       "churn_date               3027\n",
       "city                        0\n",
       "first_name                  0\n",
       "last_name                   0\n",
       "reg_date                    0\n",
       "tariff_name                 0\n",
       "messages_included           0\n",
       "mb_per_month_included       0\n",
       "minutes_included            0\n",
       "rub_monthly_fee             0\n",
       "rub_per_gb                  0\n",
       "rub_per_message             0\n",
       "rub_per_minute              0\n",
       "dtype: int64"
      ]
     },
     "execution_count": 12,
     "metadata": {},
     "output_type": "execute_result"
    }
   ],
   "source": [
    "#проверим наличие пропусков\n",
    "df_merged.isna().sum()"
   ]
  },
  {
   "cell_type": "code",
   "execution_count": 13,
   "metadata": {},
   "outputs": [
    {
     "data": {
      "text/plain": [
       "0"
      ]
     },
     "execution_count": 13,
     "metadata": {},
     "output_type": "execute_result"
    }
   ],
   "source": [
    "#произведем поиск дубликатов\n",
    "df_merged.duplicated().sum()"
   ]
  },
  {
   "cell_type": "markdown",
   "metadata": {},
   "source": [
    "Также на этапе ознакомления с предоставленной заказчиком информацие было обращено внимание на аспект, что длительность многих звонков — 0.0 минут. Это могут быть пропущенные звонки. Оценим их количество и его влияние на данные."
   ]
  },
  {
   "cell_type": "code",
   "execution_count": 14,
   "metadata": {},
   "outputs": [
    {
     "name": "stdout",
     "output_type": "stream",
     "text": [
      "Процент пропущенных звонков: 0.1890359168241966\n"
     ]
    }
   ],
   "source": [
    "#процент нулевых значений длины разговора от общего количества \n",
    "print('Процент пропущенных звонков:',  (df_merged.query('duration == \"0\"')['duration'].count()/df_merged['duration'].count())*100)"
   ]
  },
  {
   "cell_type": "markdown",
   "metadata": {},
   "source": [
    "Процент наличия пропущенных звонков (при отсутствии использования звонками, так как мы для анализа используем уже собранный из исходных данных датафрейм) составляет менее 1 процента всех пользователей, соответвенно влияние на качество данных у этого аспекта нет.\n",
    "\n",
    "Типы данных в датасете верные, существуют пропуски в данных о продолжительности звонков, количестве отправленных сообщений и использованного трафика, а также большое количество пропусков в дате прекращения пользования тарифом. \n",
    "\n",
    "Причины возникновения пропусков могут быть разными. В данном случае относительно данных о действиях пользователей можно однохначно сказать, что не все пользователи используют все действия связи - кто-то исключительно звонит, кто-то не пишет смс, а пользуется веб-мессенжерами, так что возникновение данных пропусков не является ошибкой в данных. Также исходя из информации, предоставленной телекомкомпанией, \"если значение в дате прекращения пользования тарифом пропущено, то тариф ещё действовал на момент выгрузки данных\", из чего можем сделать вывод, что значительная часть пользователей на момент выгрузки данных еще пользовались обозначенными тарифами.\n",
    "\n",
    "На основании выявленных причин возникновения пропусков и для эффективности дальнейшего анализа проведем замену пропусков в столбцах с данными о действиях пользователей на нули."
   ]
  },
  {
   "cell_type": "code",
   "execution_count": 15,
   "metadata": {},
   "outputs": [],
   "source": [
    "#замена пропусков в столбцах на нули\n",
    "df_merged['duration'] = df_merged['duration'].fillna(0) \n",
    "df_merged['message'] = df_merged['message'].fillna(0) \n",
    "df_merged['mb_used'] = df_merged['mb_used'].fillna(0) "
   ]
  },
  {
   "cell_type": "markdown",
   "metadata": {},
   "source": [
    "Для полных данных в таблице нам необходимо посчитать помесячную выручку с каждого пользователя. Для этого создадим столбец, в который запишем данные о выруче. Чтобы их найти создадим функцию, которая по условиям будет: вычтитать бесплатный лимит из суммарного количества звонков, сообщений и интернет-трафика, остаток умножать на значение из тарифного плана и прибавлять абонентскую плату, соответствующую тарифному плану."
   ]
  },
  {
   "cell_type": "code",
   "execution_count": 16,
   "metadata": {},
   "outputs": [
    {
     "data": {
      "text/html": [
       "<div>\n",
       "<style scoped>\n",
       "    .dataframe tbody tr th:only-of-type {\n",
       "        vertical-align: middle;\n",
       "    }\n",
       "\n",
       "    .dataframe tbody tr th {\n",
       "        vertical-align: top;\n",
       "    }\n",
       "\n",
       "    .dataframe thead th {\n",
       "        text-align: right;\n",
       "    }\n",
       "</style>\n",
       "<table border=\"1\" class=\"dataframe\">\n",
       "  <thead>\n",
       "    <tr style=\"text-align: right;\">\n",
       "      <th></th>\n",
       "      <th>user_id</th>\n",
       "      <th>month</th>\n",
       "      <th>duration</th>\n",
       "      <th>message</th>\n",
       "      <th>mb_used</th>\n",
       "      <th>age</th>\n",
       "      <th>churn_date</th>\n",
       "      <th>city</th>\n",
       "      <th>first_name</th>\n",
       "      <th>last_name</th>\n",
       "      <th>reg_date</th>\n",
       "      <th>tariff_name</th>\n",
       "      <th>messages_included</th>\n",
       "      <th>mb_per_month_included</th>\n",
       "      <th>minutes_included</th>\n",
       "      <th>rub_monthly_fee</th>\n",
       "      <th>rub_per_gb</th>\n",
       "      <th>rub_per_message</th>\n",
       "      <th>rub_per_minute</th>\n",
       "      <th>month_revenue</th>\n",
       "    </tr>\n",
       "  </thead>\n",
       "  <tbody>\n",
       "    <tr>\n",
       "      <td>0</td>\n",
       "      <td>1000</td>\n",
       "      <td>5</td>\n",
       "      <td>159.0</td>\n",
       "      <td>22.0</td>\n",
       "      <td>2256.0</td>\n",
       "      <td>52</td>\n",
       "      <td>NaT</td>\n",
       "      <td>Краснодар</td>\n",
       "      <td>Рафаил</td>\n",
       "      <td>Верещагин</td>\n",
       "      <td>2018-05-25</td>\n",
       "      <td>ultra</td>\n",
       "      <td>1000</td>\n",
       "      <td>30720</td>\n",
       "      <td>3000</td>\n",
       "      <td>1950</td>\n",
       "      <td>150</td>\n",
       "      <td>1</td>\n",
       "      <td>1</td>\n",
       "      <td>1950.0</td>\n",
       "    </tr>\n",
       "    <tr>\n",
       "      <td>1</td>\n",
       "      <td>1000</td>\n",
       "      <td>6</td>\n",
       "      <td>172.0</td>\n",
       "      <td>60.0</td>\n",
       "      <td>23257.0</td>\n",
       "      <td>52</td>\n",
       "      <td>NaT</td>\n",
       "      <td>Краснодар</td>\n",
       "      <td>Рафаил</td>\n",
       "      <td>Верещагин</td>\n",
       "      <td>2018-05-25</td>\n",
       "      <td>ultra</td>\n",
       "      <td>1000</td>\n",
       "      <td>30720</td>\n",
       "      <td>3000</td>\n",
       "      <td>1950</td>\n",
       "      <td>150</td>\n",
       "      <td>1</td>\n",
       "      <td>1</td>\n",
       "      <td>1950.0</td>\n",
       "    </tr>\n",
       "    <tr>\n",
       "      <td>2</td>\n",
       "      <td>1000</td>\n",
       "      <td>7</td>\n",
       "      <td>340.0</td>\n",
       "      <td>75.0</td>\n",
       "      <td>14016.0</td>\n",
       "      <td>52</td>\n",
       "      <td>NaT</td>\n",
       "      <td>Краснодар</td>\n",
       "      <td>Рафаил</td>\n",
       "      <td>Верещагин</td>\n",
       "      <td>2018-05-25</td>\n",
       "      <td>ultra</td>\n",
       "      <td>1000</td>\n",
       "      <td>30720</td>\n",
       "      <td>3000</td>\n",
       "      <td>1950</td>\n",
       "      <td>150</td>\n",
       "      <td>1</td>\n",
       "      <td>1</td>\n",
       "      <td>1950.0</td>\n",
       "    </tr>\n",
       "    <tr>\n",
       "      <td>3</td>\n",
       "      <td>1000</td>\n",
       "      <td>8</td>\n",
       "      <td>408.0</td>\n",
       "      <td>81.0</td>\n",
       "      <td>14070.0</td>\n",
       "      <td>52</td>\n",
       "      <td>NaT</td>\n",
       "      <td>Краснодар</td>\n",
       "      <td>Рафаил</td>\n",
       "      <td>Верещагин</td>\n",
       "      <td>2018-05-25</td>\n",
       "      <td>ultra</td>\n",
       "      <td>1000</td>\n",
       "      <td>30720</td>\n",
       "      <td>3000</td>\n",
       "      <td>1950</td>\n",
       "      <td>150</td>\n",
       "      <td>1</td>\n",
       "      <td>1</td>\n",
       "      <td>1950.0</td>\n",
       "    </tr>\n",
       "    <tr>\n",
       "      <td>4</td>\n",
       "      <td>1000</td>\n",
       "      <td>9</td>\n",
       "      <td>466.0</td>\n",
       "      <td>57.0</td>\n",
       "      <td>14581.0</td>\n",
       "      <td>52</td>\n",
       "      <td>NaT</td>\n",
       "      <td>Краснодар</td>\n",
       "      <td>Рафаил</td>\n",
       "      <td>Верещагин</td>\n",
       "      <td>2018-05-25</td>\n",
       "      <td>ultra</td>\n",
       "      <td>1000</td>\n",
       "      <td>30720</td>\n",
       "      <td>3000</td>\n",
       "      <td>1950</td>\n",
       "      <td>150</td>\n",
       "      <td>1</td>\n",
       "      <td>1</td>\n",
       "      <td>1950.0</td>\n",
       "    </tr>\n",
       "    <tr>\n",
       "      <td>...</td>\n",
       "      <td>...</td>\n",
       "      <td>...</td>\n",
       "      <td>...</td>\n",
       "      <td>...</td>\n",
       "      <td>...</td>\n",
       "      <td>...</td>\n",
       "      <td>...</td>\n",
       "      <td>...</td>\n",
       "      <td>...</td>\n",
       "      <td>...</td>\n",
       "      <td>...</td>\n",
       "      <td>...</td>\n",
       "      <td>...</td>\n",
       "      <td>...</td>\n",
       "      <td>...</td>\n",
       "      <td>...</td>\n",
       "      <td>...</td>\n",
       "      <td>...</td>\n",
       "      <td>...</td>\n",
       "      <td>...</td>\n",
       "    </tr>\n",
       "    <tr>\n",
       "      <td>3209</td>\n",
       "      <td>1489</td>\n",
       "      <td>9</td>\n",
       "      <td>0.0</td>\n",
       "      <td>32.0</td>\n",
       "      <td>17232.0</td>\n",
       "      <td>35</td>\n",
       "      <td>NaT</td>\n",
       "      <td>Санкт-Петербург</td>\n",
       "      <td>Павел</td>\n",
       "      <td>Гончаров</td>\n",
       "      <td>2018-08-15</td>\n",
       "      <td>smart</td>\n",
       "      <td>50</td>\n",
       "      <td>15360</td>\n",
       "      <td>500</td>\n",
       "      <td>550</td>\n",
       "      <td>200</td>\n",
       "      <td>3</td>\n",
       "      <td>3</td>\n",
       "      <td>916.0</td>\n",
       "    </tr>\n",
       "    <tr>\n",
       "      <td>3210</td>\n",
       "      <td>1489</td>\n",
       "      <td>10</td>\n",
       "      <td>0.0</td>\n",
       "      <td>21.0</td>\n",
       "      <td>19588.0</td>\n",
       "      <td>35</td>\n",
       "      <td>NaT</td>\n",
       "      <td>Санкт-Петербург</td>\n",
       "      <td>Павел</td>\n",
       "      <td>Гончаров</td>\n",
       "      <td>2018-08-15</td>\n",
       "      <td>smart</td>\n",
       "      <td>50</td>\n",
       "      <td>15360</td>\n",
       "      <td>500</td>\n",
       "      <td>550</td>\n",
       "      <td>200</td>\n",
       "      <td>3</td>\n",
       "      <td>3</td>\n",
       "      <td>1376.0</td>\n",
       "    </tr>\n",
       "    <tr>\n",
       "      <td>3211</td>\n",
       "      <td>1489</td>\n",
       "      <td>11</td>\n",
       "      <td>0.0</td>\n",
       "      <td>20.0</td>\n",
       "      <td>17516.0</td>\n",
       "      <td>35</td>\n",
       "      <td>NaT</td>\n",
       "      <td>Санкт-Петербург</td>\n",
       "      <td>Павел</td>\n",
       "      <td>Гончаров</td>\n",
       "      <td>2018-08-15</td>\n",
       "      <td>smart</td>\n",
       "      <td>50</td>\n",
       "      <td>15360</td>\n",
       "      <td>500</td>\n",
       "      <td>550</td>\n",
       "      <td>200</td>\n",
       "      <td>3</td>\n",
       "      <td>3</td>\n",
       "      <td>971.0</td>\n",
       "    </tr>\n",
       "    <tr>\n",
       "      <td>3212</td>\n",
       "      <td>1489</td>\n",
       "      <td>12</td>\n",
       "      <td>0.0</td>\n",
       "      <td>35.0</td>\n",
       "      <td>17341.0</td>\n",
       "      <td>35</td>\n",
       "      <td>NaT</td>\n",
       "      <td>Санкт-Петербург</td>\n",
       "      <td>Павел</td>\n",
       "      <td>Гончаров</td>\n",
       "      <td>2018-08-15</td>\n",
       "      <td>smart</td>\n",
       "      <td>50</td>\n",
       "      <td>15360</td>\n",
       "      <td>500</td>\n",
       "      <td>550</td>\n",
       "      <td>200</td>\n",
       "      <td>3</td>\n",
       "      <td>3</td>\n",
       "      <td>937.0</td>\n",
       "    </tr>\n",
       "    <tr>\n",
       "      <td>3213</td>\n",
       "      <td>1476</td>\n",
       "      <td>4</td>\n",
       "      <td>0.0</td>\n",
       "      <td>0.0</td>\n",
       "      <td>531.0</td>\n",
       "      <td>50</td>\n",
       "      <td>NaT</td>\n",
       "      <td>Москва</td>\n",
       "      <td>Валентина</td>\n",
       "      <td>Семенова</td>\n",
       "      <td>2018-04-30</td>\n",
       "      <td>ultra</td>\n",
       "      <td>1000</td>\n",
       "      <td>30720</td>\n",
       "      <td>3000</td>\n",
       "      <td>1950</td>\n",
       "      <td>150</td>\n",
       "      <td>1</td>\n",
       "      <td>1</td>\n",
       "      <td>1950.0</td>\n",
       "    </tr>\n",
       "  </tbody>\n",
       "</table>\n",
       "<p>3214 rows × 20 columns</p>\n",
       "</div>"
      ],
      "text/plain": [
       "      user_id  month  duration  message  mb_used  age churn_date  \\\n",
       "0        1000      5     159.0     22.0   2256.0   52        NaT   \n",
       "1        1000      6     172.0     60.0  23257.0   52        NaT   \n",
       "2        1000      7     340.0     75.0  14016.0   52        NaT   \n",
       "3        1000      8     408.0     81.0  14070.0   52        NaT   \n",
       "4        1000      9     466.0     57.0  14581.0   52        NaT   \n",
       "...       ...    ...       ...      ...      ...  ...        ...   \n",
       "3209     1489      9       0.0     32.0  17232.0   35        NaT   \n",
       "3210     1489     10       0.0     21.0  19588.0   35        NaT   \n",
       "3211     1489     11       0.0     20.0  17516.0   35        NaT   \n",
       "3212     1489     12       0.0     35.0  17341.0   35        NaT   \n",
       "3213     1476      4       0.0      0.0    531.0   50        NaT   \n",
       "\n",
       "                 city first_name  last_name   reg_date tariff_name  \\\n",
       "0           Краснодар     Рафаил  Верещагин 2018-05-25       ultra   \n",
       "1           Краснодар     Рафаил  Верещагин 2018-05-25       ultra   \n",
       "2           Краснодар     Рафаил  Верещагин 2018-05-25       ultra   \n",
       "3           Краснодар     Рафаил  Верещагин 2018-05-25       ultra   \n",
       "4           Краснодар     Рафаил  Верещагин 2018-05-25       ultra   \n",
       "...               ...        ...        ...        ...         ...   \n",
       "3209  Санкт-Петербург      Павел   Гончаров 2018-08-15       smart   \n",
       "3210  Санкт-Петербург      Павел   Гончаров 2018-08-15       smart   \n",
       "3211  Санкт-Петербург      Павел   Гончаров 2018-08-15       smart   \n",
       "3212  Санкт-Петербург      Павел   Гончаров 2018-08-15       smart   \n",
       "3213           Москва  Валентина   Семенова 2018-04-30       ultra   \n",
       "\n",
       "      messages_included  mb_per_month_included  minutes_included  \\\n",
       "0                  1000                  30720              3000   \n",
       "1                  1000                  30720              3000   \n",
       "2                  1000                  30720              3000   \n",
       "3                  1000                  30720              3000   \n",
       "4                  1000                  30720              3000   \n",
       "...                 ...                    ...               ...   \n",
       "3209                 50                  15360               500   \n",
       "3210                 50                  15360               500   \n",
       "3211                 50                  15360               500   \n",
       "3212                 50                  15360               500   \n",
       "3213               1000                  30720              3000   \n",
       "\n",
       "      rub_monthly_fee  rub_per_gb  rub_per_message  rub_per_minute  \\\n",
       "0                1950         150                1               1   \n",
       "1                1950         150                1               1   \n",
       "2                1950         150                1               1   \n",
       "3                1950         150                1               1   \n",
       "4                1950         150                1               1   \n",
       "...               ...         ...              ...             ...   \n",
       "3209              550         200                3               3   \n",
       "3210              550         200                3               3   \n",
       "3211              550         200                3               3   \n",
       "3212              550         200                3               3   \n",
       "3213             1950         150                1               1   \n",
       "\n",
       "      month_revenue  \n",
       "0            1950.0  \n",
       "1            1950.0  \n",
       "2            1950.0  \n",
       "3            1950.0  \n",
       "4            1950.0  \n",
       "...             ...  \n",
       "3209          916.0  \n",
       "3210         1376.0  \n",
       "3211          971.0  \n",
       "3212          937.0  \n",
       "3213         1950.0  \n",
       "\n",
       "[3214 rows x 20 columns]"
      ]
     },
     "execution_count": 16,
     "metadata": {},
     "output_type": "execute_result"
    }
   ],
   "source": [
    "#функция для подсчета выручки\n",
    "def month_revenue(row):    \n",
    "    if row['duration'] < row['minutes_included']:\n",
    "        calls_revenue = 0\n",
    "    else:\n",
    "        calls_revenue = (row['duration'] - row['minutes_included']) * row['rub_per_minute']\n",
    " \n",
    " \n",
    "    if row['message'] < row['messages_included']:\n",
    "        message_revenue = 0\n",
    "    else:\n",
    "        message_revenue = (row['message'] - row['messages_included']) * row['rub_per_message'] \n",
    " \n",
    " \n",
    "    if row['mb_used'] < row['mb_per_month_included']:\n",
    "        internet_revenue = 0\n",
    "    else:\n",
    "        internet_revenue = (row['mb_used'] - row['mb_per_month_included']) / 1024 * row['rub_per_gb']\n",
    " \n",
    " \n",
    "    total_revenue =  row['rub_monthly_fee'] + calls_revenue + message_revenue + internet_revenue\n",
    "    return total_revenue\n",
    "#сощдадим столбец выручки и применим функцию \n",
    "df_merged['month_revenue'] = df_merged.apply(month_revenue, axis = 1)\n",
    "#округлим значения выручки\n",
    "df_merged['month_revenue'] = df_merged['month_revenue'].round()\n",
    "#посмотим на собранные данные\n",
    "df_merged.head()"
   ]
  },
  {
   "cell_type": "markdown",
   "metadata": {},
   "source": [
    "Данные собраны верно - теперь информация полная. Для дальнейшего анализа нам не понадобятся столбцы **churn_date** и **reg_date** - можем их удалить."
   ]
  },
  {
   "cell_type": "code",
   "execution_count": 17,
   "metadata": {},
   "outputs": [],
   "source": [
    "#удаление столбцов\n",
    "df_merged = df_merged.drop(['churn_date', 'reg_date'], axis=1)"
   ]
  },
  {
   "cell_type": "markdown",
   "metadata": {},
   "source": [
    "### Вывод"
   ]
  },
  {
   "cell_type": "markdown",
   "metadata": {},
   "source": [
    "В ходе этапа \"Подготовка данных\" было проведено: \n",
    "\n",
    "- замена типа данных в столбцах даты и времени; \n",
    "\n",
    "- переименование столбцов; \n",
    "\n",
    "- группировка исходных данных, их сбор в единую таблицу и создание новых данных;\n",
    "\n",
    "- обнаружение и замена пропущенных значений. \n",
    "\n",
    "Относительно ситуации с пропущенными значениями - вероятней всего предположить, что пропуски возникли в результате поведенческих факторов и предпочтений пользователей, а также обоснованных форм методологии при выгрузке (данные о пользовании тарифом на момент выгрузки)."
   ]
  },
  {
   "cell_type": "markdown",
   "metadata": {},
   "source": [
    "### Шаг 3. Анализ данных <a name=\"step3\"></a>"
   ]
  },
  {
   "cell_type": "markdown",
   "metadata": {},
   "source": [
    "На данном этапе необходимо проанализировать поведение пользователей какое количество минут разговора, сообщений и объема интернет-трафика требуется пользователям каждого тарифа в месяц. \n",
    "\n",
    "Для данного анализа нам необходимо данные разделить исходя из названий тарифов, к которым относятся пользователи и в дальнейшем исследовать данные в разрезе тарифов. Создадим таблицы с данными по каждому тарифу."
   ]
  },
  {
   "cell_type": "code",
   "execution_count": 18,
   "metadata": {},
   "outputs": [],
   "source": [
    "#таблицы с выборкой данных по каждому тарифу\n",
    "df_ultra = df_merged.query('tariff_name == \"ultra\"')\n",
    "df_smart = df_merged.query('tariff_name == \"smart\"')"
   ]
  },
  {
   "cell_type": "markdown",
   "metadata": {},
   "source": [
    "Изучим пользователей каждой выборки, чтобы оценить их дальнейшее сопоставление. Для этого создадим функцию, которая будет считать средний возраст пользователя, а также его процент пользования предоставляемыми тарифными планами услугами."
   ]
  },
  {
   "cell_type": "code",
   "execution_count": 19,
   "metadata": {},
   "outputs": [
    {
     "name": "stdout",
     "output_type": "stream",
     "text": [
      "Тариф ultra:\n",
      "Количество пользователей тарифа: 985  человек\n",
      "Средний возраст пользователя: 46.8 лет\n",
      "Среднее количество звонков: 526.6\n",
      "Процент использования звонков в тарифе: 17.6 %\n",
      "Среднее количество сообщений: 49.4\n",
      "Процент использования сообщений в тарифе: 4.9 %\n",
      "Среднее количество трафика: 19486.9\n",
      "Процент использования трафика в тарифе: 63.4 %\n",
      "None\n",
      "Тариф smart:\n",
      "Количество пользователей тарифа: 2229  человек\n",
      "Средний возраст пользователя: 46.6 лет\n",
      "Среднее количество звонков: 417.9\n",
      "Процент использования звонков в тарифе: 83.6 %\n",
      "Среднее количество сообщений: 33.4\n",
      "Процент использования сообщений в тарифе: 66.8 %\n",
      "Среднее количество трафика: 16229.2\n",
      "Процент использования трафика в тарифе: 105.7 %\n",
      "None\n"
     ]
    }
   ],
   "source": [
    "#функция для подсчета данных о среднем пользователе тарифа\n",
    "def info_users(df):    \n",
    "    print('Количество пользователей тарифа:', df['user_id'].count(), ' человек')\n",
    "    print('Средний возраст пользователя:', df['age'].mean().round(1), 'лет')\n",
    "    print('Среднее количество звонков:', df['duration'].mean().round(1))\n",
    "    print('Процент использования звонков в тарифе:', ((df['duration'].mean()/df['minutes_included'].mean())*100).round(1), '%')\n",
    "    print('Среднее количество сообщений:', df['message'].mean().round(1))\n",
    "    print('Процент использования сообщений в тарифе:', ((df['message'].mean()/df['messages_included'].mean())*100).round(1), '%')\n",
    "    print('Среднее количество трафика:', df['mb_used'].mean().round(1))\n",
    "    print('Процент использования трафика в тарифе:', ((df['mb_used'].mean()/df['mb_per_month_included'].mean())*100).round(1), '%')\n",
    "#выведем информацию для сразвнения    \n",
    "print('Тариф ultra:')    \n",
    "print(info_users(df_ultra))\n",
    "print('Тариф smart:')  \n",
    "print(info_users(df_smart))"
   ]
  },
  {
   "cell_type": "markdown",
   "metadata": {},
   "source": [
    "Глядя на данные, можно отметить, что тариф **smart почти в 2,5 раза популярнее** среди пользователей, чем тариф ultra. При этом **средний возраст пользователей одинаков** и равено 47 годам. Также можно сказать, что пользователи обоих тарифов активно используют трафик интернета, предоставленный тарифом, для связи - 64% трафика ultra и 106% smart - при этом **пользователи тарифа smart переплачивают за** переиспользованный **трафик** свыше абонентской платы. В среднем пользователи тарифа ultra совершают больше действий, чем пользователи тарифа smart, однако первые вмещают свои действия в пакет, предоставленный тарифом, в отличие вторых, которые используют тариф почти по максимуму или иногда даже сверх него."
   ]
  },
  {
   "cell_type": "markdown",
   "metadata": {},
   "source": [
    "Наглядно посмотрим на распределение отношений данных по двум тарифам по основным действиям пользователей (звонки, смс, трафик). Для создадим функцию, которая будет строить графики распределений каждого значения по месяцам. Сгруппируем данные для визуализации."
   ]
  },
  {
   "cell_type": "code",
   "execution_count": 20,
   "metadata": {},
   "outputs": [],
   "source": [
    "#создадим таблицы со сгруппированными данными по месяцам\n",
    "df_smart_gb = df_smart.groupby('month')['month', 'duration', 'message', 'mb_used'].mean()\n",
    "df_ultra_gb = df_ultra.groupby('month')['month', 'duration', 'message', 'mb_used'].mean()"
   ]
  },
  {
   "cell_type": "code",
   "execution_count": 21,
   "metadata": {},
   "outputs": [
    {
     "data": {
      "image/png": "[encoded data removed]",
      "text/plain": [
       "<Figure size 720x288 with 1 Axes>"
      ]
     },
     "metadata": {
      "needs_background": "light"
     },
     "output_type": "display_data"
    },
    {
     "data": {
      "image/png": "[encoded data removed]",
      "text/plain": [
       "<Figure size 720x288 with 1 Axes>"
      ]
     },
     "metadata": {
      "needs_background": "light"
     },
     "output_type": "display_data"
    },
    {
     "data": {
      "image/png": "[encoded data removed]",
      "text/plain": [
       "<Figure size 720x288 with 1 Axes>"
      ]
     },
     "metadata": {
      "needs_background": "light"
     },
     "output_type": "display_data"
    }
   ],
   "source": [
    "#функция для визуализации распределения отношений данных пользователей тарифов\n",
    "def bar_stat(df1, df2):\n",
    "    columns = [['duration', 'Объем звонков по месяцам', 'количество звонков'], ['message', 'Объем сообщений по месяцам', 'количество сообщений'], ['mb_used', 'Объем трафика по месяцам', 'количество трафика']]\n",
    "    for column in columns:\n",
    "       \n",
    "        x1=df1['month']-0.2\n",
    "        x2=df2['month']+0.2\n",
    "        y1=df1[column[0]]\n",
    "        y2=df2[column[0]]\n",
    "\n",
    "        fig, ax = plt.subplots()\n",
    "\n",
    "        ax.bar(x1, y1, width=0.4, color='orange')\n",
    "        ax.bar(x2, y2, width=0.4)\n",
    "\n",
    "        fig.set_figwidth(10)\n",
    "        fig.set_figheight(4)\n",
    "        ax.set_xticks(np.arange(len(df1['month'])+1))\n",
    "        ax.set_title(column[1])\n",
    "        ax.set_ylabel(column[2])\n",
    "        ax.set_xlabel('месяц')\n",
    "        ax.legend(['Ультра', 'Смарт'])\n",
    "        plt.show()\n",
    "        \n",
    "#вопользуемся функцией для визуализации соотношения             \n",
    "bar_stat(df_ultra_gb, df_smart_gb)"
   ]
  },
  {
   "cell_type": "markdown",
   "metadata": {},
   "source": [
    "Наглядно видно, что пользователи тарифа ultra совершают больше действий связи, чем пользователи тарифа smart. Можно отметить, что в феврале пользователи не охотно общаются относительно остальных месяцев, а в декабре можно заметить повышение активности использования связи, которое может быть связано с предпразничным настроением и желанием побольше общаться. Также в течении всего года сообщения среди пользователей тарифа smart почти не подвержены колебаниям.\n",
    "\n",
    "Посчитаем среднее количество, дисперсию и стандартное отклонение по пользовательским действиям по каждому тарифу. Для этого создадим функцию, которая будет считать показатели и визуализировать их распределение с помощью гистограммы."
   ]
  },
  {
   "cell_type": "code",
   "execution_count": 22,
   "metadata": {},
   "outputs": [],
   "source": [
    "#функция для подсчета среднего, дисперсии и стандартного отклонения и построения гистрограммы\n",
    "def descriptive_stat(data):\n",
    "    columns = [['duration', 'объем звонков', 'Количество звонков'], ['message', 'объем сообщений', 'Количество сообщений'], ['mb_used','объем трафика', 'Количество трафика']]\n",
    "    for column in columns:\n",
    "        print(column[1])\n",
    "        print('Среднее:', data[column[0]].mean().round(1))\n",
    "        print('Дисперсия:', np.var(data[column[0]]).round(1))\n",
    "        print('Ст.отклонение:', np.sqrt(np.var(data[column[0]])).round(1))\n",
    "        print(data.plot(kind='hist', y=column[0], bins=20, linewidth=5, figsize= (10, 4), grid=True, label=column[2]).set_xlabel(column[1]))\n",
    "        plt.show()"
   ]
  },
  {
   "cell_type": "code",
   "execution_count": 23,
   "metadata": {},
   "outputs": [
    {
     "name": "stdout",
     "output_type": "stream",
     "text": [
      "По тарифу  Ultra:\n",
      "\n",
      "объем звонков\n",
      "Среднее: 526.6\n",
      "Дисперсия: 100771.2\n",
      "Ст.отклонение: 317.4\n",
      "Text(0.5, 0, 'объем звонков')\n"
     ]
    },
    {
     "data": {
      "image/png": "[encoded data removed]",
      "text/plain": [
       "<Figure size 720x288 with 1 Axes>"
      ]
     },
     "metadata": {
      "needs_background": "light"
     },
     "output_type": "display_data"
    },
    {
     "name": "stdout",
     "output_type": "stream",
     "text": [
      "объем сообщений\n",
      "Среднее: 49.4\n",
      "Дисперсия: 2282.9\n",
      "Ст.отклонение: 47.8\n",
      "Text(0.5, 0, 'объем сообщений')\n"
     ]
    },
    {
     "data": {
      "image/png": "[encoded data removed]",
      "text/plain": [
       "<Figure size 720x288 with 1 Axes>"
      ]
     },
     "metadata": {
      "needs_background": "light"
     },
     "output_type": "display_data"
    },
    {
     "name": "stdout",
     "output_type": "stream",
     "text": [
      "объем трафика\n",
      "Среднее: 19486.9\n",
      "Дисперсия: 101832133.1\n",
      "Ст.отклонение: 10091.2\n",
      "Text(0.5, 0, 'объем трафика')\n"
     ]
    },
    {
     "data": {
      "image/png": "[encoded data removed]",
      "text/plain": [
       "<Figure size 720x288 with 1 Axes>"
      ]
     },
     "metadata": {
      "needs_background": "light"
     },
     "output_type": "display_data"
    }
   ],
   "source": [
    "#выведем данные по тарифу ultra\n",
    "print('По тарифу  Ultra:\\n') \n",
    "descriptive_stat(df_ultra)"
   ]
  },
  {
   "cell_type": "code",
   "execution_count": 24,
   "metadata": {},
   "outputs": [
    {
     "name": "stdout",
     "output_type": "stream",
     "text": [
      "По тарифу Smart:\n",
      "\n",
      "объем звонков\n",
      "Среднее: 417.9\n",
      "Дисперсия: 36203.1\n",
      "Ст.отклонение: 190.3\n",
      "Text(0.5, 0, 'объем звонков')\n"
     ]
    },
    {
     "data": {
      "image/png": "[encoded data removed]",
      "text/plain": [
       "<Figure size 720x288 with 1 Axes>"
      ]
     },
     "metadata": {
      "needs_background": "light"
     },
     "output_type": "display_data"
    },
    {
     "name": "stdout",
     "output_type": "stream",
     "text": [
      "объем сообщений\n",
      "Среднее: 33.4\n",
      "Дисперсия: 796.5\n",
      "Ст.отклонение: 28.2\n",
      "Text(0.5, 0, 'объем сообщений')\n"
     ]
    },
    {
     "data": {
      "image/png": "[encoded data removed]",
      "text/plain": [
       "<Figure size 720x288 with 1 Axes>"
      ]
     },
     "metadata": {
      "needs_background": "light"
     },
     "output_type": "display_data"
    },
    {
     "name": "stdout",
     "output_type": "stream",
     "text": [
      "объем трафика\n",
      "Среднее: 16229.2\n",
      "Дисперсия: 34530412.7\n",
      "Ст.отклонение: 5876.3\n",
      "Text(0.5, 0, 'объем трафика')\n"
     ]
    },
    {
     "data": {
      "image/png": "[encoded data removed]",
      "text/plain": [
       "<Figure size 720x288 with 1 Axes>"
      ]
     },
     "metadata": {
      "needs_background": "light"
     },
     "output_type": "display_data"
    }
   ],
   "source": [
    "#выведем данные по тарифу smart\n",
    "print('По тарифу Smart:\\n') \n",
    "descriptive_stat(df_smart)"
   ]
  },
  {
   "cell_type": "markdown",
   "metadata": {},
   "source": [
    "Исходя из полученных результатов можем отметить, что распределение данных нормальное, но ассиметричное. Например по данным о использовании звонков можно сказать, что график имеют отрицательную скошенность, значит большее количество пользователей умещают разговоры в 500 минут. Аналогичное представление дают данные о пользователях тарифа smart. "
   ]
  },
  {
   "cell_type": "markdown",
   "metadata": {},
   "source": [
    "### Вывод"
   ]
  },
  {
   "cell_type": "markdown",
   "metadata": {},
   "source": []
  },
  {
   "cell_type": "markdown",
   "metadata": {},
   "source": [
    "В ходе этапа \"Подготовка данных\" было проанализированно поведение пользователей каждого тарифа в месяц.\n",
    "\n",
    "Выявлено, что:\n",
    "- тариф **smart почти в 2,5 раза популярнее** среди пользователей, чем тариф ultra;\n",
    "- **средний возраст пользователей одинаков** и равено 47 годам;\n",
    "- **пользователи тарифа smart переплачивают за** переиспользованный **трафик** свыше предоставленного в пакете; \n",
    "- на графиках распределения выявлено, что в среднем пользователи тарифа ultra совершают больше действий, чем пользователи тарифа smart\n",
    "- в феврале пользователи не охотно общаются относительно остальных месяцев, а в декабре можно заметить повышение активности использования связи, которое может быть связано с предпразничным настроением и желанием побольше общаться.\n",
    "\n",
    "Также были посчитаны среднее количество, дисперсия и стандартное отклонение по пользовательским действиям по каждому тарифу. \n",
    "Исходя из полученных результатов можем отметить, что распределение данных по тарифам нормальное, но имеется скошенность данных. "
   ]
  },
  {
   "cell_type": "markdown",
   "metadata": {},
   "source": [
    "### Шаг 4. Проверка гипотез <a name=\"step4\"></a>"
   ]
  },
  {
   "cell_type": "markdown",
   "metadata": {},
   "source": [
    "На данном этапе анализа проведем исследование нескольких гипотез и ответим на вопросы: отличается ли средняя выручка пользователей разных тарифов и зависит ли выручка от территориального аспекта. Для это поочереди проверим гипотезы и сформулируем выводы."
   ]
  },
  {
   "cell_type": "markdown",
   "metadata": {},
   "source": [
    "**Гипотеза 1** \n",
    "\n",
    "- средняя выручка пользователей тарифов «Ультра» и «Смарт» различается.\n",
    "\n",
    "**Нулевая гипотеза** - средняя выручка пользователей тарифов «Ультра» и «Смарт» не различается, т.е. одинакова.\n",
    "**Альтернативная гипотеза** - средняя выручка пользователей тарифа «Ультра» отличается от средней выручки пользователей тарифа «Смарт».\n",
    "\n",
    "Для начала сравним дисперсии выборок, чтобы принять решение об их равенстве или неравенстве для выбора параметра equal_var (равенства дисперсий выборок)."
   ]
  },
  {
   "cell_type": "code",
   "execution_count": 25,
   "metadata": {},
   "outputs": [
    {
     "name": "stdout",
     "output_type": "stream",
     "text": [
      "Дисперсии не равны, необходимо использовать equal_var = False\n"
     ]
    }
   ],
   "source": [
    "#создадим условия для сравнения дисперсий выборок\n",
    "if (np.var(df_ultra['month_revenue']).round(1) == np.var(df_smart['month_revenue']).round(1)):\n",
    "    print('Дисперсии равны, необходимо использовать equal_var = True')\n",
    "else:\n",
    "    print('Дисперсии не равны, необходимо использовать equal_var = False')"
   ]
  },
  {
   "cell_type": "markdown",
   "metadata": {},
   "source": [
    "Для проверки данной гипотезы равенства двух независимых совокупностей используем метод scipy.stats.ttest_ind <span style=\"color:blue\"> - статистический критерий Стьюдента, потому что данные представляют собой независимые друг от друга выборки.</span> На основании сравнения дисперсий выборок параметр **equal_var** зададим **False**, потому что дисперсии выборок не равны. Критический уровень статистической значимости обозначим в 1%."
   ]
  },
  {
   "cell_type": "code",
   "execution_count": 26,
   "metadata": {},
   "outputs": [
    {
     "name": "stdout",
     "output_type": "stream",
     "text": [
      "p-значение:  8.911718216988335e-296\n",
      "Отвергаем нулевую гипотезу\n"
     ]
    }
   ],
   "source": [
    "#задаем критический уровень статистической значимости\n",
    "alpha = 0.01\n",
    "#проведем анализ с помощью метода st.ttest_ind\n",
    "results = st.ttest_ind(df_ultra['month_revenue'], df_smart['month_revenue'], equal_var = False)\n",
    "#выведем полученное значение\n",
    "print('p-значение: ', results.pvalue)\n",
    "#сравним полученное значение с заданным уровнем значимости и выведем результат\n",
    "if (results.pvalue < alpha):\n",
    "    print('Отвергаем нулевую гипотезу')\n",
    "else:\n",
    "    print('Не получилось отвергнуть нулевую гипотезу')"
   ]
  },
  {
   "cell_type": "markdown",
   "metadata": {},
   "source": [
    "Соответсвенно полученному значению можно сказать, что мы отвергаем нулевую гипотезу и средняя выручка пользователей тарифа «Ультра» отличается от средней выручки пользователей тарифа «Смарт». Насколько сильно отличается она - больше или меньше на основании данной проверки сказать невозможно, но само отличие неоспоримо.\n",
    "\n",
    "Попробуем проверить каково же различие в выручке этих двух тарифов и какой тариф приносит больше денег телекомкомпании."
   ]
  },
  {
   "cell_type": "code",
   "execution_count": 27,
   "metadata": {},
   "outputs": [
    {
     "name": "stdout",
     "output_type": "stream",
     "text": [
      "Средняя выручка по тарифу Ultra: 2060.5 руб.\n",
      "Средняя выручка по тарифу Smart: 1233.4 руб.\n",
      "Средняя выручка по тарифу Ultra больше средней выручки по тарифу Smart в 1.7 раза или на 827.1 руб.\n"
     ]
    }
   ],
   "source": [
    "#создадим переменные для расчета средней выручки \n",
    "mean_revenue_u = df_ultra['month_revenue'].mean().round(1)\n",
    "mean_revenue_s = df_smart['month_revenue'].mean().round(1)\n",
    "#выведем показатели средней выручки и их отношения\n",
    "print('Средняя выручка по тарифу Ultra:', mean_revenue_u, 'руб.')\n",
    "print('Средняя выручка по тарифу Smart:', mean_revenue_s, 'руб.')\n",
    "print('Средняя выручка по тарифу Ultra больше средней выручки по тарифу Smart в', (mean_revenue_u/mean_revenue_s).round(1), 'раза или на', (mean_revenue_u-mean_revenue_s).round(1), 'руб.')"
   ]
  },
  {
   "cell_type": "markdown",
   "metadata": {},
   "source": [
    "На основании анализа можно однозначно сказать, что **средняя выручка тарифа «Ультра» больше** средней выручки пользователей тарифа «Смарт» **в 1,7 раза**."
   ]
  },
  {
   "cell_type": "markdown",
   "metadata": {},
   "source": [
    "**Гипотеза 2** \n",
    "\n",
    "- средняя выручка пользователей из Москвы отличается от выручки пользователей из других регионов.\n",
    "\n",
    "**Нулевая гипотеза** - средняя выручка пользователей из Москвы не отличается от выручки пользователей из других регионов, т.е. выручки на этих территориях одинаковы.\n",
    "**Альтернативная гипотеза** - территория нахождения пользователей влияет на среднюю выручку.\n",
    "\n",
    "Сначала создадим выборки по территориальному признаку - живет пользователь в Москве или вне Москвы."
   ]
  },
  {
   "cell_type": "code",
   "execution_count": 28,
   "metadata": {},
   "outputs": [],
   "source": [
    "#создадим выброрки относительно территории\n",
    "df_moscow = df_merged.query('city == \"Москва\"')\n",
    "df_region = df_merged.query('city != \"Москва\"')"
   ]
  },
  {
   "cell_type": "markdown",
   "metadata": {},
   "source": [
    "Cравним дисперсии выборок, чтобы принять решение об их равенстве или неравенстве для выбора параметра equal_var (равенства дисперсий выборок)."
   ]
  },
  {
   "cell_type": "code",
   "execution_count": 29,
   "metadata": {},
   "outputs": [
    {
     "name": "stdout",
     "output_type": "stream",
     "text": [
      "Дисперсии не равны, необходимо использовать equal_var = False\n"
     ]
    }
   ],
   "source": [
    "#создадим условия для сравнения дисперсий выборок\n",
    "if (np.var(df_moscow['month_revenue']).round(1) == np.var(df_region['month_revenue']).round(1)):\n",
    "    print('Дисперсии равны, необходимо использовать equal_var = True')\n",
    "else:\n",
    "    print('Дисперсии не равны, необходимо использовать equal_var = False')"
   ]
  },
  {
   "cell_type": "markdown",
   "metadata": {},
   "source": [
    "Для проверки данной гипотезы равенства двух независимых совокупностей используем метод scipy.stats.ttest_ind <span style=\"color:blue\"> - статистический критерий Стьюдента, потому что данные представляют собой независимые друг от друга выборки.</span> На основании сравнения дисперсий выборок параметр **equal_var** зададим **False**, потому что дисперсии выборок не равны. Критический уровень статистической значимости обозначим в 1%."
   ]
  },
  {
   "cell_type": "code",
   "execution_count": 30,
   "metadata": {},
   "outputs": [
    {
     "name": "stdout",
     "output_type": "stream",
     "text": [
      "p-значение:  0.45489046098064356\n",
      "Не получилось отвергнуть нулевую гипотезу\n"
     ]
    }
   ],
   "source": [
    "#задаем критический уровень статистической значимости\n",
    "alpha = 0.01\n",
    "#проведем анализ с помощью метода st.ttest_ind\n",
    "results = st.ttest_ind(df_moscow['month_revenue'], df_region['month_revenue'], equal_var = False)\n",
    "#выведем полученное значение\n",
    "print('p-значение: ', results.pvalue)\n",
    "#сравним полученное значение с заданным уровнем значимости и выведем результат\n",
    "if (results.pvalue < alpha):\n",
    "    print('Отвергаем нулевую гипотезу')\n",
    "else:\n",
    "    print('Не получилось отвергнуть нулевую гипотезу')"
   ]
  },
  {
   "cell_type": "markdown",
   "metadata": {},
   "source": [
    "На основании полученных данных можно сказать, что средняя выручка от пользователя услугами телекомкомпании не зависит от территориального нахождения пользователей."
   ]
  },
  {
   "cell_type": "markdown",
   "metadata": {},
   "source": [
    "### Вывод"
   ]
  },
  {
   "cell_type": "markdown",
   "metadata": {},
   "source": [
    "На этапе \"Проверка гипотез\" мы обнаружили, что:\n",
    "\n",
    "- **средняя выручка тарифа «Ультра» больше** средней выручки пользователей тарифа «Смарт» **в 1,7 раза** или на 827.1 руб.;\n",
    "\n",
    "- средняя выручка от пользователя услугами телекомкомпании не зависит от территориального нахождения пользователей."
   ]
  },
  {
   "cell_type": "markdown",
   "metadata": {},
   "source": [
    "### Шаг 5. Общий вывод <a name=\"step5\"></a>"
   ]
  },
  {
   "cell_type": "markdown",
   "metadata": {},
   "source": [
    "Задачи исследования - чтобы скорректировать рекламный бюджет, коммерческий департамент хочет понять, какой тариф приносит больше денег.\n",
    "Необходимо проанализировать поведение клиентов и сделать вывод — какой тариф лучше.\n",
    "\n",
    "\n",
    "При оценке данных было выявлено, что имеются отклонения в данных и их необходимо предварительно обработать для дальнейшего совмещения.\n",
    "В ходе работы была произведена замена типа данных, работа с названиями столбцов, обработка пропущенных значений, также исходные данные сгруппированы и собраны в единый датасет для удобства анализа. Собраны данные по каждому пользователю в разрезе месяцов и посчитана выручка.\n",
    "В ходе анализа и проверки гипотез были выявлены основные поведенческие аспекты пользователей двух тарифов, которые прямым образом влияют на выручку:\n",
    "\n",
    "- тариф **«Смарт» почти в 2,5 раза популярнее** среди пользователей, чем тариф «Ультра»;\n",
    "- **средний возраст пользователей** тарифов **одинаков** и равено 47 годам;\n",
    "- **пользователи тарифа «Смарт» переплачивают за** переиспользованный **трафик**, предоставленный в пакете; \n",
    "- в среднем пользователи тарифа «Ультра» совершают используют больший объем услуг связи, чем пользователи тарифа «Смарт»;\n",
    "- в феврале пользователи не охотно общаются относительно остальных месяцев, а в декабре можно заметить повышение активности использования связи, которое может быть связано с предпразничным настроением и желанием побольше общаться.\n",
    "- территориального нахождения пользователей не влияет на размер выручки.\n",
    "\n",
    "На основании проведенного исследования можно заключить, что тариф «Ультра» при меньшем количестве пользователей в среднем приносит выручки в 1,7 раза больше, чем тариф «Смарт», а также наиболее выгоден для пользователей с точки зрения объема предоставляемых услуг."
   ]
  }
 ],
 "metadata": {
  "kernelspec": {
   "display_name": "Python 3",
   "language": "python",
   "name": "python3"
  },
  "language_info": {
   "codemirror_mode": {
    "name": "ipython",
    "version": 3
   },
   "file_extension": ".py",
   "mimetype": "text/x-python",
   "name": "python",
   "nbconvert_exporter": "python",
   "pygments_lexer": "ipython3",
   "version": "3.7.8"
  },
  "toc": {
   "base_numbering": 1,
   "nav_menu": {},
   "number_sections": true,
   "sideBar": true,
   "skip_h1_title": false,
   "title_cell": "Table of Contents",
   "title_sidebar": "Contents",
   "toc_cell": false,
   "toc_position": {},
   "toc_section_display": true,
   "toc_window_display": false
  }
 },
 "nbformat": 4,
 "nbformat_minor": 2
}
