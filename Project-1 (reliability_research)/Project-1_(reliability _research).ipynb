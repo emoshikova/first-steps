{
 "cells": [
  {
   "cell_type": "markdown",
   "metadata": {},
   "source": [
    "## Исследование надёжности заёмщиков\n",
    "\n",
    "Заказчик — кредитный отдел банка. Нужно разобраться, влияет ли семейное положение и количество детей клиента на факт погашения кредита в срок. Входные данные от банка — статистика о платёжеспособности клиентов.\n",
    "\n",
    "Результаты исследования будут учтены при построении модели **кредитного скоринга** — специальной системы, которая оценивает способность потенциального заёмщика вернуть кредит банку."
   ]
  },
  {
   "cell_type": "markdown",
   "metadata": {},
   "source": [
    "### Шаг 1. Откройте файл с данными и изучите общую информацию. "
   ]
  },
  {
   "cell_type": "markdown",
   "metadata": {},
   "source": [
    "Для того, чтобы начать исследование, необходимо установить необходимые библиотеки:"
   ]
  },
  {
   "cell_type": "code",
   "execution_count": 1,
   "metadata": {},
   "outputs": [],
   "source": [
    "#установим библиотеки для исследования\n",
    "import pandas as pd\n",
    "from pymystem3 import Mystem\n",
    "import matplotlib.pyplot as plt\n",
    "from collections import Counter\n",
    "#прочтем файл с исходным датасетом и запишем данные в df\n",
    "df = pd.read_csv('/datasets/data.csv')\n",
    "#для последующей лемматизации обозначим m\n",
    "m = Mystem() "
   ]
  },
  {
   "cell_type": "markdown",
   "metadata": {},
   "source": [
    "Визуально изучим датасет:"
   ]
  },
  {
   "cell_type": "code",
   "execution_count": 2,
   "metadata": {
    "scrolled": false
   },
   "outputs": [
    {
     "name": "stdout",
     "output_type": "stream",
     "text": [
      "   children  days_employed  dob_years education  education_id  \\\n",
      "0         1   -8437.673028         42    высшее             0   \n",
      "1         1   -4024.803754         36   среднее             1   \n",
      "2         0   -5623.422610         33   Среднее             1   \n",
      "3         3   -4124.747207         32   среднее             1   \n",
      "4         0  340266.072047         53   среднее             1   \n",
      "5         0    -926.185831         27    высшее             0   \n",
      "6         0   -2879.202052         43    высшее             0   \n",
      "7         0    -152.779569         50   СРЕДНЕЕ             1   \n",
      "8         2   -6929.865299         35    ВЫСШЕЕ             0   \n",
      "9         0   -2188.756445         41   среднее             1   \n",
      "\n",
      "      family_status  family_status_id gender income_type  debt   total_income  \\\n",
      "0   женат / замужем                 0      F   сотрудник     0  253875.639453   \n",
      "1   женат / замужем                 0      F   сотрудник     0  112080.014102   \n",
      "2   женат / замужем                 0      M   сотрудник     0  145885.952297   \n",
      "3   женат / замужем                 0      M   сотрудник     0  267628.550329   \n",
      "4  гражданский брак                 1      F   пенсионер     0  158616.077870   \n",
      "5  гражданский брак                 1      M   компаньон     0  255763.565419   \n",
      "6   женат / замужем                 0      F   компаньон     0  240525.971920   \n",
      "7   женат / замужем                 0      M   сотрудник     0  135823.934197   \n",
      "8  гражданский брак                 1      F   сотрудник     0   95856.832424   \n",
      "9   женат / замужем                 0      M   сотрудник     0  144425.938277   \n",
      "\n",
      "                      purpose  \n",
      "0               покупка жилья  \n",
      "1     приобретение автомобиля  \n",
      "2               покупка жилья  \n",
      "3  дополнительное образование  \n",
      "4             сыграть свадьбу  \n",
      "5               покупка жилья  \n",
      "6           операции с жильем  \n",
      "7                 образование  \n",
      "8       на проведение свадьбы  \n",
      "9     покупка жилья для семьи  \n",
      "<class 'pandas.core.frame.DataFrame'>\n",
      "RangeIndex: 21525 entries, 0 to 21524\n",
      "Data columns (total 12 columns):\n",
      "children            21525 non-null int64\n",
      "days_employed       19351 non-null float64\n",
      "dob_years           21525 non-null int64\n",
      "education           21525 non-null object\n",
      "education_id        21525 non-null int64\n",
      "family_status       21525 non-null object\n",
      "family_status_id    21525 non-null int64\n",
      "gender              21525 non-null object\n",
      "income_type         21525 non-null object\n",
      "debt                21525 non-null int64\n",
      "total_income        19351 non-null float64\n",
      "purpose             21525 non-null object\n",
      "dtypes: float64(2), int64(5), object(5)\n",
      "memory usage: 2.0+ MB\n"
     ]
    },
    {
     "data": {
      "text/html": [
       "<div>\n",
       "<style scoped>\n",
       "    .dataframe tbody tr th:only-of-type {\n",
       "        vertical-align: middle;\n",
       "    }\n",
       "\n",
       "    .dataframe tbody tr th {\n",
       "        vertical-align: top;\n",
       "    }\n",
       "\n",
       "    .dataframe thead th {\n",
       "        text-align: right;\n",
       "    }\n",
       "</style>\n",
       "<table border=\"1\" class=\"dataframe\">\n",
       "  <thead>\n",
       "    <tr style=\"text-align: right;\">\n",
       "      <th></th>\n",
       "      <th>children</th>\n",
       "      <th>days_employed</th>\n",
       "      <th>dob_years</th>\n",
       "      <th>education_id</th>\n",
       "      <th>family_status_id</th>\n",
       "      <th>debt</th>\n",
       "      <th>total_income</th>\n",
       "    </tr>\n",
       "  </thead>\n",
       "  <tbody>\n",
       "    <tr>\n",
       "      <td>count</td>\n",
       "      <td>21525.000000</td>\n",
       "      <td>19351.000000</td>\n",
       "      <td>21525.000000</td>\n",
       "      <td>21525.000000</td>\n",
       "      <td>21525.000000</td>\n",
       "      <td>21525.000000</td>\n",
       "      <td>1.935100e+04</td>\n",
       "    </tr>\n",
       "    <tr>\n",
       "      <td>mean</td>\n",
       "      <td>0.538908</td>\n",
       "      <td>63046.497661</td>\n",
       "      <td>43.293380</td>\n",
       "      <td>0.817236</td>\n",
       "      <td>0.972544</td>\n",
       "      <td>0.080883</td>\n",
       "      <td>1.674223e+05</td>\n",
       "    </tr>\n",
       "    <tr>\n",
       "      <td>std</td>\n",
       "      <td>1.381587</td>\n",
       "      <td>140827.311974</td>\n",
       "      <td>12.574584</td>\n",
       "      <td>0.548138</td>\n",
       "      <td>1.420324</td>\n",
       "      <td>0.272661</td>\n",
       "      <td>1.029716e+05</td>\n",
       "    </tr>\n",
       "    <tr>\n",
       "      <td>min</td>\n",
       "      <td>-1.000000</td>\n",
       "      <td>-18388.949901</td>\n",
       "      <td>0.000000</td>\n",
       "      <td>0.000000</td>\n",
       "      <td>0.000000</td>\n",
       "      <td>0.000000</td>\n",
       "      <td>2.066726e+04</td>\n",
       "    </tr>\n",
       "    <tr>\n",
       "      <td>25%</td>\n",
       "      <td>0.000000</td>\n",
       "      <td>-2747.423625</td>\n",
       "      <td>33.000000</td>\n",
       "      <td>1.000000</td>\n",
       "      <td>0.000000</td>\n",
       "      <td>0.000000</td>\n",
       "      <td>1.030532e+05</td>\n",
       "    </tr>\n",
       "    <tr>\n",
       "      <td>50%</td>\n",
       "      <td>0.000000</td>\n",
       "      <td>-1203.369529</td>\n",
       "      <td>42.000000</td>\n",
       "      <td>1.000000</td>\n",
       "      <td>0.000000</td>\n",
       "      <td>0.000000</td>\n",
       "      <td>1.450179e+05</td>\n",
       "    </tr>\n",
       "    <tr>\n",
       "      <td>75%</td>\n",
       "      <td>1.000000</td>\n",
       "      <td>-291.095954</td>\n",
       "      <td>53.000000</td>\n",
       "      <td>1.000000</td>\n",
       "      <td>1.000000</td>\n",
       "      <td>0.000000</td>\n",
       "      <td>2.034351e+05</td>\n",
       "    </tr>\n",
       "    <tr>\n",
       "      <td>max</td>\n",
       "      <td>20.000000</td>\n",
       "      <td>401755.400475</td>\n",
       "      <td>75.000000</td>\n",
       "      <td>4.000000</td>\n",
       "      <td>4.000000</td>\n",
       "      <td>1.000000</td>\n",
       "      <td>2.265604e+06</td>\n",
       "    </tr>\n",
       "  </tbody>\n",
       "</table>\n",
       "</div>"
      ],
      "text/plain": [
       "           children  days_employed     dob_years  education_id  \\\n",
       "count  21525.000000   19351.000000  21525.000000  21525.000000   \n",
       "mean       0.538908   63046.497661     43.293380      0.817236   \n",
       "std        1.381587  140827.311974     12.574584      0.548138   \n",
       "min       -1.000000  -18388.949901      0.000000      0.000000   \n",
       "25%        0.000000   -2747.423625     33.000000      1.000000   \n",
       "50%        0.000000   -1203.369529     42.000000      1.000000   \n",
       "75%        1.000000    -291.095954     53.000000      1.000000   \n",
       "max       20.000000  401755.400475     75.000000      4.000000   \n",
       "\n",
       "       family_status_id          debt  total_income  \n",
       "count      21525.000000  21525.000000  1.935100e+04  \n",
       "mean           0.972544      0.080883  1.674223e+05  \n",
       "std            1.420324      0.272661  1.029716e+05  \n",
       "min            0.000000      0.000000  2.066726e+04  \n",
       "25%            0.000000      0.000000  1.030532e+05  \n",
       "50%            0.000000      0.000000  1.450179e+05  \n",
       "75%            1.000000      0.000000  2.034351e+05  \n",
       "max            4.000000      1.000000  2.265604e+06  "
      ]
     },
     "execution_count": 2,
     "metadata": {},
     "output_type": "execute_result"
    }
   ],
   "source": [
    "#выведем первые 10 строк датасета\n",
    "print(df.head(10))\n",
    "#выведем основную информацию о качестве датасета\n",
    "df.info()\n",
    "#выведем информацию об основных значениях данных\n",
    "df.describe()"
   ]
  },
  {
   "cell_type": "markdown",
   "metadata": {},
   "source": [
    "### Вывод"
   ]
  },
  {
   "cell_type": "markdown",
   "metadata": {},
   "source": [
    "При ознакомлении с датасетом были выявлены основные моменты, которые предстоит исправить для проведения дальнейшего анализа:\n",
    "1. в столбце *children* отмечены выбросы по *min = -1* и *max = 20*;\n",
    "2. в столбце *days_employed* присутствуют нехарактерные данным отрицательные значения, имеющие тип данных float64, а также есть пустые строки;\n",
    "3. в столбце *education* текстовые данные имеют разный регистр;\n",
    "4. в столбце *dob_years* присутсвуют нули;\n",
    "5. в столбце *total_income* присутсвуют пустые строки;\n",
    "6. в столбце *purpose* данные необходимо разбить на категории."
   ]
  },
  {
   "cell_type": "markdown",
   "metadata": {},
   "source": [
    "### Шаг 2. Предобработка данных"
   ]
  },
  {
   "cell_type": "markdown",
   "metadata": {},
   "source": [
    "### Обработка пропусков"
   ]
  },
  {
   "cell_type": "markdown",
   "metadata": {},
   "source": [
    "Проверим датасет на наличие пропусков:"
   ]
  },
  {
   "cell_type": "code",
   "execution_count": 3,
   "metadata": {},
   "outputs": [
    {
     "data": {
      "text/plain": [
       "children               0\n",
       "days_employed       2174\n",
       "dob_years              0\n",
       "education              0\n",
       "education_id           0\n",
       "family_status          0\n",
       "family_status_id       0\n",
       "gender                 0\n",
       "income_type            0\n",
       "debt                   0\n",
       "total_income        2174\n",
       "purpose                0\n",
       "dtype: int64"
      ]
     },
     "execution_count": 3,
     "metadata": {},
     "output_type": "execute_result"
    }
   ],
   "source": [
    "#выведем сумму значений по всем пропускам\n",
    "df.isna().sum()"
   ]
  },
  {
   "cell_type": "markdown",
   "metadata": {},
   "source": [
    "Столбцы *days_employed* и *total_income* содержат пустые строки, которые возникли в результате неверного заполнения базы данных, либо же в форме ввода эти поля не являются обязательными, чем и пользуются клиенты, которые не хотят оставлять слишком много данных о себе.\n",
    "\n",
    "Для корректной замены пустых строк необходимо очистить содержащиеся выбросы и категоризировать значения."
   ]
  },
  {
   "cell_type": "markdown",
   "metadata": {},
   "source": [
    "При осмотре датасета было замечено, что стаж представлен отрицательными значениями, скорей всего такая ошибка могла возникнуть на этапе ручного ввода данных - заемщики могли использовать *-*  как тире. \n",
    "\n",
    "Для корректного анализа переведем значения *days_employed* в абсолютные, так как стаж априори не может быть отрицательным. "
   ]
  },
  {
   "cell_type": "code",
   "execution_count": 4,
   "metadata": {},
   "outputs": [],
   "source": [
    "#приведение стажа в абсолютные значения\n",
    "df['days_employed'] = df['days_employed'].abs()"
   ]
  },
  {
   "cell_type": "markdown",
   "metadata": {},
   "source": [
    "Сгруппируем стаж относительно рабочего статуса клиента, выведем средние значения и медиану."
   ]
  },
  {
   "cell_type": "code",
   "execution_count": 5,
   "metadata": {},
   "outputs": [
    {
     "data": {
      "text/html": [
       "<div>\n",
       "<style scoped>\n",
       "    .dataframe tbody tr th:only-of-type {\n",
       "        vertical-align: middle;\n",
       "    }\n",
       "\n",
       "    .dataframe tbody tr th {\n",
       "        vertical-align: top;\n",
       "    }\n",
       "\n",
       "    .dataframe thead tr th {\n",
       "        text-align: left;\n",
       "    }\n",
       "\n",
       "    .dataframe thead tr:last-of-type th {\n",
       "        text-align: right;\n",
       "    }\n",
       "</style>\n",
       "<table border=\"1\" class=\"dataframe\">\n",
       "  <thead>\n",
       "    <tr>\n",
       "      <th></th>\n",
       "      <th colspan=\"3\" halign=\"left\">days_employed</th>\n",
       "    </tr>\n",
       "    <tr>\n",
       "      <th></th>\n",
       "      <th>count</th>\n",
       "      <th>mean</th>\n",
       "      <th>median</th>\n",
       "    </tr>\n",
       "    <tr>\n",
       "      <th>income_type</th>\n",
       "      <th></th>\n",
       "      <th></th>\n",
       "      <th></th>\n",
       "    </tr>\n",
       "  </thead>\n",
       "  <tbody>\n",
       "    <tr>\n",
       "      <td>безработный</td>\n",
       "      <td>2</td>\n",
       "      <td>366413.652744</td>\n",
       "      <td>366413.652744</td>\n",
       "    </tr>\n",
       "    <tr>\n",
       "      <td>в декрете</td>\n",
       "      <td>1</td>\n",
       "      <td>3296.759962</td>\n",
       "      <td>3296.759962</td>\n",
       "    </tr>\n",
       "    <tr>\n",
       "      <td>госслужащий</td>\n",
       "      <td>1312</td>\n",
       "      <td>3399.896902</td>\n",
       "      <td>2689.368353</td>\n",
       "    </tr>\n",
       "    <tr>\n",
       "      <td>компаньон</td>\n",
       "      <td>4577</td>\n",
       "      <td>2111.524398</td>\n",
       "      <td>1547.382223</td>\n",
       "    </tr>\n",
       "    <tr>\n",
       "      <td>пенсионер</td>\n",
       "      <td>3443</td>\n",
       "      <td>365003.491245</td>\n",
       "      <td>365213.306266</td>\n",
       "    </tr>\n",
       "    <tr>\n",
       "      <td>предприниматель</td>\n",
       "      <td>1</td>\n",
       "      <td>520.848083</td>\n",
       "      <td>520.848083</td>\n",
       "    </tr>\n",
       "    <tr>\n",
       "      <td>сотрудник</td>\n",
       "      <td>10014</td>\n",
       "      <td>2326.499216</td>\n",
       "      <td>1574.202821</td>\n",
       "    </tr>\n",
       "    <tr>\n",
       "      <td>студент</td>\n",
       "      <td>1</td>\n",
       "      <td>578.751554</td>\n",
       "      <td>578.751554</td>\n",
       "    </tr>\n",
       "  </tbody>\n",
       "</table>\n",
       "</div>"
      ],
      "text/plain": [
       "                days_employed                              \n",
       "                        count           mean         median\n",
       "income_type                                                \n",
       "безработный                 2  366413.652744  366413.652744\n",
       "в декрете                   1    3296.759962    3296.759962\n",
       "госслужащий              1312    3399.896902    2689.368353\n",
       "компаньон                4577    2111.524398    1547.382223\n",
       "пенсионер                3443  365003.491245  365213.306266\n",
       "предприниматель             1     520.848083     520.848083\n",
       "сотрудник               10014    2326.499216    1574.202821\n",
       "студент                     1     578.751554     578.751554"
      ]
     },
     "execution_count": 5,
     "metadata": {},
     "output_type": "execute_result"
    }
   ],
   "source": [
    "#сгруппируем значения стажа по рабочему статусу клиента и применим методы\n",
    "df_grouped_income_type = df.groupby('income_type').agg({'days_employed':['count','mean', 'median']})\n",
    "df_grouped_income_type"
   ]
  },
  {
   "cell_type": "markdown",
   "metadata": {},
   "source": [
    "Обнаружились аномальные средние значения стажа у двух категорий клиентов: *безработный* и *пенсионер*. Эти две группы ошибок предположительно возникли в результате неверной обозначенного формате ввода данных.\n",
    "\n",
    "Предположим что данные записаны в днях, тогда приведем данные к годовым значениям и посмотрим еще раз на аномальные значения."
   ]
  },
  {
   "cell_type": "code",
   "execution_count": 6,
   "metadata": {},
   "outputs": [
    {
     "data": {
      "text/html": [
       "<div>\n",
       "<style scoped>\n",
       "    .dataframe tbody tr th:only-of-type {\n",
       "        vertical-align: middle;\n",
       "    }\n",
       "\n",
       "    .dataframe tbody tr th {\n",
       "        vertical-align: top;\n",
       "    }\n",
       "\n",
       "    .dataframe thead tr th {\n",
       "        text-align: left;\n",
       "    }\n",
       "\n",
       "    .dataframe thead tr:last-of-type th {\n",
       "        text-align: right;\n",
       "    }\n",
       "</style>\n",
       "<table border=\"1\" class=\"dataframe\">\n",
       "  <thead>\n",
       "    <tr>\n",
       "      <th></th>\n",
       "      <th colspan=\"3\" halign=\"left\">years_employed</th>\n",
       "    </tr>\n",
       "    <tr>\n",
       "      <th></th>\n",
       "      <th>count</th>\n",
       "      <th>mean</th>\n",
       "      <th>median</th>\n",
       "    </tr>\n",
       "    <tr>\n",
       "      <th>income_type</th>\n",
       "      <th></th>\n",
       "      <th></th>\n",
       "      <th></th>\n",
       "    </tr>\n",
       "  </thead>\n",
       "  <tbody>\n",
       "    <tr>\n",
       "      <td>безработный</td>\n",
       "      <td>2</td>\n",
       "      <td>1003.873021</td>\n",
       "      <td>1003.873021</td>\n",
       "    </tr>\n",
       "    <tr>\n",
       "      <td>в декрете</td>\n",
       "      <td>1</td>\n",
       "      <td>9.032219</td>\n",
       "      <td>9.032219</td>\n",
       "    </tr>\n",
       "    <tr>\n",
       "      <td>госслужащий</td>\n",
       "      <td>1312</td>\n",
       "      <td>9.314786</td>\n",
       "      <td>7.368132</td>\n",
       "    </tr>\n",
       "    <tr>\n",
       "      <td>компаньон</td>\n",
       "      <td>4577</td>\n",
       "      <td>5.784998</td>\n",
       "      <td>4.239403</td>\n",
       "    </tr>\n",
       "    <tr>\n",
       "      <td>пенсионер</td>\n",
       "      <td>3443</td>\n",
       "      <td>1000.009565</td>\n",
       "      <td>1000.584401</td>\n",
       "    </tr>\n",
       "    <tr>\n",
       "      <td>предприниматель</td>\n",
       "      <td>1</td>\n",
       "      <td>1.426981</td>\n",
       "      <td>1.426981</td>\n",
       "    </tr>\n",
       "    <tr>\n",
       "      <td>сотрудник</td>\n",
       "      <td>10014</td>\n",
       "      <td>6.373970</td>\n",
       "      <td>4.312884</td>\n",
       "    </tr>\n",
       "    <tr>\n",
       "      <td>студент</td>\n",
       "      <td>1</td>\n",
       "      <td>1.585621</td>\n",
       "      <td>1.585621</td>\n",
       "    </tr>\n",
       "  </tbody>\n",
       "</table>\n",
       "</div>"
      ],
      "text/plain": [
       "                years_employed                          \n",
       "                         count         mean       median\n",
       "income_type                                             \n",
       "безработный                  2  1003.873021  1003.873021\n",
       "в декрете                    1     9.032219     9.032219\n",
       "госслужащий               1312     9.314786     7.368132\n",
       "компаньон                 4577     5.784998     4.239403\n",
       "пенсионер                 3443  1000.009565  1000.584401\n",
       "предприниматель              1     1.426981     1.426981\n",
       "сотрудник                10014     6.373970     4.312884\n",
       "студент                      1     1.585621     1.585621"
      ]
     },
     "execution_count": 6,
     "metadata": {},
     "output_type": "execute_result"
    }
   ],
   "source": [
    "#создадим новую колонку 'years_employed' и обошатим датасет\n",
    "df['years_employed'] = df['days_employed']/365\n",
    "#сгруппируем значения стажа по рабочему статусу клиента и применим методы\n",
    "df_grouped_income_type = df.groupby('income_type').agg({'years_employed':['count','mean', 'median']})\n",
    "df_grouped_income_type"
   ]
  },
  {
   "cell_type": "markdown",
   "metadata": {},
   "source": [
    "Теперь четко видно, что присутсвуют аномально высокие значения стажа в категориях *безработный* и *пенсионер*. Конечно год за двадцать хороший подсчет, но все же это ошибки в вводе данных. Предположим, что для данных категорий клиентов ввод данных по стажу был осуществлен в часах. Проверим эту гипотезу:"
   ]
  },
  {
   "cell_type": "code",
   "execution_count": 7,
   "metadata": {},
   "outputs": [],
   "source": [
    "#для запуска кода необходимо расскоментировать и перезапустить notebook\n",
    "# def income_type_anomalies(df):\n",
    "#     if df['income_type'] == 'безработный' or df['income_type'] == 'пенсионер':\n",
    "#         return df['years_employed'] / 24\n",
    "#     else:\n",
    "#         return df['years_employed']\n",
    "    \n",
    "# df['years_employed'] = df.apply(income_type_anomalies, axis=1)\n",
    "# df_grouped_income_type = df.groupby('income_type').agg({'years_employed':['count','mean']})\n",
    "# df_grouped_income_type"
   ]
  },
  {
   "cell_type": "markdown",
   "metadata": {},
   "source": [
    "Для пенсионеров средний стаж 41 год является нормальной величиной, в то время как для безработных спорной. "
   ]
  },
  {
   "cell_type": "code",
   "execution_count": 8,
   "metadata": {},
   "outputs": [],
   "source": [
    "#для запуска кода необходимо расскоментировать и перезапустить notebook\n",
    "#print(df.loc[df['income_type'] == 'безработный'])"
   ]
  },
  {
   "cell_type": "markdown",
   "metadata": {},
   "source": [
    "При более детальном рассмотрении клиентов со статусом безработный видно, что значение стажа превышает значение их возраста (38.5 > 31; 45.1 > 45), что говорит об ошибке в данных. Количество таких клиентов составляет менее сотой процента от общей выборки (а именно их двое) и присвоение им среднего значения не должно повлиять на качество данных."
   ]
  },
  {
   "cell_type": "code",
   "execution_count": 9,
   "metadata": {},
   "outputs": [
    {
     "data": {
      "text/html": [
       "<div>\n",
       "<style scoped>\n",
       "    .dataframe tbody tr th:only-of-type {\n",
       "        vertical-align: middle;\n",
       "    }\n",
       "\n",
       "    .dataframe tbody tr th {\n",
       "        vertical-align: top;\n",
       "    }\n",
       "\n",
       "    .dataframe thead tr th {\n",
       "        text-align: left;\n",
       "    }\n",
       "\n",
       "    .dataframe thead tr:last-of-type th {\n",
       "        text-align: right;\n",
       "    }\n",
       "</style>\n",
       "<table border=\"1\" class=\"dataframe\">\n",
       "  <thead>\n",
       "    <tr>\n",
       "      <th></th>\n",
       "      <th colspan=\"3\" halign=\"left\">years_employed</th>\n",
       "    </tr>\n",
       "    <tr>\n",
       "      <th></th>\n",
       "      <th>count</th>\n",
       "      <th>mean</th>\n",
       "      <th>median</th>\n",
       "    </tr>\n",
       "    <tr>\n",
       "      <th>income_type</th>\n",
       "      <th></th>\n",
       "      <th></th>\n",
       "      <th></th>\n",
       "    </tr>\n",
       "  </thead>\n",
       "  <tbody>\n",
       "    <tr>\n",
       "      <td>безработный</td>\n",
       "      <td>2</td>\n",
       "      <td>12.816256</td>\n",
       "      <td>12.816256</td>\n",
       "    </tr>\n",
       "    <tr>\n",
       "      <td>в декрете</td>\n",
       "      <td>1</td>\n",
       "      <td>9.032219</td>\n",
       "      <td>9.032219</td>\n",
       "    </tr>\n",
       "    <tr>\n",
       "      <td>госслужащий</td>\n",
       "      <td>1312</td>\n",
       "      <td>9.314786</td>\n",
       "      <td>7.368132</td>\n",
       "    </tr>\n",
       "    <tr>\n",
       "      <td>компаньон</td>\n",
       "      <td>4577</td>\n",
       "      <td>5.784998</td>\n",
       "      <td>4.239403</td>\n",
       "    </tr>\n",
       "    <tr>\n",
       "      <td>пенсионер</td>\n",
       "      <td>3443</td>\n",
       "      <td>41.667065</td>\n",
       "      <td>41.691017</td>\n",
       "    </tr>\n",
       "    <tr>\n",
       "      <td>предприниматель</td>\n",
       "      <td>1</td>\n",
       "      <td>1.426981</td>\n",
       "      <td>1.426981</td>\n",
       "    </tr>\n",
       "    <tr>\n",
       "      <td>сотрудник</td>\n",
       "      <td>10014</td>\n",
       "      <td>6.373970</td>\n",
       "      <td>4.312884</td>\n",
       "    </tr>\n",
       "    <tr>\n",
       "      <td>студент</td>\n",
       "      <td>1</td>\n",
       "      <td>1.585621</td>\n",
       "      <td>1.585621</td>\n",
       "    </tr>\n",
       "  </tbody>\n",
       "</table>\n",
       "</div>"
      ],
      "text/plain": [
       "                years_employed                      \n",
       "                         count       mean     median\n",
       "income_type                                         \n",
       "безработный                  2  12.816256  12.816256\n",
       "в декрете                    1   9.032219   9.032219\n",
       "госслужащий               1312   9.314786   7.368132\n",
       "компаньон                 4577   5.784998   4.239403\n",
       "пенсионер                 3443  41.667065  41.691017\n",
       "предприниматель              1   1.426981   1.426981\n",
       "сотрудник                10014   6.373970   4.312884\n",
       "студент                      1   1.585621   1.585621"
      ]
     },
     "execution_count": 9,
     "metadata": {},
     "output_type": "execute_result"
    }
   ],
   "source": [
    "#создадим функцию для расчета стажа пенсионеров - она переводит стаж пенсионера из дней в года\n",
    "def income_type_retiree(df):\n",
    "    if df['income_type'] == 'пенсионер':\n",
    "        return df['years_employed'] / 24\n",
    "    else:\n",
    "        return df['years_employed']\n",
    "#применим функцию для расчета стажа пенсионеров к значениям столбца 'years_employed'  \n",
    "df['years_employed'] = df.apply(income_type_retiree, axis=1)\n",
    "\n",
    "#создадим переменную для среднего значения столбца 'years_employed'\n",
    "year_employed_avg = df['years_employed'].mean()\n",
    "#создадим функцию для расчета стажа безработных - она заменяет стаж безработного на среднее значение\n",
    "def income_type_unemployed(df):\n",
    "    if df['income_type'] == 'безработный':\n",
    "        return year_employed_avg\n",
    "    else:\n",
    "        return df['years_employed']\n",
    "#применим функцию для расчета стажа безработных к значениям столбца 'years_employed'  \n",
    "df['years_employed'] = df.apply(income_type_unemployed, axis=1)\n",
    "#сгруппируем значения стажа по рабочему статусу клиента и применим методы\n",
    "df_grouped_income_type = df.groupby('income_type').agg({'years_employed':['count','mean', 'median']})\n",
    "df_grouped_income_type"
   ]
  },
  {
   "cell_type": "markdown",
   "metadata": {},
   "source": [
    "В предыдущих этапах мы создали столбец *years_employed* и привели данные в вид, пригодный для дальшейшего анализа. Соответсвенно необходимость в столбце *days_employed* отпала. Мы можем его удалить."
   ]
  },
  {
   "cell_type": "code",
   "execution_count": 10,
   "metadata": {},
   "outputs": [],
   "source": [
    "#удалим столбец с днями стажа\n",
    "df = df.drop('days_employed', 1)"
   ]
  },
  {
   "cell_type": "markdown",
   "metadata": {},
   "source": [
    "После обработки аномальных значений и приведения данных стажа в более однородный вид, проведем замену пустых строк. Для этого сначала просмотрим основные значения столбца *years_employed* для выбора замены - среднее или медиана:"
   ]
  },
  {
   "cell_type": "code",
   "execution_count": 11,
   "metadata": {},
   "outputs": [
    {
     "data": {
      "text/plain": [
       "count    19351.000000\n",
       "mean        12.713827\n",
       "std         14.670851\n",
       "min          0.066141\n",
       "25%          2.539751\n",
       "50%          6.011563\n",
       "75%         15.163371\n",
       "max         50.380685\n",
       "Name: years_employed, dtype: float64"
      ]
     },
     "execution_count": 11,
     "metadata": {},
     "output_type": "execute_result"
    }
   ],
   "source": [
    "df['years_employed'].describe()"
   ]
  },
  {
   "cell_type": "markdown",
   "metadata": {},
   "source": [
    "Медиана значительно отличается от среднего значения, что говорит о смещении количества данных во вторую половину значений - проще говоря стажа более 7 лет значительно больше. Поэтому для замены остановим свой выбор на медиане:"
   ]
  },
  {
   "cell_type": "code",
   "execution_count": 12,
   "metadata": {},
   "outputs": [
    {
     "data": {
      "text/html": [
       "<div>\n",
       "<style scoped>\n",
       "    .dataframe tbody tr th:only-of-type {\n",
       "        vertical-align: middle;\n",
       "    }\n",
       "\n",
       "    .dataframe tbody tr th {\n",
       "        vertical-align: top;\n",
       "    }\n",
       "\n",
       "    .dataframe thead tr th {\n",
       "        text-align: left;\n",
       "    }\n",
       "\n",
       "    .dataframe thead tr:last-of-type th {\n",
       "        text-align: right;\n",
       "    }\n",
       "</style>\n",
       "<table border=\"1\" class=\"dataframe\">\n",
       "  <thead>\n",
       "    <tr>\n",
       "      <th></th>\n",
       "      <th colspan=\"3\" halign=\"left\">years_employed</th>\n",
       "    </tr>\n",
       "    <tr>\n",
       "      <th></th>\n",
       "      <th>count</th>\n",
       "      <th>mean</th>\n",
       "      <th>median</th>\n",
       "    </tr>\n",
       "    <tr>\n",
       "      <th>income_type</th>\n",
       "      <th></th>\n",
       "      <th></th>\n",
       "      <th></th>\n",
       "    </tr>\n",
       "  </thead>\n",
       "  <tbody>\n",
       "    <tr>\n",
       "      <td>безработный</td>\n",
       "      <td>2</td>\n",
       "      <td>12.816256</td>\n",
       "      <td>12.816256</td>\n",
       "    </tr>\n",
       "    <tr>\n",
       "      <td>в декрете</td>\n",
       "      <td>1</td>\n",
       "      <td>9.032219</td>\n",
       "      <td>9.032219</td>\n",
       "    </tr>\n",
       "    <tr>\n",
       "      <td>госслужащий</td>\n",
       "      <td>1459</td>\n",
       "      <td>9.667573</td>\n",
       "      <td>8.329502</td>\n",
       "    </tr>\n",
       "    <tr>\n",
       "      <td>компаньон</td>\n",
       "      <td>5085</td>\n",
       "      <td>6.487433</td>\n",
       "      <td>4.848039</td>\n",
       "    </tr>\n",
       "    <tr>\n",
       "      <td>пенсионер</td>\n",
       "      <td>3856</td>\n",
       "      <td>38.576976</td>\n",
       "      <td>41.153615</td>\n",
       "    </tr>\n",
       "    <tr>\n",
       "      <td>предприниматель</td>\n",
       "      <td>2</td>\n",
       "      <td>7.121619</td>\n",
       "      <td>7.121619</td>\n",
       "    </tr>\n",
       "    <tr>\n",
       "      <td>сотрудник</td>\n",
       "      <td>11119</td>\n",
       "      <td>7.014201</td>\n",
       "      <td>4.963868</td>\n",
       "    </tr>\n",
       "    <tr>\n",
       "      <td>студент</td>\n",
       "      <td>1</td>\n",
       "      <td>1.585621</td>\n",
       "      <td>1.585621</td>\n",
       "    </tr>\n",
       "  </tbody>\n",
       "</table>\n",
       "</div>"
      ],
      "text/plain": [
       "                years_employed                      \n",
       "                         count       mean     median\n",
       "income_type                                         \n",
       "безработный                  2  12.816256  12.816256\n",
       "в декрете                    1   9.032219   9.032219\n",
       "госслужащий               1459   9.667573   8.329502\n",
       "компаньон                 5085   6.487433   4.848039\n",
       "пенсионер                 3856  38.576976  41.153615\n",
       "предприниматель              2   7.121619   7.121619\n",
       "сотрудник                11119   7.014201   4.963868\n",
       "студент                      1   1.585621   1.585621"
      ]
     },
     "execution_count": 12,
     "metadata": {},
     "output_type": "execute_result"
    }
   ],
   "source": [
    "#создадим переменную для медианы столбца 'years_employed'\n",
    "year_employed_median = df['years_employed'].median()\n",
    "#заменим пустые значения на значение медианы\n",
    "df['years_employed'] = df['years_employed'].fillna(year_employed_avg)\n",
    "#сгруппируем значения стажа по рабочему статусу клиента и применим методы\n",
    "df_grouped_income_type = df.groupby('income_type').agg({'years_employed':['count','mean', 'median']})\n",
    "df_grouped_income_type"
   ]
  },
  {
   "cell_type": "markdown",
   "metadata": {},
   "source": [
    "После замены пропусков в столбце *years_employed* снова посмотрим на количество пропусков:"
   ]
  },
  {
   "cell_type": "code",
   "execution_count": 13,
   "metadata": {},
   "outputs": [
    {
     "data": {
      "text/plain": [
       "children               0\n",
       "dob_years              0\n",
       "education              0\n",
       "education_id           0\n",
       "family_status          0\n",
       "family_status_id       0\n",
       "gender                 0\n",
       "income_type            0\n",
       "debt                   0\n",
       "total_income        2174\n",
       "purpose                0\n",
       "years_employed         0\n",
       "dtype: int64"
      ]
     },
     "execution_count": 13,
     "metadata": {},
     "output_type": "execute_result"
    }
   ],
   "source": [
    "#выведем сумму значений по всем пропускам\n",
    "df.isna().sum()"
   ]
  },
  {
   "cell_type": "markdown",
   "metadata": {},
   "source": [
    "Замена пустых строк в *years_employed* проведена успешно. Осталось заменить пустые строки в *total_income*. Для этого опять посмотрим на основные значения столбца и определимся с выбором значения для замены."
   ]
  },
  {
   "cell_type": "code",
   "execution_count": 14,
   "metadata": {},
   "outputs": [
    {
     "data": {
      "text/plain": [
       "count    1.935100e+04\n",
       "mean     1.674223e+05\n",
       "std      1.029716e+05\n",
       "min      2.066726e+04\n",
       "25%      1.030532e+05\n",
       "50%      1.450179e+05\n",
       "75%      2.034351e+05\n",
       "max      2.265604e+06\n",
       "Name: total_income, dtype: float64"
      ]
     },
     "execution_count": 14,
     "metadata": {},
     "output_type": "execute_result"
    }
   ],
   "source": [
    "#посмотрим на основные значения столбца 'total_income'\n",
    "df['total_income'].describe()"
   ]
  },
  {
   "cell_type": "markdown",
   "metadata": {},
   "source": [
    "Выводятся очень непонятные значения. Попробуем вывести основные значения другим способом:"
   ]
  },
  {
   "cell_type": "code",
   "execution_count": 15,
   "metadata": {},
   "outputs": [
    {
     "name": "stdout",
     "output_type": "stream",
     "text": [
      "min: 20667.26379327158\n",
      "max: 2265604.028722744\n",
      "mean: 167422.30220817294\n",
      "median: 145017.93753253992\n"
     ]
    }
   ],
   "source": [
    "#посмотрим на основные значения столбца 'total_income'\n",
    "print('min:', df['total_income'].min())\n",
    "print('max:', df['total_income'].max())\n",
    "print('mean:', df['total_income'].mean())\n",
    "print('median:', df['total_income'].median())"
   ]
  },
  {
   "cell_type": "markdown",
   "metadata": {},
   "source": [
    "Среднее значение не сильно разнится с медианой - поэтому выбор замены не сильно должен отразиться на качестве значений. Заменим пустые строки столбца *total_income* на медиану:"
   ]
  },
  {
   "cell_type": "code",
   "execution_count": 16,
   "metadata": {},
   "outputs": [],
   "source": [
    "#создадим переменную для медианы столбца 'total_income'\n",
    "total_income_median = df['total_income'].median()\n",
    "#проведем замену пустых строк на значение медианы\n",
    "df['total_income'] = df['total_income'].fillna(total_income_median)"
   ]
  },
  {
   "cell_type": "markdown",
   "metadata": {},
   "source": [
    "После замены пропусков в столбце *total_income* снова посмотрим на количество пропусков:"
   ]
  },
  {
   "cell_type": "code",
   "execution_count": 17,
   "metadata": {},
   "outputs": [
    {
     "data": {
      "text/plain": [
       "children            0\n",
       "dob_years           0\n",
       "education           0\n",
       "education_id        0\n",
       "family_status       0\n",
       "family_status_id    0\n",
       "gender              0\n",
       "income_type         0\n",
       "debt                0\n",
       "total_income        0\n",
       "purpose             0\n",
       "years_employed      0\n",
       "dtype: int64"
      ]
     },
     "execution_count": 17,
     "metadata": {},
     "output_type": "execute_result"
    }
   ],
   "source": [
    "#выведем сумму значений по всем пропускам\n",
    "df.isna().sum()"
   ]
  },
  {
   "cell_type": "markdown",
   "metadata": {},
   "source": [
    "Также при анализе датасета было выявлено, что столбец *children* имеет аномальные значения *-1* и *20*. Появилась гипотеза, что эти значения являются ошибками ручного ввода - минут был присвоен случайно, и также ноль был нажат по неосторожности. Посмотрим на уникальные значения этого столбца:"
   ]
  },
  {
   "cell_type": "code",
   "execution_count": 18,
   "metadata": {},
   "outputs": [
    {
     "data": {
      "text/plain": [
       "array([ 1,  0,  3,  2, -1,  4, 20,  5])"
      ]
     },
     "execution_count": 18,
     "metadata": {},
     "output_type": "execute_result"
    }
   ],
   "source": [
    "#выведем все уникальные значения\n",
    "df['children'].unique()"
   ]
  },
  {
   "cell_type": "markdown",
   "metadata": {},
   "source": [
    "Мнжду значениями *5* и *20* отсутствуют промежуточные. Четко видно, что *-1* и *20* - ошибки. Избавимся от них, заменив *-1* на *1* и *20* на *2*."
   ]
  },
  {
   "cell_type": "code",
   "execution_count": 19,
   "metadata": {},
   "outputs": [],
   "source": [
    "#произведем значения по строкам, соответвующим условию\n",
    "df.loc[(df['children'] == -1), 'children'] = 1\n",
    "df.loc[(df['children'] == 20), 'children'] = 2"
   ]
  },
  {
   "cell_type": "markdown",
   "metadata": {},
   "source": [
    "После замены снова проверим уникальные значения:"
   ]
  },
  {
   "cell_type": "code",
   "execution_count": 20,
   "metadata": {},
   "outputs": [
    {
     "data": {
      "text/plain": [
       "array([1, 0, 3, 2, 4, 5])"
      ]
     },
     "execution_count": 20,
     "metadata": {},
     "output_type": "execute_result"
    }
   ],
   "source": [
    "#выведем все уникальные значения\n",
    "df['children'].unique()"
   ]
  },
  {
   "cell_type": "markdown",
   "metadata": {},
   "source": [
    "Данные столбца *children* очищены от ошибок неверного ввода."
   ]
  },
  {
   "cell_type": "markdown",
   "metadata": {},
   "source": [
    "Далее проверим есть ли в столбце *dob_years* нулевые значения. Пришла я к этому в блоке категоризация, когда стала собирать значения возраста в группы, но это можно было заметить еще в самом начале при изучении минимального значения столбца *dob_years*, поэтому удаление нулевых значений помещен в этот этап."
   ]
  },
  {
   "cell_type": "code",
   "execution_count": 21,
   "metadata": {},
   "outputs": [
    {
     "data": {
      "text/plain": [
       "(35, 64]    13931\n",
       "(18, 35]     6594\n",
       "(64, 75]      899\n",
       "(14, 18]        0\n",
       "(0, 14]         0\n",
       "Name: dob_years, dtype: int64"
      ]
     },
     "execution_count": 21,
     "metadata": {},
     "output_type": "execute_result"
    }
   ],
   "source": [
    "#разделим знчения возраста клиентов на части, кототые могут соответсвовать общепринятым возрастным группам:\n",
    "dublicated_age = pd.cut(df['dob_years'],\n",
    "                             [0,14,18,35,64,df['dob_years'].max()])\n",
    "#выведем количество значений каждой категории\n",
    "dublicated_age.value_counts()"
   ]
  },
  {
   "cell_type": "markdown",
   "metadata": {},
   "source": [
    "При пересчете оказалось, что сумма выведенных значений меньше на 101, соответсвенно не вошли нулевые значения. Проверим их наличие:"
   ]
  },
  {
   "cell_type": "code",
   "execution_count": 22,
   "metadata": {},
   "outputs": [
    {
     "name": "stdout",
     "output_type": "stream",
     "text": [
      "       children  dob_years education  education_id          family_status  \\\n",
      "99            0          0   Среднее             1        женат / замужем   \n",
      "149           0          0   среднее             1              в разводе   \n",
      "270           3          0   среднее             1        женат / замужем   \n",
      "578           0          0   среднее             1        женат / замужем   \n",
      "1040          0          0    высшее             0              в разводе   \n",
      "...         ...        ...       ...           ...                    ...   \n",
      "19829         0          0   среднее             1        женат / замужем   \n",
      "20462         0          0   среднее             1        женат / замужем   \n",
      "20577         0          0   среднее             1  Не женат / не замужем   \n",
      "21179         2          0    высшее             0        женат / замужем   \n",
      "21313         0          0   среднее             1  Не женат / не замужем   \n",
      "\n",
      "       family_status_id gender income_type  debt   total_income  \\\n",
      "99                    0      F   пенсионер     0   71291.522491   \n",
      "149                   3      F   сотрудник     0   70176.435951   \n",
      "270                   0      F   сотрудник     0  102166.458894   \n",
      "578                   0      F   пенсионер     0   97620.687042   \n",
      "1040                  3      F   компаньон     0  303994.134987   \n",
      "...                 ...    ...         ...   ...            ...   \n",
      "19829                 0      F   сотрудник     0  145017.937533   \n",
      "20462                 0      F   пенсионер     0  259193.920299   \n",
      "20577                 4      F   пенсионер     0  129788.762899   \n",
      "21179                 0      M   компаньон     0  240702.007382   \n",
      "21313                 4      M   сотрудник     0  152419.184851   \n",
      "\n",
      "                                      purpose  years_employed  \n",
      "99                                 автомобиль       39.559546  \n",
      "149                         операции с жильем        7.299379  \n",
      "270                              ремонт жилью        5.130584  \n",
      "578    строительство собственной недвижимости       45.417416  \n",
      "1040                          свой автомобиль        3.172684  \n",
      "...                                       ...             ...  \n",
      "19829                                   жилье       12.816256  \n",
      "20462                    покупка своего жилья       38.668364  \n",
      "20577                            недвижимость       37.870008  \n",
      "21179        строительство жилой недвижимости        0.298540  \n",
      "21313                       операции с жильем        3.475309  \n",
      "\n",
      "[101 rows x 12 columns]\n"
     ]
    }
   ],
   "source": [
    "#выведем строки с нулевыми значениями возраста\n",
    "display(df.loc[(df['dob_years'] == 0)])"
   ]
  },
  {
   "cell_type": "markdown",
   "metadata": {},
   "source": [
    "Все верно - количество нулевых значений равно 101. Нулевы значения как правило возникают, когда при вводе данных поле было пропущено, а система заменяет отсутсвие данных на машинопонятный в данном случае ноль. Произведем замену нулевых значений. Для этого посмотрим описание основных значений столбца *dob_years*, чтобы определить какое значение выбирать для замены - среднее или медиану: "
   ]
  },
  {
   "cell_type": "code",
   "execution_count": 23,
   "metadata": {},
   "outputs": [
    {
     "data": {
      "text/plain": [
       "count    21525.000000\n",
       "mean        43.293380\n",
       "std         12.574584\n",
       "min          0.000000\n",
       "25%         33.000000\n",
       "50%         42.000000\n",
       "75%         53.000000\n",
       "max         75.000000\n",
       "Name: dob_years, dtype: float64"
      ]
     },
     "execution_count": 23,
     "metadata": {},
     "output_type": "execute_result"
    }
   ],
   "source": [
    "#посмотрим на основные значения столбца 'dob_years'\n",
    "df['dob_years'].describe()"
   ]
  },
  {
   "cell_type": "markdown",
   "metadata": {},
   "source": [
    "Среднее значение не критично отличается от медианы, поэтому в данном случае замена на любое из этих значений не исказит данные. Заменим нулевые значения на медиану:"
   ]
  },
  {
   "cell_type": "code",
   "execution_count": 24,
   "metadata": {},
   "outputs": [],
   "source": [
    "#создадим переменную для медианы столбца 'dob_years'\n",
    "dob_years_median = df['dob_years'].median()\n",
    "#проведем замену нулевых значений на значение медианы\n",
    "df.loc[(df['dob_years'] == 0), 'dob_years'] = dob_years_median"
   ]
  },
  {
   "cell_type": "markdown",
   "metadata": {},
   "source": [
    "После замены еще раз посмотрим на основные значения:"
   ]
  },
  {
   "cell_type": "code",
   "execution_count": 25,
   "metadata": {},
   "outputs": [
    {
     "data": {
      "text/plain": [
       "count    21525.000000\n",
       "mean        43.490453\n",
       "std         12.218595\n",
       "min         19.000000\n",
       "25%         34.000000\n",
       "50%         42.000000\n",
       "75%         53.000000\n",
       "max         75.000000\n",
       "Name: dob_years, dtype: float64"
      ]
     },
     "execution_count": 25,
     "metadata": {},
     "output_type": "execute_result"
    }
   ],
   "source": [
    "#посмотрим на основные значения столбца 'dob_years'\n",
    "df['dob_years'].describe()"
   ]
  },
  {
   "cell_type": "markdown",
   "metadata": {},
   "source": [
    "Минимальное значение стало 19 лет, что соответсвует законодательно утвержденному возрасту для возможности предоставления кредита. Проверим замену еще раз наличие нулевых значений в столбце *dob_years*, чтобы убедиться в их отсутствии:"
   ]
  },
  {
   "cell_type": "code",
   "execution_count": 26,
   "metadata": {},
   "outputs": [
    {
     "name": "stdout",
     "output_type": "stream",
     "text": [
      "Empty DataFrame\n",
      "Columns: [children, dob_years, education, education_id, family_status, family_status_id, gender, income_type, debt, total_income, purpose, years_employed]\n",
      "Index: []\n"
     ]
    }
   ],
   "source": [
    "#выведем строки с нулевыми значениями возраста\n",
    "print(df.loc[(df['dob_years'] == 0)])"
   ]
  },
  {
   "cell_type": "markdown",
   "metadata": {},
   "source": [
    "Нулевые значения в стобце *dob_years* отсутвуют."
   ]
  },
  {
   "cell_type": "markdown",
   "metadata": {},
   "source": [
    "### Вывод"
   ]
  },
  {
   "cell_type": "markdown",
   "metadata": {},
   "source": [
    "* В результате проверки датасета были обнаружены пустые строки в столбцах *days_employed* и *total_income*. Проведена обработка значений стажа в столбце *days_employed*, а именно категоризация в зависимости от типа занятости клиентов, очищение данных от выбросов (обнаружены аномально высокие значения по группам *безработные* и *пенсионеры*), создание нового столбца *years_employed* и замены пустых строк медианой.\n",
    "\n",
    "* Проведена замена пустых строк в столбце *total_income* на медианное значение.\n",
    "\n",
    "* Обнаружены нулевые значения в столбце *dob_years* и заменены на медианное значение.\n",
    "\n",
    "В результате работы над этим этапом было предположено, что пропуски и нулевые значения как правило возникают на этапе ввода данных клиентом, так как возможно поля, в которых имелись такие отклонения, не являются обязательными для заполнения и клиенты имеют возможность их проигнорировать. По итогу проделанной работы пропуски и нулевые значения в датасете отсутсвуют, а также неверно введенные, в результате (предположительно) человеческого фактора, исправлены."
   ]
  },
  {
   "cell_type": "markdown",
   "metadata": {},
   "source": [
    "### Замена типа данных"
   ]
  },
  {
   "cell_type": "markdown",
   "metadata": {},
   "source": [
    "Изначально, приступая к этому этапу возникла мысль произвести замену типа данных в столбцах *years_employed* и *total_income* с float64 на int64. \n",
    "\n",
    "В таком случае, как предпологалось, такая замена позволила бы нам в дальнейшем обрабатывать запросы быстрее и, если быть честными, целые числа легче воспринимаются в анализе."
   ]
  },
  {
   "cell_type": "code",
   "execution_count": 27,
   "metadata": {},
   "outputs": [],
   "source": [
    "#для запуска кода необходимо расскоментировать и перезапустить notebook\n",
    "# df[['years_employed', 'total_income']] = df[['years_employed', 'total_income']].astype('int')"
   ]
  },
  {
   "cell_type": "markdown",
   "metadata": {},
   "source": [
    "Однако хорошо поразмыслив о том, что трудовой стаж бывает и не целым годом, а общий доход содержит не всегда целые числа, то было принято решения округлить данные значения до одного знака после запятой:"
   ]
  },
  {
   "cell_type": "code",
   "execution_count": 28,
   "metadata": {},
   "outputs": [
    {
     "name": "stdout",
     "output_type": "stream",
     "text": [
      "   children  dob_years education  education_id     family_status  \\\n",
      "0         1       42.0    высшее             0   женат / замужем   \n",
      "1         1       36.0   среднее             1   женат / замужем   \n",
      "2         0       33.0   Среднее             1   женат / замужем   \n",
      "3         3       32.0   среднее             1   женат / замужем   \n",
      "4         0       53.0   среднее             1  гражданский брак   \n",
      "\n",
      "   family_status_id gender income_type  debt  total_income  \\\n",
      "0                 0      F   сотрудник     0      253875.6   \n",
      "1                 0      F   сотрудник     0      112080.0   \n",
      "2                 0      M   сотрудник     0      145886.0   \n",
      "3                 0      M   сотрудник     0      267628.6   \n",
      "4                 1      F   пенсионер     0      158616.1   \n",
      "\n",
      "                      purpose  years_employed  \n",
      "0               покупка жилья            23.1  \n",
      "1     приобретение автомобиля            11.0  \n",
      "2               покупка жилья            15.4  \n",
      "3  дополнительное образование            11.3  \n",
      "4             сыграть свадьбу            38.8  \n"
     ]
    }
   ],
   "source": [
    "#окрглим значения столбцов 'years_employed' и 'total_income'\n",
    "df[['years_employed', 'total_income']] = df[['years_employed', 'total_income']].round(1)\n",
    "#выведем первые 5 строк датасета\n",
    "display(df.head())"
   ]
  },
  {
   "cell_type": "markdown",
   "metadata": {},
   "source": [
    "Значения столбцов *years_employed* и *total_income* округлены успешно."
   ]
  },
  {
   "cell_type": "markdown",
   "metadata": {},
   "source": [
    "Однако, требования есть требования, поэтому проведем замену типа данных в столбцах *years_employed* и *total_income* с float64 на int64. "
   ]
  },
  {
   "cell_type": "code",
   "execution_count": 29,
   "metadata": {},
   "outputs": [
    {
     "name": "stdout",
     "output_type": "stream",
     "text": [
      "<class 'pandas.core.frame.DataFrame'>\n",
      "RangeIndex: 21525 entries, 0 to 21524\n",
      "Data columns (total 12 columns):\n",
      "children            21525 non-null int64\n",
      "dob_years           21525 non-null float64\n",
      "education           21525 non-null object\n",
      "education_id        21525 non-null int64\n",
      "family_status       21525 non-null object\n",
      "family_status_id    21525 non-null int64\n",
      "gender              21525 non-null object\n",
      "income_type         21525 non-null object\n",
      "debt                21525 non-null int64\n",
      "total_income        21525 non-null int64\n",
      "purpose             21525 non-null object\n",
      "years_employed      21525 non-null int64\n",
      "dtypes: float64(1), int64(6), object(5)\n",
      "memory usage: 2.0+ MB\n"
     ]
    }
   ],
   "source": [
    "#проведем замену типа данных в столбцах 'years_employed' и 'total_income'\n",
    "df[['years_employed', 'total_income']] = df[['years_employed', 'total_income']].astype('int64')\n",
    "#выведем первые 5 строк датасета\n",
    "df.info()"
   ]
  },
  {
   "cell_type": "markdown",
   "metadata": {},
   "source": [
    "Замена была проведена успешно."
   ]
  },
  {
   "cell_type": "markdown",
   "metadata": {},
   "source": [
    "Также на этом этапе было замечено, что в столбцах *education* и *family_status* значения находятся в разных регистрах. И среди значений столбца *gender* закралось нехарактерное полу значение."
   ]
  },
  {
   "cell_type": "code",
   "execution_count": 30,
   "metadata": {},
   "outputs": [
    {
     "data": {
      "text/plain": [
       "array(['высшее', 'среднее', 'Среднее', 'СРЕДНЕЕ', 'ВЫСШЕЕ',\n",
       "       'неоконченное высшее', 'начальное', 'Высшее',\n",
       "       'НЕОКОНЧЕННОЕ ВЫСШЕЕ', 'Неоконченное высшее', 'НАЧАЛЬНОЕ',\n",
       "       'Начальное', 'Ученая степень', 'УЧЕНАЯ СТЕПЕНЬ', 'ученая степень'],\n",
       "      dtype=object)"
      ]
     },
     "execution_count": 30,
     "metadata": {},
     "output_type": "execute_result"
    }
   ],
   "source": [
    "#выведем уникальные значения столбца 'education'\n",
    "df['education'].unique()"
   ]
  },
  {
   "cell_type": "code",
   "execution_count": 31,
   "metadata": {},
   "outputs": [
    {
     "data": {
      "text/plain": [
       "array(['женат / замужем', 'гражданский брак', 'вдовец / вдова',\n",
       "       'в разводе', 'Не женат / не замужем'], dtype=object)"
      ]
     },
     "execution_count": 31,
     "metadata": {},
     "output_type": "execute_result"
    }
   ],
   "source": [
    "#выведем уникальные значения столбца 'family_status'\n",
    "df['family_status'].unique()"
   ]
  },
  {
   "cell_type": "code",
   "execution_count": 32,
   "metadata": {},
   "outputs": [
    {
     "data": {
      "text/plain": [
       "array(['F', 'M', 'XNA'], dtype=object)"
      ]
     },
     "execution_count": 32,
     "metadata": {},
     "output_type": "execute_result"
    }
   ],
   "source": [
    "#выведем уникальные значения столбца 'gender'\n",
    "df['gender'].unique()"
   ]
  },
  {
   "cell_type": "markdown",
   "metadata": {},
   "source": [
    "- В столбце *education* текст необходимо перевести в единый регистр, чтобы категории образования привелись в единый вид. \n",
    "- Также для визуального восприятия необходимо в единый регистр привести и столбец *family_status*. \n",
    "- В столбце *gender* обнаружилось неизвестное значение 'XNA' в количестве 1, которое не относится ни к одному полу. Скорей всего это ошибка ввода данных."
   ]
  },
  {
   "cell_type": "markdown",
   "metadata": {},
   "source": [
    "Переведем столбцы *education* и *family_status* в нижний регистр:"
   ]
  },
  {
   "cell_type": "code",
   "execution_count": 33,
   "metadata": {},
   "outputs": [
    {
     "data": {
      "text/plain": [
       "array(['высшее', 'среднее', 'неоконченное высшее', 'начальное',\n",
       "       'ученая степень'], dtype=object)"
      ]
     },
     "execution_count": 33,
     "metadata": {},
     "output_type": "execute_result"
    }
   ],
   "source": [
    "#приведем значения столбца 'education' в нижний регистр\n",
    "df['education'] = df['education'].str.lower()\n",
    "#выведем уникальные значения столбца 'education'\n",
    "df['education'].unique()"
   ]
  },
  {
   "cell_type": "code",
   "execution_count": 34,
   "metadata": {},
   "outputs": [
    {
     "data": {
      "text/plain": [
       "array(['женат / замужем', 'гражданский брак', 'вдовец / вдова',\n",
       "       'в разводе', 'не женат / не замужем'], dtype=object)"
      ]
     },
     "execution_count": 34,
     "metadata": {},
     "output_type": "execute_result"
    }
   ],
   "source": [
    "#приведем значения столбца 'education' в нижний регистр\n",
    "df['family_status'] = df['family_status'].str.lower()\n",
    "#выведем уникальные значения столбца 'family_status'\n",
    "df['family_status'].unique()"
   ]
  },
  {
   "cell_type": "markdown",
   "metadata": {},
   "source": [
    "Значения успешно приведены к одному регистру, что упрощает анализ и дальнейшее восприятие данных."
   ]
  },
  {
   "cell_type": "markdown",
   "metadata": {},
   "source": [
    "Далее устраним неизвестное значение *XNA* в столбце *gender*. Для этого определим самое популярное значение - моду:"
   ]
  },
  {
   "cell_type": "code",
   "execution_count": 35,
   "metadata": {},
   "outputs": [
    {
     "data": {
      "text/plain": [
       "count     21525\n",
       "unique        3\n",
       "top           F\n",
       "freq      14236\n",
       "Name: gender, dtype: object"
      ]
     },
     "execution_count": 35,
     "metadata": {},
     "output_type": "execute_result"
    }
   ],
   "source": [
    "#посмотрим на основные значения столбца 'dob_years'\n",
    "df['gender'].describe()"
   ]
  },
  {
   "cell_type": "markdown",
   "metadata": {},
   "source": [
    "Модой является *F*. Соответсвенно отнесем значение 'XNA' в столбце *gender* к женскому полу."
   ]
  },
  {
   "cell_type": "code",
   "execution_count": 36,
   "metadata": {},
   "outputs": [
    {
     "data": {
      "text/plain": [
       "array(['F', 'M'], dtype=object)"
      ]
     },
     "execution_count": 36,
     "metadata": {},
     "output_type": "execute_result"
    }
   ],
   "source": [
    "#произведем замену 'XNA' на 'F'\n",
    "df.loc[(df['gender'] == 'XNA'), 'gender'] = 'F'\n",
    "#выведем уникальные значения столбца 'gender'\n",
    "df['gender'].unique()"
   ]
  },
  {
   "cell_type": "markdown",
   "metadata": {},
   "source": [
    "### Вывод"
   ]
  },
  {
   "cell_type": "markdown",
   "metadata": {},
   "source": [
    "* Для улучшения визуального восприятия и сохранения качества данных было принято решение округленить значения в столбцах *years_employed* и *total_income*.\n",
    "* Ткаже значения в столбце *education* и *family_status* были приведены в единый регистр для дальнейшей читабельности.\n",
    "* В столбце *gender* обнаружилось неизвестное значение 'XNA' которое было устранено с помощью присоединения к моде столбца *F*."
   ]
  },
  {
   "cell_type": "markdown",
   "metadata": {},
   "source": [
    "### Обработка дубликатов"
   ]
  },
  {
   "cell_type": "markdown",
   "metadata": {},
   "source": [
    "Проверим датасет на наличие дубликатов. "
   ]
  },
  {
   "cell_type": "code",
   "execution_count": 37,
   "metadata": {},
   "outputs": [
    {
     "name": "stdout",
     "output_type": "stream",
     "text": [
      "Дубликатов в таблице: 72\n"
     ]
    }
   ],
   "source": [
    "#выведем все дубликаты \n",
    "print ('Дубликатов в таблице:', df.duplicated().sum())"
   ]
  },
  {
   "cell_type": "markdown",
   "metadata": {},
   "source": [
    "При проверке датасета было выявлено 72 дубликата . Попробуем произвести их удаление и посмотреть на результат:"
   ]
  },
  {
   "cell_type": "code",
   "execution_count": 38,
   "metadata": {},
   "outputs": [
    {
     "data": {
      "text/html": [
       "<div>\n",
       "<style scoped>\n",
       "    .dataframe tbody tr th:only-of-type {\n",
       "        vertical-align: middle;\n",
       "    }\n",
       "\n",
       "    .dataframe tbody tr th {\n",
       "        vertical-align: top;\n",
       "    }\n",
       "\n",
       "    .dataframe thead th {\n",
       "        text-align: right;\n",
       "    }\n",
       "</style>\n",
       "<table border=\"1\" class=\"dataframe\">\n",
       "  <thead>\n",
       "    <tr style=\"text-align: right;\">\n",
       "      <th></th>\n",
       "      <th>children</th>\n",
       "      <th>dob_years</th>\n",
       "      <th>education</th>\n",
       "      <th>education_id</th>\n",
       "      <th>family_status</th>\n",
       "      <th>family_status_id</th>\n",
       "      <th>gender</th>\n",
       "      <th>income_type</th>\n",
       "      <th>debt</th>\n",
       "      <th>total_income</th>\n",
       "      <th>purpose</th>\n",
       "      <th>years_employed</th>\n",
       "    </tr>\n",
       "  </thead>\n",
       "  <tbody>\n",
       "    <tr>\n",
       "      <td>0</td>\n",
       "      <td>1</td>\n",
       "      <td>42.0</td>\n",
       "      <td>высшее</td>\n",
       "      <td>0</td>\n",
       "      <td>женат / замужем</td>\n",
       "      <td>0</td>\n",
       "      <td>F</td>\n",
       "      <td>сотрудник</td>\n",
       "      <td>0</td>\n",
       "      <td>253875</td>\n",
       "      <td>покупка жилья</td>\n",
       "      <td>23</td>\n",
       "    </tr>\n",
       "    <tr>\n",
       "      <td>1</td>\n",
       "      <td>1</td>\n",
       "      <td>36.0</td>\n",
       "      <td>среднее</td>\n",
       "      <td>1</td>\n",
       "      <td>женат / замужем</td>\n",
       "      <td>0</td>\n",
       "      <td>F</td>\n",
       "      <td>сотрудник</td>\n",
       "      <td>0</td>\n",
       "      <td>112080</td>\n",
       "      <td>приобретение автомобиля</td>\n",
       "      <td>11</td>\n",
       "    </tr>\n",
       "    <tr>\n",
       "      <td>2</td>\n",
       "      <td>0</td>\n",
       "      <td>33.0</td>\n",
       "      <td>среднее</td>\n",
       "      <td>1</td>\n",
       "      <td>женат / замужем</td>\n",
       "      <td>0</td>\n",
       "      <td>M</td>\n",
       "      <td>сотрудник</td>\n",
       "      <td>0</td>\n",
       "      <td>145886</td>\n",
       "      <td>покупка жилья</td>\n",
       "      <td>15</td>\n",
       "    </tr>\n",
       "    <tr>\n",
       "      <td>3</td>\n",
       "      <td>3</td>\n",
       "      <td>32.0</td>\n",
       "      <td>среднее</td>\n",
       "      <td>1</td>\n",
       "      <td>женат / замужем</td>\n",
       "      <td>0</td>\n",
       "      <td>M</td>\n",
       "      <td>сотрудник</td>\n",
       "      <td>0</td>\n",
       "      <td>267628</td>\n",
       "      <td>дополнительное образование</td>\n",
       "      <td>11</td>\n",
       "    </tr>\n",
       "    <tr>\n",
       "      <td>4</td>\n",
       "      <td>0</td>\n",
       "      <td>53.0</td>\n",
       "      <td>среднее</td>\n",
       "      <td>1</td>\n",
       "      <td>гражданский брак</td>\n",
       "      <td>1</td>\n",
       "      <td>F</td>\n",
       "      <td>пенсионер</td>\n",
       "      <td>0</td>\n",
       "      <td>158616</td>\n",
       "      <td>сыграть свадьбу</td>\n",
       "      <td>38</td>\n",
       "    </tr>\n",
       "    <tr>\n",
       "      <td>...</td>\n",
       "      <td>...</td>\n",
       "      <td>...</td>\n",
       "      <td>...</td>\n",
       "      <td>...</td>\n",
       "      <td>...</td>\n",
       "      <td>...</td>\n",
       "      <td>...</td>\n",
       "      <td>...</td>\n",
       "      <td>...</td>\n",
       "      <td>...</td>\n",
       "      <td>...</td>\n",
       "      <td>...</td>\n",
       "    </tr>\n",
       "    <tr>\n",
       "      <td>21520</td>\n",
       "      <td>1</td>\n",
       "      <td>43.0</td>\n",
       "      <td>среднее</td>\n",
       "      <td>1</td>\n",
       "      <td>гражданский брак</td>\n",
       "      <td>1</td>\n",
       "      <td>F</td>\n",
       "      <td>компаньон</td>\n",
       "      <td>0</td>\n",
       "      <td>224791</td>\n",
       "      <td>операции с жильем</td>\n",
       "      <td>12</td>\n",
       "    </tr>\n",
       "    <tr>\n",
       "      <td>21521</td>\n",
       "      <td>0</td>\n",
       "      <td>67.0</td>\n",
       "      <td>среднее</td>\n",
       "      <td>1</td>\n",
       "      <td>женат / замужем</td>\n",
       "      <td>0</td>\n",
       "      <td>F</td>\n",
       "      <td>пенсионер</td>\n",
       "      <td>0</td>\n",
       "      <td>155999</td>\n",
       "      <td>сделка с автомобилем</td>\n",
       "      <td>39</td>\n",
       "    </tr>\n",
       "    <tr>\n",
       "      <td>21522</td>\n",
       "      <td>1</td>\n",
       "      <td>38.0</td>\n",
       "      <td>среднее</td>\n",
       "      <td>1</td>\n",
       "      <td>гражданский брак</td>\n",
       "      <td>1</td>\n",
       "      <td>M</td>\n",
       "      <td>сотрудник</td>\n",
       "      <td>1</td>\n",
       "      <td>89672</td>\n",
       "      <td>недвижимость</td>\n",
       "      <td>5</td>\n",
       "    </tr>\n",
       "    <tr>\n",
       "      <td>21523</td>\n",
       "      <td>3</td>\n",
       "      <td>38.0</td>\n",
       "      <td>среднее</td>\n",
       "      <td>1</td>\n",
       "      <td>женат / замужем</td>\n",
       "      <td>0</td>\n",
       "      <td>M</td>\n",
       "      <td>сотрудник</td>\n",
       "      <td>1</td>\n",
       "      <td>244093</td>\n",
       "      <td>на покупку своего автомобиля</td>\n",
       "      <td>8</td>\n",
       "    </tr>\n",
       "    <tr>\n",
       "      <td>21524</td>\n",
       "      <td>2</td>\n",
       "      <td>40.0</td>\n",
       "      <td>среднее</td>\n",
       "      <td>1</td>\n",
       "      <td>женат / замужем</td>\n",
       "      <td>0</td>\n",
       "      <td>F</td>\n",
       "      <td>сотрудник</td>\n",
       "      <td>0</td>\n",
       "      <td>82047</td>\n",
       "      <td>на покупку автомобиля</td>\n",
       "      <td>5</td>\n",
       "    </tr>\n",
       "  </tbody>\n",
       "</table>\n",
       "<p>21453 rows × 12 columns</p>\n",
       "</div>"
      ],
      "text/plain": [
       "       children  dob_years education  education_id     family_status  \\\n",
       "0             1       42.0    высшее             0   женат / замужем   \n",
       "1             1       36.0   среднее             1   женат / замужем   \n",
       "2             0       33.0   среднее             1   женат / замужем   \n",
       "3             3       32.0   среднее             1   женат / замужем   \n",
       "4             0       53.0   среднее             1  гражданский брак   \n",
       "...         ...        ...       ...           ...               ...   \n",
       "21520         1       43.0   среднее             1  гражданский брак   \n",
       "21521         0       67.0   среднее             1   женат / замужем   \n",
       "21522         1       38.0   среднее             1  гражданский брак   \n",
       "21523         3       38.0   среднее             1   женат / замужем   \n",
       "21524         2       40.0   среднее             1   женат / замужем   \n",
       "\n",
       "       family_status_id gender income_type  debt  total_income  \\\n",
       "0                     0      F   сотрудник     0        253875   \n",
       "1                     0      F   сотрудник     0        112080   \n",
       "2                     0      M   сотрудник     0        145886   \n",
       "3                     0      M   сотрудник     0        267628   \n",
       "4                     1      F   пенсионер     0        158616   \n",
       "...                 ...    ...         ...   ...           ...   \n",
       "21520                 1      F   компаньон     0        224791   \n",
       "21521                 0      F   пенсионер     0        155999   \n",
       "21522                 1      M   сотрудник     1         89672   \n",
       "21523                 0      M   сотрудник     1        244093   \n",
       "21524                 0      F   сотрудник     0         82047   \n",
       "\n",
       "                            purpose  years_employed  \n",
       "0                     покупка жилья              23  \n",
       "1           приобретение автомобиля              11  \n",
       "2                     покупка жилья              15  \n",
       "3        дополнительное образование              11  \n",
       "4                   сыграть свадьбу              38  \n",
       "...                             ...             ...  \n",
       "21520             операции с жильем              12  \n",
       "21521          сделка с автомобилем              39  \n",
       "21522                  недвижимость               5  \n",
       "21523  на покупку своего автомобиля               8  \n",
       "21524         на покупку автомобиля               5  \n",
       "\n",
       "[21453 rows x 12 columns]"
      ]
     },
     "execution_count": 38,
     "metadata": {},
     "output_type": "execute_result"
    }
   ],
   "source": [
    "#удалим все дубликаты\n",
    "df = df.drop_duplicates()\n",
    "df.head()"
   ]
  },
  {
   "cell_type": "markdown",
   "metadata": {},
   "source": [
    "Количество строк сократилось на 72. Соответственно внутри датасета находилось 72 дубликата."
   ]
  },
  {
   "cell_type": "markdown",
   "metadata": {},
   "source": [
    "### Вывод"
   ]
  },
  {
   "cell_type": "markdown",
   "metadata": {},
   "source": [
    "На данном этапе были удалены дубликаты. Количество строк сократилось на 73 значений - с 21525 до 21453."
   ]
  },
  {
   "cell_type": "markdown",
   "metadata": {},
   "source": [
    "### Лемматизация"
   ]
  },
  {
   "cell_type": "markdown",
   "metadata": {},
   "source": [
    "В столбце *purpose* находятся цели получения кредита, которые оставили сами клиенты. Цели имеют разный тип написания в зависимости от количества слов и их форм, их нужно разбить на определенные группы. Для этого необходимо применить лемматизацию и категоризировать цели кредита:"
   ]
  },
  {
   "cell_type": "code",
   "execution_count": 39,
   "metadata": {},
   "outputs": [
    {
     "data": {
      "text/html": [
       "<div>\n",
       "<style scoped>\n",
       "    .dataframe tbody tr th:only-of-type {\n",
       "        vertical-align: middle;\n",
       "    }\n",
       "\n",
       "    .dataframe tbody tr th {\n",
       "        vertical-align: top;\n",
       "    }\n",
       "\n",
       "    .dataframe thead th {\n",
       "        text-align: right;\n",
       "    }\n",
       "</style>\n",
       "<table border=\"1\" class=\"dataframe\">\n",
       "  <thead>\n",
       "    <tr style=\"text-align: right;\">\n",
       "      <th></th>\n",
       "      <th>children</th>\n",
       "      <th>dob_years</th>\n",
       "      <th>education</th>\n",
       "      <th>education_id</th>\n",
       "      <th>family_status</th>\n",
       "      <th>family_status_id</th>\n",
       "      <th>gender</th>\n",
       "      <th>income_type</th>\n",
       "      <th>debt</th>\n",
       "      <th>total_income</th>\n",
       "      <th>purpose</th>\n",
       "      <th>years_employed</th>\n",
       "      <th>purpose_lemmas</th>\n",
       "    </tr>\n",
       "  </thead>\n",
       "  <tbody>\n",
       "    <tr>\n",
       "      <td>0</td>\n",
       "      <td>1</td>\n",
       "      <td>42.0</td>\n",
       "      <td>высшее</td>\n",
       "      <td>0</td>\n",
       "      <td>женат / замужем</td>\n",
       "      <td>0</td>\n",
       "      <td>F</td>\n",
       "      <td>сотрудник</td>\n",
       "      <td>0</td>\n",
       "      <td>253875</td>\n",
       "      <td>покупка жилья</td>\n",
       "      <td>23</td>\n",
       "      <td>[покупка,  , жилье, \\n]</td>\n",
       "    </tr>\n",
       "    <tr>\n",
       "      <td>1</td>\n",
       "      <td>1</td>\n",
       "      <td>36.0</td>\n",
       "      <td>среднее</td>\n",
       "      <td>1</td>\n",
       "      <td>женат / замужем</td>\n",
       "      <td>0</td>\n",
       "      <td>F</td>\n",
       "      <td>сотрудник</td>\n",
       "      <td>0</td>\n",
       "      <td>112080</td>\n",
       "      <td>приобретение автомобиля</td>\n",
       "      <td>11</td>\n",
       "      <td>[приобретение,  , автомобиль, \\n]</td>\n",
       "    </tr>\n",
       "    <tr>\n",
       "      <td>2</td>\n",
       "      <td>0</td>\n",
       "      <td>33.0</td>\n",
       "      <td>среднее</td>\n",
       "      <td>1</td>\n",
       "      <td>женат / замужем</td>\n",
       "      <td>0</td>\n",
       "      <td>M</td>\n",
       "      <td>сотрудник</td>\n",
       "      <td>0</td>\n",
       "      <td>145886</td>\n",
       "      <td>покупка жилья</td>\n",
       "      <td>15</td>\n",
       "      <td>[покупка,  , жилье, \\n]</td>\n",
       "    </tr>\n",
       "    <tr>\n",
       "      <td>3</td>\n",
       "      <td>3</td>\n",
       "      <td>32.0</td>\n",
       "      <td>среднее</td>\n",
       "      <td>1</td>\n",
       "      <td>женат / замужем</td>\n",
       "      <td>0</td>\n",
       "      <td>M</td>\n",
       "      <td>сотрудник</td>\n",
       "      <td>0</td>\n",
       "      <td>267628</td>\n",
       "      <td>дополнительное образование</td>\n",
       "      <td>11</td>\n",
       "      <td>[дополнительный,  , образование, \\n]</td>\n",
       "    </tr>\n",
       "    <tr>\n",
       "      <td>4</td>\n",
       "      <td>0</td>\n",
       "      <td>53.0</td>\n",
       "      <td>среднее</td>\n",
       "      <td>1</td>\n",
       "      <td>гражданский брак</td>\n",
       "      <td>1</td>\n",
       "      <td>F</td>\n",
       "      <td>пенсионер</td>\n",
       "      <td>0</td>\n",
       "      <td>158616</td>\n",
       "      <td>сыграть свадьбу</td>\n",
       "      <td>38</td>\n",
       "      <td>[сыграть,  , свадьба, \\n]</td>\n",
       "    </tr>\n",
       "    <tr>\n",
       "      <td>...</td>\n",
       "      <td>...</td>\n",
       "      <td>...</td>\n",
       "      <td>...</td>\n",
       "      <td>...</td>\n",
       "      <td>...</td>\n",
       "      <td>...</td>\n",
       "      <td>...</td>\n",
       "      <td>...</td>\n",
       "      <td>...</td>\n",
       "      <td>...</td>\n",
       "      <td>...</td>\n",
       "      <td>...</td>\n",
       "      <td>...</td>\n",
       "    </tr>\n",
       "    <tr>\n",
       "      <td>21520</td>\n",
       "      <td>1</td>\n",
       "      <td>43.0</td>\n",
       "      <td>среднее</td>\n",
       "      <td>1</td>\n",
       "      <td>гражданский брак</td>\n",
       "      <td>1</td>\n",
       "      <td>F</td>\n",
       "      <td>компаньон</td>\n",
       "      <td>0</td>\n",
       "      <td>224791</td>\n",
       "      <td>операции с жильем</td>\n",
       "      <td>12</td>\n",
       "      <td>[операция,  , с,  , жилье, \\n]</td>\n",
       "    </tr>\n",
       "    <tr>\n",
       "      <td>21521</td>\n",
       "      <td>0</td>\n",
       "      <td>67.0</td>\n",
       "      <td>среднее</td>\n",
       "      <td>1</td>\n",
       "      <td>женат / замужем</td>\n",
       "      <td>0</td>\n",
       "      <td>F</td>\n",
       "      <td>пенсионер</td>\n",
       "      <td>0</td>\n",
       "      <td>155999</td>\n",
       "      <td>сделка с автомобилем</td>\n",
       "      <td>39</td>\n",
       "      <td>[сделка,  , с,  , автомобиль, \\n]</td>\n",
       "    </tr>\n",
       "    <tr>\n",
       "      <td>21522</td>\n",
       "      <td>1</td>\n",
       "      <td>38.0</td>\n",
       "      <td>среднее</td>\n",
       "      <td>1</td>\n",
       "      <td>гражданский брак</td>\n",
       "      <td>1</td>\n",
       "      <td>M</td>\n",
       "      <td>сотрудник</td>\n",
       "      <td>1</td>\n",
       "      <td>89672</td>\n",
       "      <td>недвижимость</td>\n",
       "      <td>5</td>\n",
       "      <td>[недвижимость, \\n]</td>\n",
       "    </tr>\n",
       "    <tr>\n",
       "      <td>21523</td>\n",
       "      <td>3</td>\n",
       "      <td>38.0</td>\n",
       "      <td>среднее</td>\n",
       "      <td>1</td>\n",
       "      <td>женат / замужем</td>\n",
       "      <td>0</td>\n",
       "      <td>M</td>\n",
       "      <td>сотрудник</td>\n",
       "      <td>1</td>\n",
       "      <td>244093</td>\n",
       "      <td>на покупку своего автомобиля</td>\n",
       "      <td>8</td>\n",
       "      <td>[на,  , покупка,  , свой,  , автомобиль, \\n]</td>\n",
       "    </tr>\n",
       "    <tr>\n",
       "      <td>21524</td>\n",
       "      <td>2</td>\n",
       "      <td>40.0</td>\n",
       "      <td>среднее</td>\n",
       "      <td>1</td>\n",
       "      <td>женат / замужем</td>\n",
       "      <td>0</td>\n",
       "      <td>F</td>\n",
       "      <td>сотрудник</td>\n",
       "      <td>0</td>\n",
       "      <td>82047</td>\n",
       "      <td>на покупку автомобиля</td>\n",
       "      <td>5</td>\n",
       "      <td>[на,  , покупка,  , автомобиль, \\n]</td>\n",
       "    </tr>\n",
       "  </tbody>\n",
       "</table>\n",
       "<p>21453 rows × 13 columns</p>\n",
       "</div>"
      ],
      "text/plain": [
       "       children  dob_years education  education_id     family_status  \\\n",
       "0             1       42.0    высшее             0   женат / замужем   \n",
       "1             1       36.0   среднее             1   женат / замужем   \n",
       "2             0       33.0   среднее             1   женат / замужем   \n",
       "3             3       32.0   среднее             1   женат / замужем   \n",
       "4             0       53.0   среднее             1  гражданский брак   \n",
       "...         ...        ...       ...           ...               ...   \n",
       "21520         1       43.0   среднее             1  гражданский брак   \n",
       "21521         0       67.0   среднее             1   женат / замужем   \n",
       "21522         1       38.0   среднее             1  гражданский брак   \n",
       "21523         3       38.0   среднее             1   женат / замужем   \n",
       "21524         2       40.0   среднее             1   женат / замужем   \n",
       "\n",
       "       family_status_id gender income_type  debt  total_income  \\\n",
       "0                     0      F   сотрудник     0        253875   \n",
       "1                     0      F   сотрудник     0        112080   \n",
       "2                     0      M   сотрудник     0        145886   \n",
       "3                     0      M   сотрудник     0        267628   \n",
       "4                     1      F   пенсионер     0        158616   \n",
       "...                 ...    ...         ...   ...           ...   \n",
       "21520                 1      F   компаньон     0        224791   \n",
       "21521                 0      F   пенсионер     0        155999   \n",
       "21522                 1      M   сотрудник     1         89672   \n",
       "21523                 0      M   сотрудник     1        244093   \n",
       "21524                 0      F   сотрудник     0         82047   \n",
       "\n",
       "                            purpose  years_employed  \\\n",
       "0                     покупка жилья              23   \n",
       "1           приобретение автомобиля              11   \n",
       "2                     покупка жилья              15   \n",
       "3        дополнительное образование              11   \n",
       "4                   сыграть свадьбу              38   \n",
       "...                             ...             ...   \n",
       "21520             операции с жильем              12   \n",
       "21521          сделка с автомобилем              39   \n",
       "21522                  недвижимость               5   \n",
       "21523  на покупку своего автомобиля               8   \n",
       "21524         на покупку автомобиля               5   \n",
       "\n",
       "                                     purpose_lemmas  \n",
       "0                           [покупка,  , жилье, \\n]  \n",
       "1                 [приобретение,  , автомобиль, \\n]  \n",
       "2                           [покупка,  , жилье, \\n]  \n",
       "3              [дополнительный,  , образование, \\n]  \n",
       "4                         [сыграть,  , свадьба, \\n]  \n",
       "...                                             ...  \n",
       "21520                [операция,  , с,  , жилье, \\n]  \n",
       "21521             [сделка,  , с,  , автомобиль, \\n]  \n",
       "21522                            [недвижимость, \\n]  \n",
       "21523  [на,  , покупка,  , свой,  , автомобиль, \\n]  \n",
       "21524           [на,  , покупка,  , автомобиль, \\n]  \n",
       "\n",
       "[21453 rows x 13 columns]"
      ]
     },
     "execution_count": 39,
     "metadata": {},
     "output_type": "execute_result"
    }
   ],
   "source": [
    "#лемматизируем 'purpose' и запишем его в новый столбец 'purpose_lemmas'\n",
    "df['purpose_lemmas'] = df['purpose'].apply(lambda x: m.lemmatize(x))\n",
    "#посмотрим на датасет\n",
    "df.head()"
   ]
  },
  {
   "cell_type": "markdown",
   "metadata": {},
   "source": [
    "После визуального анализа стоит подробнее изучить встречаемость слов, для этого произведем выделение ключевых слов с помощью лемматизации и посчитаем их частотность."
   ]
  },
  {
   "cell_type": "code",
   "execution_count": 40,
   "metadata": {},
   "outputs": [
    {
     "name": "stdout",
     "output_type": "stream",
     "text": [
      "Counter({' ': 55020, 'недвижимость': 6351, 'покупка': 5897, 'жилье': 4460, 'автомобиль': 4306, 'образование': 4013, 'с': 2918, 'операция': 2604, 'свадьба': 2323, 'свой': 2230, 'на': 2221, 'строительство': 1878, 'высокий': 1374, 'получение': 1314, 'коммерческий': 1311, 'для': 1289, 'жилой': 1230, 'сделка': 941, 'дополнительный': 906, 'заниматься': 904, 'подержать': 853, 'проведение': 767, 'сыграть': 765, 'сдача': 651, 'семья': 638, 'собственный': 635, 'со': 627, 'ремонт': 607, 'приобретение': 461, 'профильный': 436, 'подержанный': 111, '\\n': 1})\n"
     ]
    }
   ],
   "source": [
    "#переведем колонку в список и превратим его в строку\n",
    "keywords = ' '.join(df['purpose'].to_list())\n",
    "#применим лемматизацию к полученным ключевым словам\n",
    "lemmas = m.lemmatize(keywords)\n",
    "#посчитаем частотность ключевых слов\n",
    "print(Counter(lemmas))"
   ]
  },
  {
   "cell_type": "markdown",
   "metadata": {},
   "source": [
    "Изучив данные в новом столбце *purpose_lemmas* и частотности ключевых слов, выделены ключевые категории целей кредита. Логика разбивки на категории: по словам *свадьба*, *образование* и *автомобиль* категории строятся в прямой зависимости, по *недвижимость* и *жилье* необходимо выделить единую категорию."
   ]
  },
  {
   "cell_type": "code",
   "execution_count": 41,
   "metadata": {},
   "outputs": [
    {
     "data": {
      "text/html": [
       "<div>\n",
       "<style scoped>\n",
       "    .dataframe tbody tr th:only-of-type {\n",
       "        vertical-align: middle;\n",
       "    }\n",
       "\n",
       "    .dataframe tbody tr th {\n",
       "        vertical-align: top;\n",
       "    }\n",
       "\n",
       "    .dataframe thead th {\n",
       "        text-align: right;\n",
       "    }\n",
       "</style>\n",
       "<table border=\"1\" class=\"dataframe\">\n",
       "  <thead>\n",
       "    <tr style=\"text-align: right;\">\n",
       "      <th></th>\n",
       "      <th>children</th>\n",
       "      <th>dob_years</th>\n",
       "      <th>education</th>\n",
       "      <th>education_id</th>\n",
       "      <th>family_status</th>\n",
       "      <th>family_status_id</th>\n",
       "      <th>gender</th>\n",
       "      <th>income_type</th>\n",
       "      <th>debt</th>\n",
       "      <th>total_income</th>\n",
       "      <th>purpose</th>\n",
       "      <th>years_employed</th>\n",
       "      <th>purpose_lemmas</th>\n",
       "      <th>purpose_type</th>\n",
       "    </tr>\n",
       "  </thead>\n",
       "  <tbody>\n",
       "    <tr>\n",
       "      <td>0</td>\n",
       "      <td>1</td>\n",
       "      <td>42.0</td>\n",
       "      <td>высшее</td>\n",
       "      <td>0</td>\n",
       "      <td>женат / замужем</td>\n",
       "      <td>0</td>\n",
       "      <td>F</td>\n",
       "      <td>сотрудник</td>\n",
       "      <td>0</td>\n",
       "      <td>253875</td>\n",
       "      <td>покупка жилья</td>\n",
       "      <td>23</td>\n",
       "      <td>[покупка,  , жилье, \\n]</td>\n",
       "      <td>операции с недвижимостью</td>\n",
       "    </tr>\n",
       "    <tr>\n",
       "      <td>1</td>\n",
       "      <td>1</td>\n",
       "      <td>36.0</td>\n",
       "      <td>среднее</td>\n",
       "      <td>1</td>\n",
       "      <td>женат / замужем</td>\n",
       "      <td>0</td>\n",
       "      <td>F</td>\n",
       "      <td>сотрудник</td>\n",
       "      <td>0</td>\n",
       "      <td>112080</td>\n",
       "      <td>приобретение автомобиля</td>\n",
       "      <td>11</td>\n",
       "      <td>[приобретение,  , автомобиль, \\n]</td>\n",
       "      <td>приобретение автомобиля</td>\n",
       "    </tr>\n",
       "    <tr>\n",
       "      <td>2</td>\n",
       "      <td>0</td>\n",
       "      <td>33.0</td>\n",
       "      <td>среднее</td>\n",
       "      <td>1</td>\n",
       "      <td>женат / замужем</td>\n",
       "      <td>0</td>\n",
       "      <td>M</td>\n",
       "      <td>сотрудник</td>\n",
       "      <td>0</td>\n",
       "      <td>145886</td>\n",
       "      <td>покупка жилья</td>\n",
       "      <td>15</td>\n",
       "      <td>[покупка,  , жилье, \\n]</td>\n",
       "      <td>операции с недвижимостью</td>\n",
       "    </tr>\n",
       "    <tr>\n",
       "      <td>3</td>\n",
       "      <td>3</td>\n",
       "      <td>32.0</td>\n",
       "      <td>среднее</td>\n",
       "      <td>1</td>\n",
       "      <td>женат / замужем</td>\n",
       "      <td>0</td>\n",
       "      <td>M</td>\n",
       "      <td>сотрудник</td>\n",
       "      <td>0</td>\n",
       "      <td>267628</td>\n",
       "      <td>дополнительное образование</td>\n",
       "      <td>11</td>\n",
       "      <td>[дополнительный,  , образование, \\n]</td>\n",
       "      <td>получение образования</td>\n",
       "    </tr>\n",
       "    <tr>\n",
       "      <td>4</td>\n",
       "      <td>0</td>\n",
       "      <td>53.0</td>\n",
       "      <td>среднее</td>\n",
       "      <td>1</td>\n",
       "      <td>гражданский брак</td>\n",
       "      <td>1</td>\n",
       "      <td>F</td>\n",
       "      <td>пенсионер</td>\n",
       "      <td>0</td>\n",
       "      <td>158616</td>\n",
       "      <td>сыграть свадьбу</td>\n",
       "      <td>38</td>\n",
       "      <td>[сыграть,  , свадьба, \\n]</td>\n",
       "      <td>проведение свадьбы</td>\n",
       "    </tr>\n",
       "    <tr>\n",
       "      <td>...</td>\n",
       "      <td>...</td>\n",
       "      <td>...</td>\n",
       "      <td>...</td>\n",
       "      <td>...</td>\n",
       "      <td>...</td>\n",
       "      <td>...</td>\n",
       "      <td>...</td>\n",
       "      <td>...</td>\n",
       "      <td>...</td>\n",
       "      <td>...</td>\n",
       "      <td>...</td>\n",
       "      <td>...</td>\n",
       "      <td>...</td>\n",
       "      <td>...</td>\n",
       "    </tr>\n",
       "    <tr>\n",
       "      <td>21520</td>\n",
       "      <td>1</td>\n",
       "      <td>43.0</td>\n",
       "      <td>среднее</td>\n",
       "      <td>1</td>\n",
       "      <td>гражданский брак</td>\n",
       "      <td>1</td>\n",
       "      <td>F</td>\n",
       "      <td>компаньон</td>\n",
       "      <td>0</td>\n",
       "      <td>224791</td>\n",
       "      <td>операции с жильем</td>\n",
       "      <td>12</td>\n",
       "      <td>[операция,  , с,  , жилье, \\n]</td>\n",
       "      <td>операции с недвижимостью</td>\n",
       "    </tr>\n",
       "    <tr>\n",
       "      <td>21521</td>\n",
       "      <td>0</td>\n",
       "      <td>67.0</td>\n",
       "      <td>среднее</td>\n",
       "      <td>1</td>\n",
       "      <td>женат / замужем</td>\n",
       "      <td>0</td>\n",
       "      <td>F</td>\n",
       "      <td>пенсионер</td>\n",
       "      <td>0</td>\n",
       "      <td>155999</td>\n",
       "      <td>сделка с автомобилем</td>\n",
       "      <td>39</td>\n",
       "      <td>[сделка,  , с,  , автомобиль, \\n]</td>\n",
       "      <td>приобретение автомобиля</td>\n",
       "    </tr>\n",
       "    <tr>\n",
       "      <td>21522</td>\n",
       "      <td>1</td>\n",
       "      <td>38.0</td>\n",
       "      <td>среднее</td>\n",
       "      <td>1</td>\n",
       "      <td>гражданский брак</td>\n",
       "      <td>1</td>\n",
       "      <td>M</td>\n",
       "      <td>сотрудник</td>\n",
       "      <td>1</td>\n",
       "      <td>89672</td>\n",
       "      <td>недвижимость</td>\n",
       "      <td>5</td>\n",
       "      <td>[недвижимость, \\n]</td>\n",
       "      <td>операции с недвижимостью</td>\n",
       "    </tr>\n",
       "    <tr>\n",
       "      <td>21523</td>\n",
       "      <td>3</td>\n",
       "      <td>38.0</td>\n",
       "      <td>среднее</td>\n",
       "      <td>1</td>\n",
       "      <td>женат / замужем</td>\n",
       "      <td>0</td>\n",
       "      <td>M</td>\n",
       "      <td>сотрудник</td>\n",
       "      <td>1</td>\n",
       "      <td>244093</td>\n",
       "      <td>на покупку своего автомобиля</td>\n",
       "      <td>8</td>\n",
       "      <td>[на,  , покупка,  , свой,  , автомобиль, \\n]</td>\n",
       "      <td>приобретение автомобиля</td>\n",
       "    </tr>\n",
       "    <tr>\n",
       "      <td>21524</td>\n",
       "      <td>2</td>\n",
       "      <td>40.0</td>\n",
       "      <td>среднее</td>\n",
       "      <td>1</td>\n",
       "      <td>женат / замужем</td>\n",
       "      <td>0</td>\n",
       "      <td>F</td>\n",
       "      <td>сотрудник</td>\n",
       "      <td>0</td>\n",
       "      <td>82047</td>\n",
       "      <td>на покупку автомобиля</td>\n",
       "      <td>5</td>\n",
       "      <td>[на,  , покупка,  , автомобиль, \\n]</td>\n",
       "      <td>приобретение автомобиля</td>\n",
       "    </tr>\n",
       "  </tbody>\n",
       "</table>\n",
       "<p>21453 rows × 14 columns</p>\n",
       "</div>"
      ],
      "text/plain": [
       "       children  dob_years education  education_id     family_status  \\\n",
       "0             1       42.0    высшее             0   женат / замужем   \n",
       "1             1       36.0   среднее             1   женат / замужем   \n",
       "2             0       33.0   среднее             1   женат / замужем   \n",
       "3             3       32.0   среднее             1   женат / замужем   \n",
       "4             0       53.0   среднее             1  гражданский брак   \n",
       "...         ...        ...       ...           ...               ...   \n",
       "21520         1       43.0   среднее             1  гражданский брак   \n",
       "21521         0       67.0   среднее             1   женат / замужем   \n",
       "21522         1       38.0   среднее             1  гражданский брак   \n",
       "21523         3       38.0   среднее             1   женат / замужем   \n",
       "21524         2       40.0   среднее             1   женат / замужем   \n",
       "\n",
       "       family_status_id gender income_type  debt  total_income  \\\n",
       "0                     0      F   сотрудник     0        253875   \n",
       "1                     0      F   сотрудник     0        112080   \n",
       "2                     0      M   сотрудник     0        145886   \n",
       "3                     0      M   сотрудник     0        267628   \n",
       "4                     1      F   пенсионер     0        158616   \n",
       "...                 ...    ...         ...   ...           ...   \n",
       "21520                 1      F   компаньон     0        224791   \n",
       "21521                 0      F   пенсионер     0        155999   \n",
       "21522                 1      M   сотрудник     1         89672   \n",
       "21523                 0      M   сотрудник     1        244093   \n",
       "21524                 0      F   сотрудник     0         82047   \n",
       "\n",
       "                            purpose  years_employed  \\\n",
       "0                     покупка жилья              23   \n",
       "1           приобретение автомобиля              11   \n",
       "2                     покупка жилья              15   \n",
       "3        дополнительное образование              11   \n",
       "4                   сыграть свадьбу              38   \n",
       "...                             ...             ...   \n",
       "21520             операции с жильем              12   \n",
       "21521          сделка с автомобилем              39   \n",
       "21522                  недвижимость               5   \n",
       "21523  на покупку своего автомобиля               8   \n",
       "21524         на покупку автомобиля               5   \n",
       "\n",
       "                                     purpose_lemmas              purpose_type  \n",
       "0                           [покупка,  , жилье, \\n]  операции с недвижимостью  \n",
       "1                 [приобретение,  , автомобиль, \\n]   приобретение автомобиля  \n",
       "2                           [покупка,  , жилье, \\n]  операции с недвижимостью  \n",
       "3              [дополнительный,  , образование, \\n]     получение образования  \n",
       "4                         [сыграть,  , свадьба, \\n]        проведение свадьбы  \n",
       "...                                             ...                       ...  \n",
       "21520                [операция,  , с,  , жилье, \\n]  операции с недвижимостью  \n",
       "21521             [сделка,  , с,  , автомобиль, \\n]   приобретение автомобиля  \n",
       "21522                            [недвижимость, \\n]  операции с недвижимостью  \n",
       "21523  [на,  , покупка,  , свой,  , автомобиль, \\n]   приобретение автомобиля  \n",
       "21524           [на,  , покупка,  , автомобиль, \\n]   приобретение автомобиля  \n",
       "\n",
       "[21453 rows x 14 columns]"
      ]
     },
     "execution_count": 41,
     "metadata": {},
     "output_type": "execute_result"
    }
   ],
   "source": [
    "#создадим функцию, которая в зависимости от ключевого слова будет присваивать категории. \n",
    "def generate_purpose_type(data):\n",
    "    if 'свадьба' in data:\n",
    "        return 'проведение свадьбы'   \n",
    "    elif 'недвижимость' in data:\n",
    "        return 'операции с недвижимостью'\n",
    "    elif 'жилье' in data:\n",
    "        return 'операции с недвижимостью'\n",
    "    elif 'образование' in data:\n",
    "        return 'получение образования'\n",
    "    elif 'автомобиль' in data:\n",
    "        return 'приобретение автомобиля'\n",
    "    else:\n",
    "        return 'неизвестная категория'\n",
    "#применим функцию generate_purpose_type и результаты запишем в новый столбец 'purpose_type'\n",
    "df['purpose_type'] = df['purpose_lemmas'].apply(lambda x: generate_purpose_type(x))\n",
    "#посмотрим на датасет\n",
    "df.head()"
   ]
  },
  {
   "cell_type": "markdown",
   "metadata": {},
   "source": [
    "Проверим столбец *purpose_type* на количество пропусков или пустых строк:\n"
   ]
  },
  {
   "cell_type": "code",
   "execution_count": 42,
   "metadata": {},
   "outputs": [
    {
     "name": "stdout",
     "output_type": "stream",
     "text": [
      "Empty DataFrame\n",
      "Columns: [children, dob_years, education, education_id, family_status, family_status_id, gender, income_type, debt, total_income, purpose, years_employed, purpose_lemmas, purpose_type]\n",
      "Index: []\n"
     ]
    }
   ],
   "source": [
    "#проверим данные на значения 'None'\n",
    "print(df.loc[df['purpose_type'] == 'None'])"
   ]
  },
  {
   "cell_type": "code",
   "execution_count": 43,
   "metadata": {},
   "outputs": [
    {
     "data": {
      "text/plain": [
       "0"
      ]
     },
     "execution_count": 43,
     "metadata": {},
     "output_type": "execute_result"
    }
   ],
   "source": [
    "#проверим данные на пропуски\n",
    "df['purpose_type'].isna().sum()"
   ]
  },
  {
   "cell_type": "markdown",
   "metadata": {},
   "source": [
    "Всем значениям цели присвоены категории. Пропуски и пустые строки отсутвуют.\n",
    "\n",
    "Соответсвенно для дальнейшего анализа потребность в столбцах *purpose* и *purpose_lemmas* отсутвует. Можем их удалить:"
   ]
  },
  {
   "cell_type": "code",
   "execution_count": 44,
   "metadata": {},
   "outputs": [
    {
     "name": "stdout",
     "output_type": "stream",
     "text": [
      "   children  dob_years education  education_id     family_status  \\\n",
      "0         1       42.0    высшее             0   женат / замужем   \n",
      "1         1       36.0   среднее             1   женат / замужем   \n",
      "2         0       33.0   среднее             1   женат / замужем   \n",
      "3         3       32.0   среднее             1   женат / замужем   \n",
      "4         0       53.0   среднее             1  гражданский брак   \n",
      "\n",
      "   family_status_id gender income_type  debt  total_income  years_employed  \\\n",
      "0                 0      F   сотрудник     0        253875              23   \n",
      "1                 0      F   сотрудник     0        112080              11   \n",
      "2                 0      M   сотрудник     0        145886              15   \n",
      "3                 0      M   сотрудник     0        267628              11   \n",
      "4                 1      F   пенсионер     0        158616              38   \n",
      "\n",
      "               purpose_type  \n",
      "0  операции с недвижимостью  \n",
      "1   приобретение автомобиля  \n",
      "2  операции с недвижимостью  \n",
      "3     получение образования  \n",
      "4        проведение свадьбы  \n"
     ]
    }
   ],
   "source": [
    "#удалим столбец 'purpose' и 'purpose_lemmas'\n",
    "df = df.drop(['purpose', 'purpose_lemmas'], 1)\n",
    "#выведем датасет\n",
    "display(df.head())"
   ]
  },
  {
   "cell_type": "markdown",
   "metadata": {},
   "source": [
    "Проведем подсчет количества значений по категориям цели:"
   ]
  },
  {
   "cell_type": "code",
   "execution_count": 45,
   "metadata": {},
   "outputs": [
    {
     "data": {
      "text/plain": [
       "операции с недвижимостью    10811\n",
       "приобретение автомобиля      4306\n",
       "получение образования        4013\n",
       "проведение свадьбы           2323\n",
       "Name: purpose_type, dtype: int64"
      ]
     },
     "execution_count": 45,
     "metadata": {},
     "output_type": "execute_result"
    }
   ],
   "source": [
    "#выведем количество значений относительно категорий\n",
    "df['purpose_type'].value_counts()"
   ]
  },
  {
   "cell_type": "markdown",
   "metadata": {},
   "source": [
    "Отчетливо видно, что модой в данной выборке являются операции с недвижимостью. Они соствляют более половины всех целей получения кредита."
   ]
  },
  {
   "cell_type": "markdown",
   "metadata": {},
   "source": [
    "### Вывод"
   ]
  },
  {
   "cell_type": "markdown",
   "metadata": {},
   "source": [
    "В результате применения лемматизации к столбцу *purpose* удалось выявить ключевые слова, определить логику разделения на категории в зависимости от ключевых слов и найти точные количества по каждой отдельной категории."
   ]
  },
  {
   "cell_type": "markdown",
   "metadata": {},
   "source": [
    "### Категоризация данных"
   ]
  },
  {
   "cell_type": "markdown",
   "metadata": {},
   "source": [
    "На предыдущих этапа мы коснулись категоризации данных, а именно, разбили на категории цели предоставления кредита. Для дальнейшего анализа необходимо произвести категоризацию данных по столбцам *children* ('нет детей', 'есть дети', 'многодетные') и *dob_years* ('молодые', 'взрослые', 'пожилые'), а также разделим доход в столбце *total_income* на пять равных категорий ('стандартный', 'ниже среднего', 'средний', 'выше среднего', 'высокий')."
   ]
  },
  {
   "cell_type": "markdown",
   "metadata": {},
   "source": [
    "Начнем категоризацию по количеству детей. "
   ]
  },
  {
   "cell_type": "code",
   "execution_count": 46,
   "metadata": {},
   "outputs": [
    {
     "data": {
      "text/html": [
       "<div>\n",
       "<style scoped>\n",
       "    .dataframe tbody tr th:only-of-type {\n",
       "        vertical-align: middle;\n",
       "    }\n",
       "\n",
       "    .dataframe tbody tr th {\n",
       "        vertical-align: top;\n",
       "    }\n",
       "\n",
       "    .dataframe thead th {\n",
       "        text-align: right;\n",
       "    }\n",
       "</style>\n",
       "<table border=\"1\" class=\"dataframe\">\n",
       "  <thead>\n",
       "    <tr style=\"text-align: right;\">\n",
       "      <th></th>\n",
       "      <th>children</th>\n",
       "      <th>dob_years</th>\n",
       "      <th>education</th>\n",
       "      <th>education_id</th>\n",
       "      <th>family_status</th>\n",
       "      <th>family_status_id</th>\n",
       "      <th>gender</th>\n",
       "      <th>income_type</th>\n",
       "      <th>debt</th>\n",
       "      <th>total_income</th>\n",
       "      <th>years_employed</th>\n",
       "      <th>purpose_type</th>\n",
       "      <th>children_group</th>\n",
       "    </tr>\n",
       "  </thead>\n",
       "  <tbody>\n",
       "    <tr>\n",
       "      <td>0</td>\n",
       "      <td>1</td>\n",
       "      <td>42.0</td>\n",
       "      <td>высшее</td>\n",
       "      <td>0</td>\n",
       "      <td>женат / замужем</td>\n",
       "      <td>0</td>\n",
       "      <td>F</td>\n",
       "      <td>сотрудник</td>\n",
       "      <td>0</td>\n",
       "      <td>253875</td>\n",
       "      <td>23</td>\n",
       "      <td>операции с недвижимостью</td>\n",
       "      <td>есть дети</td>\n",
       "    </tr>\n",
       "    <tr>\n",
       "      <td>1</td>\n",
       "      <td>1</td>\n",
       "      <td>36.0</td>\n",
       "      <td>среднее</td>\n",
       "      <td>1</td>\n",
       "      <td>женат / замужем</td>\n",
       "      <td>0</td>\n",
       "      <td>F</td>\n",
       "      <td>сотрудник</td>\n",
       "      <td>0</td>\n",
       "      <td>112080</td>\n",
       "      <td>11</td>\n",
       "      <td>приобретение автомобиля</td>\n",
       "      <td>есть дети</td>\n",
       "    </tr>\n",
       "    <tr>\n",
       "      <td>2</td>\n",
       "      <td>0</td>\n",
       "      <td>33.0</td>\n",
       "      <td>среднее</td>\n",
       "      <td>1</td>\n",
       "      <td>женат / замужем</td>\n",
       "      <td>0</td>\n",
       "      <td>M</td>\n",
       "      <td>сотрудник</td>\n",
       "      <td>0</td>\n",
       "      <td>145886</td>\n",
       "      <td>15</td>\n",
       "      <td>операции с недвижимостью</td>\n",
       "      <td>нет детей</td>\n",
       "    </tr>\n",
       "    <tr>\n",
       "      <td>3</td>\n",
       "      <td>3</td>\n",
       "      <td>32.0</td>\n",
       "      <td>среднее</td>\n",
       "      <td>1</td>\n",
       "      <td>женат / замужем</td>\n",
       "      <td>0</td>\n",
       "      <td>M</td>\n",
       "      <td>сотрудник</td>\n",
       "      <td>0</td>\n",
       "      <td>267628</td>\n",
       "      <td>11</td>\n",
       "      <td>получение образования</td>\n",
       "      <td>многодетные</td>\n",
       "    </tr>\n",
       "    <tr>\n",
       "      <td>4</td>\n",
       "      <td>0</td>\n",
       "      <td>53.0</td>\n",
       "      <td>среднее</td>\n",
       "      <td>1</td>\n",
       "      <td>гражданский брак</td>\n",
       "      <td>1</td>\n",
       "      <td>F</td>\n",
       "      <td>пенсионер</td>\n",
       "      <td>0</td>\n",
       "      <td>158616</td>\n",
       "      <td>38</td>\n",
       "      <td>проведение свадьбы</td>\n",
       "      <td>нет детей</td>\n",
       "    </tr>\n",
       "  </tbody>\n",
       "</table>\n",
       "</div>"
      ],
      "text/plain": [
       "   children  dob_years education  education_id     family_status  \\\n",
       "0         1       42.0    высшее             0   женат / замужем   \n",
       "1         1       36.0   среднее             1   женат / замужем   \n",
       "2         0       33.0   среднее             1   женат / замужем   \n",
       "3         3       32.0   среднее             1   женат / замужем   \n",
       "4         0       53.0   среднее             1  гражданский брак   \n",
       "\n",
       "   family_status_id gender income_type  debt  total_income  years_employed  \\\n",
       "0                 0      F   сотрудник     0        253875              23   \n",
       "1                 0      F   сотрудник     0        112080              11   \n",
       "2                 0      M   сотрудник     0        145886              15   \n",
       "3                 0      M   сотрудник     0        267628              11   \n",
       "4                 1      F   пенсионер     0        158616              38   \n",
       "\n",
       "               purpose_type children_group  \n",
       "0  операции с недвижимостью      есть дети  \n",
       "1   приобретение автомобиля      есть дети  \n",
       "2  операции с недвижимостью      нет детей  \n",
       "3     получение образования    многодетные  \n",
       "4        проведение свадьбы      нет детей  "
      ]
     },
     "execution_count": 46,
     "metadata": {},
     "output_type": "execute_result"
    }
   ],
   "source": [
    "#создадим функцию, которая будет присваивать категории в зависимости от количества детей:\n",
    "def children_group(children):\n",
    "    if children == 0:\n",
    "        return 'нет детей'\n",
    "    elif children < 3:\n",
    "        return 'есть дети'\n",
    "    return 'многодетные' \n",
    "#применим функцию к значениям столбца 'children' и созраним в новом столбце 'children_group'\n",
    "df['children_group'] = df['children'].apply(children_group)\n",
    "#посмотрим на датасет\n",
    "df.head()"
   ]
  },
  {
   "cell_type": "markdown",
   "metadata": {},
   "source": [
    "Значения присвоились успешно. Посчитаем количество значений по категориям."
   ]
  },
  {
   "cell_type": "code",
   "execution_count": 47,
   "metadata": {},
   "outputs": [
    {
     "data": {
      "text/plain": [
       "нет детей      14090\n",
       "есть дети       6983\n",
       "многодетные      380\n",
       "Name: children_group, dtype: int64"
      ]
     },
     "execution_count": 47,
     "metadata": {},
     "output_type": "execute_result"
    }
   ],
   "source": [
    "#посчитаем количество значений в зависимости от категорий \n",
    "df['children_group'].value_counts()"
   ]
  },
  {
   "cell_type": "markdown",
   "metadata": {},
   "source": [
    "Из данных видно, что почти две трети заемщиков не имеют детей.\n",
    "\n",
    "Далее проведем категоризацию по возрастным группам."
   ]
  },
  {
   "cell_type": "code",
   "execution_count": 48,
   "metadata": {},
   "outputs": [
    {
     "data": {
      "text/html": [
       "<div>\n",
       "<style scoped>\n",
       "    .dataframe tbody tr th:only-of-type {\n",
       "        vertical-align: middle;\n",
       "    }\n",
       "\n",
       "    .dataframe tbody tr th {\n",
       "        vertical-align: top;\n",
       "    }\n",
       "\n",
       "    .dataframe thead th {\n",
       "        text-align: right;\n",
       "    }\n",
       "</style>\n",
       "<table border=\"1\" class=\"dataframe\">\n",
       "  <thead>\n",
       "    <tr style=\"text-align: right;\">\n",
       "      <th></th>\n",
       "      <th>children</th>\n",
       "      <th>dob_years</th>\n",
       "      <th>education</th>\n",
       "      <th>education_id</th>\n",
       "      <th>family_status</th>\n",
       "      <th>family_status_id</th>\n",
       "      <th>gender</th>\n",
       "      <th>income_type</th>\n",
       "      <th>debt</th>\n",
       "      <th>total_income</th>\n",
       "      <th>years_employed</th>\n",
       "      <th>purpose_type</th>\n",
       "      <th>children_group</th>\n",
       "      <th>dob_years_group</th>\n",
       "    </tr>\n",
       "  </thead>\n",
       "  <tbody>\n",
       "    <tr>\n",
       "      <td>0</td>\n",
       "      <td>1</td>\n",
       "      <td>42.0</td>\n",
       "      <td>высшее</td>\n",
       "      <td>0</td>\n",
       "      <td>женат / замужем</td>\n",
       "      <td>0</td>\n",
       "      <td>F</td>\n",
       "      <td>сотрудник</td>\n",
       "      <td>0</td>\n",
       "      <td>253875</td>\n",
       "      <td>23</td>\n",
       "      <td>операции с недвижимостью</td>\n",
       "      <td>есть дети</td>\n",
       "      <td>взрослые</td>\n",
       "    </tr>\n",
       "    <tr>\n",
       "      <td>1</td>\n",
       "      <td>1</td>\n",
       "      <td>36.0</td>\n",
       "      <td>среднее</td>\n",
       "      <td>1</td>\n",
       "      <td>женат / замужем</td>\n",
       "      <td>0</td>\n",
       "      <td>F</td>\n",
       "      <td>сотрудник</td>\n",
       "      <td>0</td>\n",
       "      <td>112080</td>\n",
       "      <td>11</td>\n",
       "      <td>приобретение автомобиля</td>\n",
       "      <td>есть дети</td>\n",
       "      <td>взрослые</td>\n",
       "    </tr>\n",
       "    <tr>\n",
       "      <td>2</td>\n",
       "      <td>0</td>\n",
       "      <td>33.0</td>\n",
       "      <td>среднее</td>\n",
       "      <td>1</td>\n",
       "      <td>женат / замужем</td>\n",
       "      <td>0</td>\n",
       "      <td>M</td>\n",
       "      <td>сотрудник</td>\n",
       "      <td>0</td>\n",
       "      <td>145886</td>\n",
       "      <td>15</td>\n",
       "      <td>операции с недвижимостью</td>\n",
       "      <td>нет детей</td>\n",
       "      <td>молодые</td>\n",
       "    </tr>\n",
       "    <tr>\n",
       "      <td>3</td>\n",
       "      <td>3</td>\n",
       "      <td>32.0</td>\n",
       "      <td>среднее</td>\n",
       "      <td>1</td>\n",
       "      <td>женат / замужем</td>\n",
       "      <td>0</td>\n",
       "      <td>M</td>\n",
       "      <td>сотрудник</td>\n",
       "      <td>0</td>\n",
       "      <td>267628</td>\n",
       "      <td>11</td>\n",
       "      <td>получение образования</td>\n",
       "      <td>многодетные</td>\n",
       "      <td>молодые</td>\n",
       "    </tr>\n",
       "    <tr>\n",
       "      <td>4</td>\n",
       "      <td>0</td>\n",
       "      <td>53.0</td>\n",
       "      <td>среднее</td>\n",
       "      <td>1</td>\n",
       "      <td>гражданский брак</td>\n",
       "      <td>1</td>\n",
       "      <td>F</td>\n",
       "      <td>пенсионер</td>\n",
       "      <td>0</td>\n",
       "      <td>158616</td>\n",
       "      <td>38</td>\n",
       "      <td>проведение свадьбы</td>\n",
       "      <td>нет детей</td>\n",
       "      <td>взрослые</td>\n",
       "    </tr>\n",
       "  </tbody>\n",
       "</table>\n",
       "</div>"
      ],
      "text/plain": [
       "   children  dob_years education  education_id     family_status  \\\n",
       "0         1       42.0    высшее             0   женат / замужем   \n",
       "1         1       36.0   среднее             1   женат / замужем   \n",
       "2         0       33.0   среднее             1   женат / замужем   \n",
       "3         3       32.0   среднее             1   женат / замужем   \n",
       "4         0       53.0   среднее             1  гражданский брак   \n",
       "\n",
       "   family_status_id gender income_type  debt  total_income  years_employed  \\\n",
       "0                 0      F   сотрудник     0        253875              23   \n",
       "1                 0      F   сотрудник     0        112080              11   \n",
       "2                 0      M   сотрудник     0        145886              15   \n",
       "3                 0      M   сотрудник     0        267628              11   \n",
       "4                 1      F   пенсионер     0        158616              38   \n",
       "\n",
       "               purpose_type children_group dob_years_group  \n",
       "0  операции с недвижимостью      есть дети        взрослые  \n",
       "1   приобретение автомобиля      есть дети        взрослые  \n",
       "2  операции с недвижимостью      нет детей         молодые  \n",
       "3     получение образования    многодетные         молодые  \n",
       "4        проведение свадьбы      нет детей        взрослые  "
      ]
     },
     "execution_count": 48,
     "metadata": {},
     "output_type": "execute_result"
    }
   ],
   "source": [
    "#создадим функцию, которая будет присваивать категории в зависимости возраста заемщика:\n",
    "def dob_years_group(dob_years):\n",
    "    if dob_years < 35:\n",
    "        return 'молодые'\n",
    "    elif dob_years <= 60:\n",
    "        return 'взрослые'\n",
    "    return 'пожилые' \n",
    "#применим функцию к значениям столбца 'dob_years' и созраним в новом столбце 'children_group'\n",
    "df['dob_years_group'] = df['dob_years'].apply(dob_years_group)\n",
    "#посмотрим на датасет\n",
    "df.head()"
   ]
  },
  {
   "cell_type": "markdown",
   "metadata": {},
   "source": [
    "Значения присвоились успешно. Посчитаем количество значений по категориям."
   ]
  },
  {
   "cell_type": "code",
   "execution_count": 49,
   "metadata": {},
   "outputs": [
    {
     "data": {
      "text/plain": [
       "взрослые    13360\n",
       "молодые      5967\n",
       "пожилые      2126\n",
       "Name: dob_years_group, dtype: int64"
      ]
     },
     "execution_count": 49,
     "metadata": {},
     "output_type": "execute_result"
    }
   ],
   "source": [
    "#посчитаем количество значений в зависимости от категорий \n",
    "df['dob_years_group'].value_counts()"
   ]
  },
  {
   "cell_type": "markdown",
   "metadata": {},
   "source": [
    "По результатам анализа видно, что большая часть заемщиков это лица в возрасте от 35 до 60 лет."
   ]
  },
  {
   "cell_type": "markdown",
   "metadata": {},
   "source": [
    "Категоризируем доход на пять равных категорий ('стандартный', 'ниже среднего', 'средний', 'выше среднего', 'высокий')."
   ]
  },
  {
   "cell_type": "markdown",
   "metadata": {},
   "source": [
    "Применим метод cut():"
   ]
  },
  {
   "cell_type": "code",
   "execution_count": 50,
   "metadata": {},
   "outputs": [
    {
     "data": {
      "text/html": [
       "<div>\n",
       "<style scoped>\n",
       "    .dataframe tbody tr th:only-of-type {\n",
       "        vertical-align: middle;\n",
       "    }\n",
       "\n",
       "    .dataframe tbody tr th {\n",
       "        vertical-align: top;\n",
       "    }\n",
       "\n",
       "    .dataframe thead th {\n",
       "        text-align: right;\n",
       "    }\n",
       "</style>\n",
       "<table border=\"1\" class=\"dataframe\">\n",
       "  <thead>\n",
       "    <tr style=\"text-align: right;\">\n",
       "      <th></th>\n",
       "      <th>children</th>\n",
       "      <th>dob_years</th>\n",
       "      <th>education</th>\n",
       "      <th>education_id</th>\n",
       "      <th>family_status</th>\n",
       "      <th>family_status_id</th>\n",
       "      <th>gender</th>\n",
       "      <th>income_type</th>\n",
       "      <th>debt</th>\n",
       "      <th>total_income</th>\n",
       "      <th>years_employed</th>\n",
       "      <th>purpose_type</th>\n",
       "      <th>children_group</th>\n",
       "      <th>dob_years_group</th>\n",
       "      <th>df_grouped_total_income</th>\n",
       "    </tr>\n",
       "  </thead>\n",
       "  <tbody>\n",
       "    <tr>\n",
       "      <td>0</td>\n",
       "      <td>1</td>\n",
       "      <td>42.0</td>\n",
       "      <td>высшее</td>\n",
       "      <td>0</td>\n",
       "      <td>женат / замужем</td>\n",
       "      <td>0</td>\n",
       "      <td>F</td>\n",
       "      <td>сотрудник</td>\n",
       "      <td>0</td>\n",
       "      <td>253875</td>\n",
       "      <td>23</td>\n",
       "      <td>операции с недвижимостью</td>\n",
       "      <td>есть дети</td>\n",
       "      <td>взрослые</td>\n",
       "      <td>стандартный</td>\n",
       "    </tr>\n",
       "    <tr>\n",
       "      <td>1</td>\n",
       "      <td>1</td>\n",
       "      <td>36.0</td>\n",
       "      <td>среднее</td>\n",
       "      <td>1</td>\n",
       "      <td>женат / замужем</td>\n",
       "      <td>0</td>\n",
       "      <td>F</td>\n",
       "      <td>сотрудник</td>\n",
       "      <td>0</td>\n",
       "      <td>112080</td>\n",
       "      <td>11</td>\n",
       "      <td>приобретение автомобиля</td>\n",
       "      <td>есть дети</td>\n",
       "      <td>взрослые</td>\n",
       "      <td>стандартный</td>\n",
       "    </tr>\n",
       "    <tr>\n",
       "      <td>2</td>\n",
       "      <td>0</td>\n",
       "      <td>33.0</td>\n",
       "      <td>среднее</td>\n",
       "      <td>1</td>\n",
       "      <td>женат / замужем</td>\n",
       "      <td>0</td>\n",
       "      <td>M</td>\n",
       "      <td>сотрудник</td>\n",
       "      <td>0</td>\n",
       "      <td>145886</td>\n",
       "      <td>15</td>\n",
       "      <td>операции с недвижимостью</td>\n",
       "      <td>нет детей</td>\n",
       "      <td>молодые</td>\n",
       "      <td>стандартный</td>\n",
       "    </tr>\n",
       "    <tr>\n",
       "      <td>3</td>\n",
       "      <td>3</td>\n",
       "      <td>32.0</td>\n",
       "      <td>среднее</td>\n",
       "      <td>1</td>\n",
       "      <td>женат / замужем</td>\n",
       "      <td>0</td>\n",
       "      <td>M</td>\n",
       "      <td>сотрудник</td>\n",
       "      <td>0</td>\n",
       "      <td>267628</td>\n",
       "      <td>11</td>\n",
       "      <td>получение образования</td>\n",
       "      <td>многодетные</td>\n",
       "      <td>молодые</td>\n",
       "      <td>стандартный</td>\n",
       "    </tr>\n",
       "    <tr>\n",
       "      <td>4</td>\n",
       "      <td>0</td>\n",
       "      <td>53.0</td>\n",
       "      <td>среднее</td>\n",
       "      <td>1</td>\n",
       "      <td>гражданский брак</td>\n",
       "      <td>1</td>\n",
       "      <td>F</td>\n",
       "      <td>пенсионер</td>\n",
       "      <td>0</td>\n",
       "      <td>158616</td>\n",
       "      <td>38</td>\n",
       "      <td>проведение свадьбы</td>\n",
       "      <td>нет детей</td>\n",
       "      <td>взрослые</td>\n",
       "      <td>стандартный</td>\n",
       "    </tr>\n",
       "  </tbody>\n",
       "</table>\n",
       "</div>"
      ],
      "text/plain": [
       "   children  dob_years education  education_id     family_status  \\\n",
       "0         1       42.0    высшее             0   женат / замужем   \n",
       "1         1       36.0   среднее             1   женат / замужем   \n",
       "2         0       33.0   среднее             1   женат / замужем   \n",
       "3         3       32.0   среднее             1   женат / замужем   \n",
       "4         0       53.0   среднее             1  гражданский брак   \n",
       "\n",
       "   family_status_id gender income_type  debt  total_income  years_employed  \\\n",
       "0                 0      F   сотрудник     0        253875              23   \n",
       "1                 0      F   сотрудник     0        112080              11   \n",
       "2                 0      M   сотрудник     0        145886              15   \n",
       "3                 0      M   сотрудник     0        267628              11   \n",
       "4                 1      F   пенсионер     0        158616              38   \n",
       "\n",
       "               purpose_type children_group dob_years_group  \\\n",
       "0  операции с недвижимостью      есть дети        взрослые   \n",
       "1   приобретение автомобиля      есть дети        взрослые   \n",
       "2  операции с недвижимостью      нет детей         молодые   \n",
       "3     получение образования    многодетные         молодые   \n",
       "4        проведение свадьбы      нет детей        взрослые   \n",
       "\n",
       "  df_grouped_total_income  \n",
       "0             стандартный  \n",
       "1             стандартный  \n",
       "2             стандартный  \n",
       "3             стандартный  \n",
       "4             стандартный  "
      ]
     },
     "execution_count": 50,
     "metadata": {},
     "output_type": "execute_result"
    }
   ],
   "source": [
    "#разделим доход по уровням и запишем полученные значения в новый столбец с присвоением названия каждой категории\n",
    "df['df_grouped_total_income'] = pd.cut(df['total_income'], 5, labels=['стандартный', 'ниже среднего', 'средний', 'выше среднего', 'высокий'])\n",
    "#посмотрим на датасет\n",
    "df.head()"
   ]
  },
  {
   "cell_type": "markdown",
   "metadata": {},
   "source": [
    "Посчитаем в количественном выражении каждую категорию и посмотрим средние значения и медианы каждой группы:"
   ]
  },
  {
   "cell_type": "code",
   "execution_count": 51,
   "metadata": {},
   "outputs": [
    {
     "data": {
      "text/html": [
       "<div>\n",
       "<style scoped>\n",
       "    .dataframe tbody tr th:only-of-type {\n",
       "        vertical-align: middle;\n",
       "    }\n",
       "\n",
       "    .dataframe tbody tr th {\n",
       "        vertical-align: top;\n",
       "    }\n",
       "\n",
       "    .dataframe thead tr th {\n",
       "        text-align: left;\n",
       "    }\n",
       "\n",
       "    .dataframe thead tr:last-of-type th {\n",
       "        text-align: right;\n",
       "    }\n",
       "</style>\n",
       "<table border=\"1\" class=\"dataframe\">\n",
       "  <thead>\n",
       "    <tr>\n",
       "      <th></th>\n",
       "      <th colspan=\"3\" halign=\"left\">total_income</th>\n",
       "    </tr>\n",
       "    <tr>\n",
       "      <th></th>\n",
       "      <th>count</th>\n",
       "      <th>mean</th>\n",
       "      <th>median</th>\n",
       "    </tr>\n",
       "    <tr>\n",
       "      <th>df_grouped_total_income</th>\n",
       "      <th></th>\n",
       "      <th></th>\n",
       "      <th></th>\n",
       "    </tr>\n",
       "  </thead>\n",
       "  <tbody>\n",
       "    <tr>\n",
       "      <td>стандартный</td>\n",
       "      <td>21167</td>\n",
       "      <td>1.586681e+05</td>\n",
       "      <td>145017</td>\n",
       "    </tr>\n",
       "    <tr>\n",
       "      <td>ниже среднего</td>\n",
       "      <td>257</td>\n",
       "      <td>5.788216e+05</td>\n",
       "      <td>546619</td>\n",
       "    </tr>\n",
       "    <tr>\n",
       "      <td>средний</td>\n",
       "      <td>21</td>\n",
       "      <td>1.101236e+06</td>\n",
       "      <td>1091627</td>\n",
       "    </tr>\n",
       "    <tr>\n",
       "      <td>выше среднего</td>\n",
       "      <td>6</td>\n",
       "      <td>1.621550e+06</td>\n",
       "      <td>1654461</td>\n",
       "    </tr>\n",
       "    <tr>\n",
       "      <td>высокий</td>\n",
       "      <td>2</td>\n",
       "      <td>2.233228e+06</td>\n",
       "      <td>2233228</td>\n",
       "    </tr>\n",
       "  </tbody>\n",
       "</table>\n",
       "</div>"
      ],
      "text/plain": [
       "                        total_income                       \n",
       "                               count          mean   median\n",
       "df_grouped_total_income                                    \n",
       "стандартный                    21167  1.586681e+05   145017\n",
       "ниже среднего                    257  5.788216e+05   546619\n",
       "средний                           21  1.101236e+06  1091627\n",
       "выше среднего                      6  1.621550e+06  1654461\n",
       "высокий                            2  2.233228e+06  2233228"
      ]
     },
     "execution_count": 51,
     "metadata": {},
     "output_type": "execute_result"
    }
   ],
   "source": [
    "#выведем значения дохода в зависимости от группы дохода\n",
    "df_grouped_total_income = df.groupby('df_grouped_total_income').agg({'total_income':['count','mean', 'median']})\n",
    "df_grouped_total_income"
   ]
  },
  {
   "cell_type": "code",
   "execution_count": 52,
   "metadata": {},
   "outputs": [
    {
     "data": {
      "text/plain": [
       "<matplotlib.axes._subplots.AxesSubplot at 0x7efe5aee0590>"
      ]
     },
     "execution_count": 52,
     "metadata": {},
     "output_type": "execute_result"
    },
    {
     "data": {
      "image/png": "[encoded data removed]",
      "text/plain": [
       "<Figure size 432x288 with 1 Axes>"
      ]
     },
     "metadata": {
      "needs_background": "light"
     },
     "output_type": "display_data"
    }
   ],
   "source": [
    "df.groupby('df_grouped_total_income')['total_income'].count().plot(kind='bar')"
   ]
  },
  {
   "cell_type": "markdown",
   "metadata": {},
   "source": [
    "Отчетливо видно, что основное количество значений дохода находится в стандартной группе. Такое неравномерное распределиение количества сильно влияет на достоверность данных в остальных группах. На основании этого было принято решение воспользоваться qcut():"
   ]
  },
  {
   "cell_type": "code",
   "execution_count": 53,
   "metadata": {},
   "outputs": [
    {
     "data": {
      "text/html": [
       "<div>\n",
       "<style scoped>\n",
       "    .dataframe tbody tr th:only-of-type {\n",
       "        vertical-align: middle;\n",
       "    }\n",
       "\n",
       "    .dataframe tbody tr th {\n",
       "        vertical-align: top;\n",
       "    }\n",
       "\n",
       "    .dataframe thead th {\n",
       "        text-align: right;\n",
       "    }\n",
       "</style>\n",
       "<table border=\"1\" class=\"dataframe\">\n",
       "  <thead>\n",
       "    <tr style=\"text-align: right;\">\n",
       "      <th></th>\n",
       "      <th>children</th>\n",
       "      <th>dob_years</th>\n",
       "      <th>education</th>\n",
       "      <th>education_id</th>\n",
       "      <th>family_status</th>\n",
       "      <th>family_status_id</th>\n",
       "      <th>gender</th>\n",
       "      <th>income_type</th>\n",
       "      <th>debt</th>\n",
       "      <th>total_income</th>\n",
       "      <th>years_employed</th>\n",
       "      <th>purpose_type</th>\n",
       "      <th>children_group</th>\n",
       "      <th>dob_years_group</th>\n",
       "      <th>df_grouped_total_income</th>\n",
       "    </tr>\n",
       "  </thead>\n",
       "  <tbody>\n",
       "    <tr>\n",
       "      <td>0</td>\n",
       "      <td>1</td>\n",
       "      <td>42.0</td>\n",
       "      <td>высшее</td>\n",
       "      <td>0</td>\n",
       "      <td>женат / замужем</td>\n",
       "      <td>0</td>\n",
       "      <td>F</td>\n",
       "      <td>сотрудник</td>\n",
       "      <td>0</td>\n",
       "      <td>253875</td>\n",
       "      <td>23</td>\n",
       "      <td>операции с недвижимостью</td>\n",
       "      <td>есть дети</td>\n",
       "      <td>взрослые</td>\n",
       "      <td>высокий</td>\n",
       "    </tr>\n",
       "    <tr>\n",
       "      <td>1</td>\n",
       "      <td>1</td>\n",
       "      <td>36.0</td>\n",
       "      <td>среднее</td>\n",
       "      <td>1</td>\n",
       "      <td>женат / замужем</td>\n",
       "      <td>0</td>\n",
       "      <td>F</td>\n",
       "      <td>сотрудник</td>\n",
       "      <td>0</td>\n",
       "      <td>112080</td>\n",
       "      <td>11</td>\n",
       "      <td>приобретение автомобиля</td>\n",
       "      <td>есть дети</td>\n",
       "      <td>взрослые</td>\n",
       "      <td>ниже среднего</td>\n",
       "    </tr>\n",
       "    <tr>\n",
       "      <td>2</td>\n",
       "      <td>0</td>\n",
       "      <td>33.0</td>\n",
       "      <td>среднее</td>\n",
       "      <td>1</td>\n",
       "      <td>женат / замужем</td>\n",
       "      <td>0</td>\n",
       "      <td>M</td>\n",
       "      <td>сотрудник</td>\n",
       "      <td>0</td>\n",
       "      <td>145886</td>\n",
       "      <td>15</td>\n",
       "      <td>операции с недвижимостью</td>\n",
       "      <td>нет детей</td>\n",
       "      <td>молодые</td>\n",
       "      <td>средний</td>\n",
       "    </tr>\n",
       "    <tr>\n",
       "      <td>3</td>\n",
       "      <td>3</td>\n",
       "      <td>32.0</td>\n",
       "      <td>среднее</td>\n",
       "      <td>1</td>\n",
       "      <td>женат / замужем</td>\n",
       "      <td>0</td>\n",
       "      <td>M</td>\n",
       "      <td>сотрудник</td>\n",
       "      <td>0</td>\n",
       "      <td>267628</td>\n",
       "      <td>11</td>\n",
       "      <td>получение образования</td>\n",
       "      <td>многодетные</td>\n",
       "      <td>молодые</td>\n",
       "      <td>высокий</td>\n",
       "    </tr>\n",
       "    <tr>\n",
       "      <td>4</td>\n",
       "      <td>0</td>\n",
       "      <td>53.0</td>\n",
       "      <td>среднее</td>\n",
       "      <td>1</td>\n",
       "      <td>гражданский брак</td>\n",
       "      <td>1</td>\n",
       "      <td>F</td>\n",
       "      <td>пенсионер</td>\n",
       "      <td>0</td>\n",
       "      <td>158616</td>\n",
       "      <td>38</td>\n",
       "      <td>проведение свадьбы</td>\n",
       "      <td>нет детей</td>\n",
       "      <td>взрослые</td>\n",
       "      <td>выше среднего</td>\n",
       "    </tr>\n",
       "  </tbody>\n",
       "</table>\n",
       "</div>"
      ],
      "text/plain": [
       "   children  dob_years education  education_id     family_status  \\\n",
       "0         1       42.0    высшее             0   женат / замужем   \n",
       "1         1       36.0   среднее             1   женат / замужем   \n",
       "2         0       33.0   среднее             1   женат / замужем   \n",
       "3         3       32.0   среднее             1   женат / замужем   \n",
       "4         0       53.0   среднее             1  гражданский брак   \n",
       "\n",
       "   family_status_id gender income_type  debt  total_income  years_employed  \\\n",
       "0                 0      F   сотрудник     0        253875              23   \n",
       "1                 0      F   сотрудник     0        112080              11   \n",
       "2                 0      M   сотрудник     0        145886              15   \n",
       "3                 0      M   сотрудник     0        267628              11   \n",
       "4                 1      F   пенсионер     0        158616              38   \n",
       "\n",
       "               purpose_type children_group dob_years_group  \\\n",
       "0  операции с недвижимостью      есть дети        взрослые   \n",
       "1   приобретение автомобиля      есть дети        взрослые   \n",
       "2  операции с недвижимостью      нет детей         молодые   \n",
       "3     получение образования    многодетные         молодые   \n",
       "4        проведение свадьбы      нет детей        взрослые   \n",
       "\n",
       "  df_grouped_total_income  \n",
       "0                 высокий  \n",
       "1           ниже среднего  \n",
       "2                 средний  \n",
       "3                 высокий  \n",
       "4           выше среднего  "
      ]
     },
     "execution_count": 53,
     "metadata": {},
     "output_type": "execute_result"
    }
   ],
   "source": [
    "#разделим доход по уровням и запишем полученные значения в новый столбец с присвоением названия каждой категории\n",
    "df['df_grouped_total_income'] = pd.qcut(df['total_income'], 5, labels=['стандартный', 'ниже среднего', 'средний', 'выше среднего', 'высокий'])\n",
    "#посмотрим на датасет\n",
    "df.head()"
   ]
  },
  {
   "cell_type": "markdown",
   "metadata": {},
   "source": [
    "Посчитаем в количественном выражении каждую категорию и посмотрим средние значения и медианы каждой группы:"
   ]
  },
  {
   "cell_type": "code",
   "execution_count": 54,
   "metadata": {},
   "outputs": [
    {
     "data": {
      "text/html": [
       "<div>\n",
       "<style scoped>\n",
       "    .dataframe tbody tr th:only-of-type {\n",
       "        vertical-align: middle;\n",
       "    }\n",
       "\n",
       "    .dataframe tbody tr th {\n",
       "        vertical-align: top;\n",
       "    }\n",
       "\n",
       "    .dataframe thead tr th {\n",
       "        text-align: left;\n",
       "    }\n",
       "\n",
       "    .dataframe thead tr:last-of-type th {\n",
       "        text-align: right;\n",
       "    }\n",
       "</style>\n",
       "<table border=\"1\" class=\"dataframe\">\n",
       "  <thead>\n",
       "    <tr>\n",
       "      <th></th>\n",
       "      <th colspan=\"3\" halign=\"left\">total_income</th>\n",
       "    </tr>\n",
       "    <tr>\n",
       "      <th></th>\n",
       "      <th>count</th>\n",
       "      <th>mean</th>\n",
       "      <th>median</th>\n",
       "    </tr>\n",
       "    <tr>\n",
       "      <th>df_grouped_total_income</th>\n",
       "      <th></th>\n",
       "      <th></th>\n",
       "      <th></th>\n",
       "    </tr>\n",
       "  </thead>\n",
       "  <tbody>\n",
       "    <tr>\n",
       "      <td>стандартный</td>\n",
       "      <td>4291</td>\n",
       "      <td>75425.800280</td>\n",
       "      <td>78716</td>\n",
       "    </tr>\n",
       "    <tr>\n",
       "      <td>ниже среднего</td>\n",
       "      <td>4290</td>\n",
       "      <td>116719.968298</td>\n",
       "      <td>116007</td>\n",
       "    </tr>\n",
       "    <tr>\n",
       "      <td>средний</td>\n",
       "      <td>4291</td>\n",
       "      <td>145240.684456</td>\n",
       "      <td>145017</td>\n",
       "    </tr>\n",
       "    <tr>\n",
       "      <td>выше среднего</td>\n",
       "      <td>4290</td>\n",
       "      <td>181666.112121</td>\n",
       "      <td>179798</td>\n",
       "    </tr>\n",
       "    <tr>\n",
       "      <td>высокий</td>\n",
       "      <td>4291</td>\n",
       "      <td>307072.903053</td>\n",
       "      <td>269801</td>\n",
       "    </tr>\n",
       "  </tbody>\n",
       "</table>\n",
       "</div>"
      ],
      "text/plain": [
       "                        total_income                       \n",
       "                               count           mean  median\n",
       "df_grouped_total_income                                    \n",
       "стандартный                     4291   75425.800280   78716\n",
       "ниже среднего                   4290  116719.968298  116007\n",
       "средний                         4291  145240.684456  145017\n",
       "выше среднего                   4290  181666.112121  179798\n",
       "высокий                         4291  307072.903053  269801"
      ]
     },
     "execution_count": 54,
     "metadata": {},
     "output_type": "execute_result"
    }
   ],
   "source": [
    "#выведем значения дохода в зависимости от группы дохода\n",
    "df_grouped_total_income = df.groupby('df_grouped_total_income').agg({'total_income':['count','mean', 'median']})\n",
    "df_grouped_total_income"
   ]
  },
  {
   "cell_type": "markdown",
   "metadata": {},
   "source": [
    "Теперь видно, что категории по количеству значений однородны, соответсвенно здесь нам можно ориентироваться на количественные значения каждой группы."
   ]
  },
  {
   "cell_type": "markdown",
   "metadata": {},
   "source": [
    "### Вывод"
   ]
  },
  {
   "cell_type": "markdown",
   "metadata": {},
   "source": [
    "На данном этапе были категоризированы столбцы *children* по количеству детей и *dob_years* по возрастным группам. На основании проведенного анализа было выявлено, что две трети заемщиков не имеют детей, а также больше половины всех заемщиков находятся в категории *взрослые* (от 35 до 60 лет). Также проведена категоризация дохода на пять групп."
   ]
  },
  {
   "cell_type": "markdown",
   "metadata": {},
   "source": [
    "### Шаг 3. Ответьте на вопросы"
   ]
  },
  {
   "cell_type": "markdown",
   "metadata": {},
   "source": [
    "Предварительно посмотрим на распределение значений просрочек и возвратов:"
   ]
  },
  {
   "cell_type": "code",
   "execution_count": 56,
   "metadata": {},
   "outputs": [
    {
     "data": {
      "text/plain": [
       "0    19712\n",
       "1     1741\n",
       "Name: debt, dtype: int64"
      ]
     },
     "execution_count": 56,
     "metadata": {},
     "output_type": "execute_result"
    }
   ],
   "source": [
    "df['debt'].value_counts()"
   ]
  },
  {
   "cell_type": "markdown",
   "metadata": {},
   "source": [
    "- Есть ли зависимость между наличием детей и возвратом кредита в срок?"
   ]
  },
  {
   "cell_type": "markdown",
   "metadata": {},
   "source": [
    "Проведем анализ зависимости путем построения сводной таблицы и графика."
   ]
  },
  {
   "cell_type": "code",
   "execution_count": 57,
   "metadata": {},
   "outputs": [
    {
     "data": {
      "text/html": [
       "<div>\n",
       "<style scoped>\n",
       "    .dataframe tbody tr th:only-of-type {\n",
       "        vertical-align: middle;\n",
       "    }\n",
       "\n",
       "    .dataframe tbody tr th {\n",
       "        vertical-align: top;\n",
       "    }\n",
       "\n",
       "    .dataframe thead tr th {\n",
       "        text-align: left;\n",
       "    }\n",
       "\n",
       "    .dataframe thead tr:last-of-type th {\n",
       "        text-align: right;\n",
       "    }\n",
       "</style>\n",
       "<table border=\"1\" class=\"dataframe\">\n",
       "  <thead>\n",
       "    <tr>\n",
       "      <th></th>\n",
       "      <th colspan=\"2\" halign=\"left\">debt</th>\n",
       "    </tr>\n",
       "    <tr>\n",
       "      <th></th>\n",
       "      <th>count</th>\n",
       "      <th>mean</th>\n",
       "    </tr>\n",
       "    <tr>\n",
       "      <th>children_group</th>\n",
       "      <th></th>\n",
       "      <th></th>\n",
       "    </tr>\n",
       "  </thead>\n",
       "  <tbody>\n",
       "    <tr>\n",
       "      <td>есть дети</td>\n",
       "      <td>6983</td>\n",
       "      <td>0.092654</td>\n",
       "    </tr>\n",
       "    <tr>\n",
       "      <td>многодетные</td>\n",
       "      <td>380</td>\n",
       "      <td>0.081579</td>\n",
       "    </tr>\n",
       "    <tr>\n",
       "      <td>нет детей</td>\n",
       "      <td>14090</td>\n",
       "      <td>0.075444</td>\n",
       "    </tr>\n",
       "  </tbody>\n",
       "</table>\n",
       "</div>"
      ],
      "text/plain": [
       "                 debt          \n",
       "                count      mean\n",
       "children_group                 \n",
       "есть дети        6983  0.092654\n",
       "многодетные       380  0.081579\n",
       "нет детей       14090  0.075444"
      ]
     },
     "execution_count": 57,
     "metadata": {},
     "output_type": "execute_result"
    }
   ],
   "source": [
    "#сгруппируем количество просрочек по группе наличия детей и применим методы\n",
    "df_grouped_children_debt = df.groupby('children_group').agg({'debt':['count','mean']})\n",
    "df_grouped_children_debt"
   ]
  },
  {
   "cell_type": "code",
   "execution_count": 58,
   "metadata": {},
   "outputs": [
    {
     "data": {
      "text/plain": [
       "<matplotlib.axes._subplots.AxesSubplot at 0x7efe5af18810>"
      ]
     },
     "execution_count": 58,
     "metadata": {},
     "output_type": "execute_result"
    },
    {
     "data": {
      "image/png": "[encoded data removed]",
      "text/plain": [
       "<Figure size 432x288 with 1 Axes>"
      ]
     },
     "metadata": {
      "needs_background": "light"
     },
     "output_type": "display_data"
    }
   ],
   "source": [
    "#построим график\n",
    "df.groupby('children_group')['debt'].mean().plot(kind='bar')"
   ]
  },
  {
   "cell_type": "markdown",
   "metadata": {},
   "source": [
    "### Вывод"
   ]
  },
  {
   "cell_type": "markdown",
   "metadata": {},
   "source": [
    "В ходе анализа зависимости между наличием детей и возвратом кредита в срок было выявлено, что наименьшее число просрочек допускают заемщики у которых нет детей. Предположительно данная зависимость может быть обусловлена наличием бытовых расходов и дополнительных забот, связанных с наличием детей. В следсвие чего, заемщики, имеющие детей могут забывать о наличии кредита или может возникать нехватка денежных средств на его погашение."
   ]
  },
  {
   "cell_type": "markdown",
   "metadata": {},
   "source": [
    "- Есть ли зависимость между семейным положением и возвратом кредита в срок?"
   ]
  },
  {
   "cell_type": "markdown",
   "metadata": {},
   "source": [
    "Проведем анализ зависимости путем построения сводной таблицы и графика."
   ]
  },
  {
   "cell_type": "code",
   "execution_count": 59,
   "metadata": {},
   "outputs": [
    {
     "data": {
      "text/html": [
       "<div>\n",
       "<style scoped>\n",
       "    .dataframe tbody tr th:only-of-type {\n",
       "        vertical-align: middle;\n",
       "    }\n",
       "\n",
       "    .dataframe tbody tr th {\n",
       "        vertical-align: top;\n",
       "    }\n",
       "\n",
       "    .dataframe thead tr th {\n",
       "        text-align: left;\n",
       "    }\n",
       "\n",
       "    .dataframe thead tr:last-of-type th {\n",
       "        text-align: right;\n",
       "    }\n",
       "</style>\n",
       "<table border=\"1\" class=\"dataframe\">\n",
       "  <thead>\n",
       "    <tr>\n",
       "      <th></th>\n",
       "      <th colspan=\"2\" halign=\"left\">debt</th>\n",
       "    </tr>\n",
       "    <tr>\n",
       "      <th></th>\n",
       "      <th>count</th>\n",
       "      <th>mean</th>\n",
       "    </tr>\n",
       "    <tr>\n",
       "      <th>family_status</th>\n",
       "      <th></th>\n",
       "      <th></th>\n",
       "    </tr>\n",
       "  </thead>\n",
       "  <tbody>\n",
       "    <tr>\n",
       "      <td>в разводе</td>\n",
       "      <td>1195</td>\n",
       "      <td>0.071130</td>\n",
       "    </tr>\n",
       "    <tr>\n",
       "      <td>вдовец / вдова</td>\n",
       "      <td>959</td>\n",
       "      <td>0.065693</td>\n",
       "    </tr>\n",
       "    <tr>\n",
       "      <td>гражданский брак</td>\n",
       "      <td>4150</td>\n",
       "      <td>0.093494</td>\n",
       "    </tr>\n",
       "    <tr>\n",
       "      <td>женат / замужем</td>\n",
       "      <td>12339</td>\n",
       "      <td>0.075452</td>\n",
       "    </tr>\n",
       "    <tr>\n",
       "      <td>не женат / не замужем</td>\n",
       "      <td>2810</td>\n",
       "      <td>0.097509</td>\n",
       "    </tr>\n",
       "  </tbody>\n",
       "</table>\n",
       "</div>"
      ],
      "text/plain": [
       "                        debt          \n",
       "                       count      mean\n",
       "family_status                         \n",
       "в разводе               1195  0.071130\n",
       "вдовец / вдова           959  0.065693\n",
       "гражданский брак        4150  0.093494\n",
       "женат / замужем        12339  0.075452\n",
       "не женат / не замужем   2810  0.097509"
      ]
     },
     "execution_count": 59,
     "metadata": {},
     "output_type": "execute_result"
    }
   ],
   "source": [
    "#сгруппируем количество просрочек по группе семейного статуса и применим методы\n",
    "df_grouped_family_status_debt = df.groupby('family_status').agg({'debt':['count','mean']})\n",
    "df_grouped_family_status_debt"
   ]
  },
  {
   "cell_type": "code",
   "execution_count": 60,
   "metadata": {},
   "outputs": [
    {
     "data": {
      "text/plain": [
       "<matplotlib.axes._subplots.AxesSubplot at 0x7efe78e427d0>"
      ]
     },
     "execution_count": 60,
     "metadata": {},
     "output_type": "execute_result"
    },
    {
     "data": {
      "image/png": "[encoded data removed]",
      "text/plain": [
       "<Figure size 432x288 with 1 Axes>"
      ]
     },
     "metadata": {
      "needs_background": "light"
     },
     "output_type": "display_data"
    }
   ],
   "source": [
    "#построим график\n",
    "df.groupby('family_status')['debt'].mean().sort_values(ascending=False).plot(kind='bar')"
   ]
  },
  {
   "cell_type": "markdown",
   "metadata": {},
   "source": [
    "### Вывод"
   ]
  },
  {
   "cell_type": "markdown",
   "metadata": {},
   "source": [
    "В ходе анализа зависимости между семейным положением и возвратом кредита в срок было выявлено, что с процессом жизни и сменой семейных статусов ответсвенность заемщиков повышается. Если расмотреть типичные паттерны поведения людей, находящихся в разных социальных ролях относительно брака, то можно отметить, что самыми \"безответсвенными\" являются как правило одинокие ничем не обязанные кому-либо люди. Не удивительно, что данная теория находит свое отражение и в нашем исследовании. Соответственно, в глазах займодателя наименнее рискованными группами будут являются, которые содержат в себе людей, принявших на себя определенные обязанности и ответсвенность перед другими людьми на официального \"договора\"(к чему относится и брак), что и подтверждают данные нашего анализа. "
   ]
  },
  {
   "cell_type": "markdown",
   "metadata": {},
   "source": [
    "- Есть ли зависимость между уровнем дохода и возвратом кредита в срок?"
   ]
  },
  {
   "cell_type": "markdown",
   "metadata": {},
   "source": [
    "В ходе анализа двух предыдущих этапов и выявления зависимостей было отмечено, что механика действий для построения сводной таблицы и графика идентична. На основании этого было принято решение создать функцию для повторения этих действий:"
   ]
  },
  {
   "cell_type": "code",
   "execution_count": 61,
   "metadata": {},
   "outputs": [],
   "source": [
    "#создадим функцию для генерации таблицы и графика при формировании вывода\n",
    "def generate_report(df, group, chart_type):\n",
    "    df_grouped_purpose_debt = df.groupby(group).agg({'debt':['count','mean']})\n",
    "    print(df_grouped_purpose_debt)\n",
    "    df.groupby(group)['debt'].mean().sort_values(ascending=False).plot(kind=chart_type)"
   ]
  },
  {
   "cell_type": "markdown",
   "metadata": {},
   "source": [
    "Применим функцию для выявления зависимости:"
   ]
  },
  {
   "cell_type": "code",
   "execution_count": 62,
   "metadata": {},
   "outputs": [
    {
     "name": "stdout",
     "output_type": "stream",
     "text": [
      "                         debt          \n",
      "                        count      mean\n",
      "df_grouped_total_income                \n",
      "стандартный              4291  0.080168\n",
      "ниже среднего            4290  0.082751\n",
      "средний                  4291  0.086693\n",
      "выше среднего            4290  0.086247\n",
      "высокий                  4291  0.069914\n"
     ]
    },
    {
     "data": {
      "image/png": "[encoded data removed]",
      "text/plain": [
       "<Figure size 432x288 with 1 Axes>"
      ]
     },
     "metadata": {
      "needs_background": "light"
     },
     "output_type": "display_data"
    }
   ],
   "source": [
    "#передадим функции в качестве параметров столбец для зависимости и вид графика\n",
    "generate_report(df, 'df_grouped_total_income', 'bar')"
   ]
  },
  {
   "cell_type": "markdown",
   "metadata": {},
   "source": [
    "С помощью функции мы получили необходимую сводную таблицу и график."
   ]
  },
  {
   "cell_type": "markdown",
   "metadata": {},
   "source": [
    "### Вывод"
   ]
  },
  {
   "cell_type": "markdown",
   "metadata": {},
   "source": [
    "Изучив результаты анализа зависимости между уровнем дохода и возвратом кредита в срок можно отметить, что наибольшую просрочку допускают заемщики со средним и выше среднего уровнями дохода, что обусловлено психологическими особенностями поведения людей при обращении с денежными ресурсами. Средний и выше среднего уровни дохода позволяют людям рассчитывать на большее количество материальных благ, но не настолько, чтобы не заботится о денежных ресурсах, за счет которых они прибретены. Соответсвенно, доходы заемщика ниже среднего и стандартный обеспечивают займодателя увернностью о снижении риска просрочки, так как таким клиентам всеже приходится следить за расходованием своих ресурсов. Наименее рискованной по результатам анализа оказалась группой с клиентами, имеющими высокий доход, так как эти люди имеют достаточно денежных ресурсов и источников доходов, чтобы покрывать свои обязательства.\n"
   ]
  },
  {
   "cell_type": "markdown",
   "metadata": {},
   "source": [
    "- Как разные цели кредита влияют на его возврат в срок?"
   ]
  },
  {
   "cell_type": "markdown",
   "metadata": {},
   "source": [
    "Проведем анализ зависимости путем построения сводной таблицы и графика с помощью функции."
   ]
  },
  {
   "cell_type": "code",
   "execution_count": 63,
   "metadata": {},
   "outputs": [
    {
     "name": "stdout",
     "output_type": "stream",
     "text": [
      "                           debt          \n",
      "                          count      mean\n",
      "purpose_type                             \n",
      "операции с недвижимостью  10811  0.072334\n",
      "получение образования      4013  0.092200\n",
      "приобретение автомобиля    4306  0.093590\n",
      "проведение свадьбы         2323  0.080069\n"
     ]
    },
    {
     "data": {
      "image/png": "[encoded data removed]",
      "text/plain": [
       "<Figure size 432x288 with 1 Axes>"
      ]
     },
     "metadata": {
      "needs_background": "light"
     },
     "output_type": "display_data"
    }
   ],
   "source": [
    "#передадим функции в качестве параметров столбец для зависимости и вид графика\n",
    "generate_report(df, 'purpose_type', 'bar')"
   ]
  },
  {
   "cell_type": "markdown",
   "metadata": {},
   "source": [
    "### Вывод"
   ]
  },
  {
   "cell_type": "markdown",
   "metadata": {},
   "source": [
    "В ходе анализа зависимости между целью кредита и возвратом кредита в срок было выявлено, что наименее рисковым явлеются цели связанные с операциями с недвижимостью, при как мы помним наибольшем количестве выданных займов под эту цель. Предположительно заемщики, взявшие кредит под операции с недвижимостью не несут существенных расходов по содержанию данного типа имущества, а также имущество такого типа имеют более высокую ценность с психолошической точки зрения. Никто не хочет лишиться жилья или недвижимости для бизнеса из-за невозможночти уплаты кредита. Отмечено, что чаще всего просрочки допускают при приобретении автомобиля, что может быть связано с наличием дополнительных расходов, которые ложатся на плечи автовладельца при появлении автомобиля, и которые заемщики не учитывают при взятии кредита."
   ]
  },
  {
   "cell_type": "markdown",
   "metadata": {},
   "source": [
    "### Шаг 4. Общий вывод"
   ]
  },
  {
   "cell_type": "markdown",
   "metadata": {},
   "source": [
    "В ходе анализа зависимостей между определенным фактором и возвратом кредита в срок были выявлены следующие наблюдения:\n",
    "* наименьшее число просрочек допускают заемщики у которых нет детей (предположительно данная зависимость может быть обусловлена наличием бытовых расходов и дополнительных забот, связанных с наличием детей);\n",
    "* с процессом смены семейных статусов ответсвенность заемщиков повышается, больше всего просрочек допускают заемщики не состоящие в официальном браке (в нашем исследовании нашла отражение теория паттернов социального поведения людей, находящихся в разных ролях относительно бракая. Можно отметить, что самыми \"безответсвенными\" являются как правило одинокие и ничем не обязанные кому-либо люди. Не удивительно, что данная теория находит свое отражение и в нашем исследовании);\n",
    "* наибольшую просрочку допускают заемщики со средним и выше среднего уровнями дохода, что обусловлено психологическими особенностями поведения людей при обращении с денежными ресурсами. Соответсвенно, доходы заемщика ниже среднего и стандартный обеспечивают займодателя увернностью о снижении риска просрочки. Наименее рискованной по результатам анализа оказалась группой с клиентами, имеющими высокий доход;\n",
    "* наименее рисковым являются цели связанные с операциями с недвижимостью. Чаще всего просрочки допускают при приобретении автомобиля, что может быть связано с наличием дополнительных расходов, которые ложатся на плечи автовладельца при появлении автомобиля, и которые заемщики не учитывают при взятии кредита."
   ]
  }
 ],
 "metadata": {
  "kernelspec": {
   "display_name": "Python 3",
   "language": "python",
   "name": "python3"
  },
  "language_info": {
   "codemirror_mode": {
    "name": "ipython",
    "version": 3
   },
   "file_extension": ".py",
   "mimetype": "text/x-python",
   "name": "python",
   "nbconvert_exporter": "python",
   "pygments_lexer": "ipython3",
   "version": "3.7.4"
  },
  "toc": {
   "base_numbering": 1,
   "nav_menu": {},
   "number_sections": true,
   "sideBar": true,
   "skip_h1_title": true,
   "title_cell": "Table of Contents",
   "title_sidebar": "Contents",
   "toc_cell": false,
   "toc_position": {},
   "toc_section_display": true,
   "toc_window_display": false
  }
 },
 "nbformat": 4,
 "nbformat_minor": 2
}
